{
 "cells": [
  {
   "cell_type": "code",
   "metadata": {
    "tags": [],
    "cell_id": "4dce08b6-a29e-47e2-85a1-0a4510f8c8a7",
    "deepnote_to_be_reexecuted": false,
    "source_hash": "bf903efd",
    "execution_start": 1662672886759,
    "execution_millis": 3384,
    "deepnote_cell_type": "code",
    "deepnote_cell_height": 130
   },
   "source": "import matplotlib.pyplot as plt\nimport numpy as np\nimport pandas as pd\nimport seaborn as sns",
   "execution_count": 1,
   "outputs": []
  },
  {
   "cell_type": "markdown",
   "source": "# Premier League - Statistics",
   "metadata": {
    "formattedRanges": [],
    "is_collapsed": false,
    "cell_id": "70f61a5b01e549f08c4c906e3ce07a0d",
    "tags": [],
    "deepnote_cell_type": "text-cell-h1"
   }
  },
  {
   "cell_type": "code",
   "metadata": {
    "cell_id": "ea79f07ae2e24b189bf4a38fa4a2da6c",
    "tags": [],
    "deepnote_to_be_reexecuted": false,
    "source_hash": "88de7586",
    "execution_start": 1662672890194,
    "execution_millis": 107,
    "deepnote_cell_type": "code",
    "deepnote_cell_height": 480.65625
   },
   "source": "#My dataset \ndf_pl = pd.read_csv('/work/EPL_standings_2000-2022.csv', header=0, sep=',')\ndf_pl.rename(columns={'Pos': 'Position', 'Pld': 'Matchs', 'W': 'Wins', 'D': 'Draws', \n'L': 'Losses', 'GF': 'Goals Scored', 'GA': 'Goals Conceded', 'GD': 'Goals difference'}, inplace=True)\ndf_pl.head()",
   "execution_count": 2,
   "outputs": [
    {
     "output_type": "execute_result",
     "execution_count": 2,
     "data": {
      "application/vnd.deepnote.dataframe.v3+json": {
       "column_count": 12,
       "row_count": 5,
       "columns": [
        {
         "name": "Season",
         "dtype": "object",
         "stats": {
          "unique_count": 1,
          "nan_count": 0,
          "categories": [
           {
            "name": "2000-01",
            "count": 5
           }
          ]
         }
        },
        {
         "name": "Position",
         "dtype": "int64",
         "stats": {
          "unique_count": 5,
          "nan_count": 0,
          "min": "1",
          "max": "5",
          "histogram": [
           {
            "bin_start": 1,
            "bin_end": 1.4,
            "count": 1
           },
           {
            "bin_start": 1.4,
            "bin_end": 1.8,
            "count": 0
           },
           {
            "bin_start": 1.8,
            "bin_end": 2.2,
            "count": 1
           },
           {
            "bin_start": 2.2,
            "bin_end": 2.6,
            "count": 0
           },
           {
            "bin_start": 2.6,
            "bin_end": 3,
            "count": 0
           },
           {
            "bin_start": 3,
            "bin_end": 3.4000000000000004,
            "count": 1
           },
           {
            "bin_start": 3.4000000000000004,
            "bin_end": 3.8000000000000003,
            "count": 0
           },
           {
            "bin_start": 3.8000000000000003,
            "bin_end": 4.2,
            "count": 1
           },
           {
            "bin_start": 4.2,
            "bin_end": 4.6,
            "count": 0
           },
           {
            "bin_start": 4.6,
            "bin_end": 5,
            "count": 1
           }
          ]
         }
        },
        {
         "name": "Team",
         "dtype": "object",
         "stats": {
          "unique_count": 5,
          "nan_count": 0,
          "categories": [
           {
            "name": "Manchester United",
            "count": 1
           },
           {
            "name": "Arsenal",
            "count": 1
           },
           {
            "name": "3 others",
            "count": 3
           }
          ]
         }
        },
        {
         "name": "Matchs",
         "dtype": "int64",
         "stats": {
          "unique_count": 1,
          "nan_count": 0,
          "min": "38",
          "max": "38",
          "histogram": [
           {
            "bin_start": 37.5,
            "bin_end": 37.6,
            "count": 0
           },
           {
            "bin_start": 37.6,
            "bin_end": 37.7,
            "count": 0
           },
           {
            "bin_start": 37.7,
            "bin_end": 37.8,
            "count": 0
           },
           {
            "bin_start": 37.8,
            "bin_end": 37.9,
            "count": 0
           },
           {
            "bin_start": 37.9,
            "bin_end": 38,
            "count": 0
           },
           {
            "bin_start": 38,
            "bin_end": 38.1,
            "count": 5
           },
           {
            "bin_start": 38.1,
            "bin_end": 38.2,
            "count": 0
           },
           {
            "bin_start": 38.2,
            "bin_end": 38.3,
            "count": 0
           },
           {
            "bin_start": 38.3,
            "bin_end": 38.4,
            "count": 0
           },
           {
            "bin_start": 38.4,
            "bin_end": 38.5,
            "count": 0
           }
          ]
         }
        },
        {
         "name": "Wins",
         "dtype": "int64",
         "stats": {
          "unique_count": 2,
          "nan_count": 0,
          "min": "20",
          "max": "24",
          "histogram": [
           {
            "bin_start": 20,
            "bin_end": 20.4,
            "count": 4
           },
           {
            "bin_start": 20.4,
            "bin_end": 20.8,
            "count": 0
           },
           {
            "bin_start": 20.8,
            "bin_end": 21.2,
            "count": 0
           },
           {
            "bin_start": 21.2,
            "bin_end": 21.6,
            "count": 0
           },
           {
            "bin_start": 21.6,
            "bin_end": 22,
            "count": 0
           },
           {
            "bin_start": 22,
            "bin_end": 22.4,
            "count": 0
           },
           {
            "bin_start": 22.4,
            "bin_end": 22.8,
            "count": 0
           },
           {
            "bin_start": 22.8,
            "bin_end": 23.2,
            "count": 0
           },
           {
            "bin_start": 23.2,
            "bin_end": 23.6,
            "count": 0
           },
           {
            "bin_start": 23.6,
            "bin_end": 24,
            "count": 1
           }
          ]
         }
        },
        {
         "name": "Draws",
         "dtype": "int64",
         "stats": {
          "unique_count": 4,
          "nan_count": 0,
          "min": "6",
          "max": "10",
          "histogram": [
           {
            "bin_start": 6,
            "bin_end": 6.4,
            "count": 1
           },
           {
            "bin_start": 6.4,
            "bin_end": 6.8,
            "count": 0
           },
           {
            "bin_start": 6.8,
            "bin_end": 7.2,
            "count": 0
           },
           {
            "bin_start": 7.2,
            "bin_end": 7.6,
            "count": 0
           },
           {
            "bin_start": 7.6,
            "bin_end": 8,
            "count": 0
           },
           {
            "bin_start": 8,
            "bin_end": 8.4,
            "count": 2
           },
           {
            "bin_start": 8.4,
            "bin_end": 8.8,
            "count": 0
           },
           {
            "bin_start": 8.8,
            "bin_end": 9.2,
            "count": 1
           },
           {
            "bin_start": 9.2,
            "bin_end": 9.6,
            "count": 0
           },
           {
            "bin_start": 9.6,
            "bin_end": 10,
            "count": 1
           }
          ]
         }
        },
        {
         "name": "Losses",
         "dtype": "int64",
         "stats": {
          "unique_count": 5,
          "nan_count": 0,
          "min": "6",
          "max": "12",
          "histogram": [
           {
            "bin_start": 6,
            "bin_end": 6.6,
            "count": 1
           },
           {
            "bin_start": 6.6,
            "bin_end": 7.2,
            "count": 0
           },
           {
            "bin_start": 7.2,
            "bin_end": 7.8,
            "count": 0
           },
           {
            "bin_start": 7.8,
            "bin_end": 8.4,
            "count": 1
           },
           {
            "bin_start": 8.4,
            "bin_end": 9,
            "count": 0
           },
           {
            "bin_start": 9,
            "bin_end": 9.6,
            "count": 1
           },
           {
            "bin_start": 9.6,
            "bin_end": 10.2,
            "count": 1
           },
           {
            "bin_start": 10.2,
            "bin_end": 10.8,
            "count": 0
           },
           {
            "bin_start": 10.8,
            "bin_end": 11.399999999999999,
            "count": 0
           },
           {
            "bin_start": 11.399999999999999,
            "bin_end": 12,
            "count": 1
           }
          ]
         }
        },
        {
         "name": "Goals Scored",
         "dtype": "int64",
         "stats": {
          "unique_count": 5,
          "nan_count": 0,
          "min": "57",
          "max": "79",
          "histogram": [
           {
            "bin_start": 57,
            "bin_end": 59.2,
            "count": 1
           },
           {
            "bin_start": 59.2,
            "bin_end": 61.4,
            "count": 0
           },
           {
            "bin_start": 61.4,
            "bin_end": 63.6,
            "count": 1
           },
           {
            "bin_start": 63.6,
            "bin_end": 65.8,
            "count": 1
           },
           {
            "bin_start": 65.8,
            "bin_end": 68,
            "count": 0
           },
           {
            "bin_start": 68,
            "bin_end": 70.2,
            "count": 0
           },
           {
            "bin_start": 70.2,
            "bin_end": 72.4,
            "count": 1
           },
           {
            "bin_start": 72.4,
            "bin_end": 74.6,
            "count": 0
           },
           {
            "bin_start": 74.6,
            "bin_end": 76.8,
            "count": 0
           },
           {
            "bin_start": 76.8,
            "bin_end": 79,
            "count": 1
           }
          ]
         }
        },
        {
         "name": "Goals Conceded",
         "dtype": "int64",
         "stats": {
          "unique_count": 5,
          "nan_count": 0,
          "min": "31",
          "max": "43",
          "histogram": [
           {
            "bin_start": 31,
            "bin_end": 32.2,
            "count": 1
           },
           {
            "bin_start": 32.2,
            "bin_end": 33.4,
            "count": 0
           },
           {
            "bin_start": 33.4,
            "bin_end": 34.6,
            "count": 0
           },
           {
            "bin_start": 34.6,
            "bin_end": 35.8,
            "count": 0
           },
           {
            "bin_start": 35.8,
            "bin_end": 37,
            "count": 0
           },
           {
            "bin_start": 37,
            "bin_end": 38.2,
            "count": 1
           },
           {
            "bin_start": 38.2,
            "bin_end": 39.4,
            "count": 1
           },
           {
            "bin_start": 39.4,
            "bin_end": 40.6,
            "count": 0
           },
           {
            "bin_start": 40.6,
            "bin_end": 41.8,
            "count": 0
           },
           {
            "bin_start": 41.8,
            "bin_end": 43,
            "count": 2
           }
          ]
         }
        },
        {
         "name": "Goals difference",
         "dtype": "int64",
         "stats": {
          "unique_count": 5,
          "nan_count": 0,
          "min": "15",
          "max": "48",
          "histogram": [
           {
            "bin_start": 15,
            "bin_end": 18.3,
            "count": 1
           },
           {
            "bin_start": 18.3,
            "bin_end": 21.6,
            "count": 1
           },
           {
            "bin_start": 21.6,
            "bin_end": 24.9,
            "count": 0
           },
           {
            "bin_start": 24.9,
            "bin_end": 28.2,
            "count": 1
           },
           {
            "bin_start": 28.2,
            "bin_end": 31.5,
            "count": 0
           },
           {
            "bin_start": 31.5,
            "bin_end": 34.8,
            "count": 1
           },
           {
            "bin_start": 34.8,
            "bin_end": 38.099999999999994,
            "count": 0
           },
           {
            "bin_start": 38.099999999999994,
            "bin_end": 41.4,
            "count": 0
           },
           {
            "bin_start": 41.4,
            "bin_end": 44.7,
            "count": 0
           },
           {
            "bin_start": 44.7,
            "bin_end": 48,
            "count": 1
           }
          ]
         }
        },
        {
         "name": "Pts",
         "dtype": "int64",
         "stats": {
          "unique_count": 5,
          "nan_count": 0,
          "min": "66",
          "max": "80",
          "histogram": [
           {
            "bin_start": 66,
            "bin_end": 67.4,
            "count": 1
           },
           {
            "bin_start": 67.4,
            "bin_end": 68.8,
            "count": 1
           },
           {
            "bin_start": 68.8,
            "bin_end": 70.2,
            "count": 2
           },
           {
            "bin_start": 70.2,
            "bin_end": 71.6,
            "count": 0
           },
           {
            "bin_start": 71.6,
            "bin_end": 73,
            "count": 0
           },
           {
            "bin_start": 73,
            "bin_end": 74.4,
            "count": 0
           },
           {
            "bin_start": 74.4,
            "bin_end": 75.8,
            "count": 0
           },
           {
            "bin_start": 75.8,
            "bin_end": 77.2,
            "count": 0
           },
           {
            "bin_start": 77.2,
            "bin_end": 78.6,
            "count": 0
           },
           {
            "bin_start": 78.6,
            "bin_end": 80,
            "count": 1
           }
          ]
         }
        },
        {
         "name": "Qualification or relegation",
         "dtype": "object",
         "stats": {
          "unique_count": 3,
          "nan_count": 0,
          "categories": [
           {
            "name": "Qualification for the Champions League first group stage",
            "count": 2
           },
           {
            "name": "Qualification for the UEFA Cup first round[a]",
            "count": 2
           },
           {
            "name": "Qualification for the Champions League third qualifying round[a]",
            "count": 1
           }
          ]
         }
        },
        {
         "name": "_deepnote_index_column",
         "dtype": "int64"
        }
       ],
       "rows": [
        {
         "Season": "2000-01",
         "Position": "1",
         "Team": "Manchester United",
         "Matchs": "38",
         "Wins": "24",
         "Draws": "8",
         "Losses": "6",
         "Goals Scored": "79",
         "Goals Conceded": "31",
         "Goals difference": "48",
         "Pts": "80",
         "Qualification or relegation": "Qualification for the Champions League first group stage",
         "_deepnote_index_column": "0"
        },
        {
         "Season": "2000-01",
         "Position": "2",
         "Team": "Arsenal",
         "Matchs": "38",
         "Wins": "20",
         "Draws": "10",
         "Losses": "8",
         "Goals Scored": "63",
         "Goals Conceded": "38",
         "Goals difference": "25",
         "Pts": "70",
         "Qualification or relegation": "Qualification for the Champions League first group stage",
         "_deepnote_index_column": "1"
        },
        {
         "Season": "2000-01",
         "Position": "3",
         "Team": "Liverpool",
         "Matchs": "38",
         "Wins": "20",
         "Draws": "9",
         "Losses": "9",
         "Goals Scored": "71",
         "Goals Conceded": "39",
         "Goals difference": "32",
         "Pts": "69",
         "Qualification or relegation": "Qualification for the Champions League third qualifying round[a]",
         "_deepnote_index_column": "2"
        },
        {
         "Season": "2000-01",
         "Position": "4",
         "Team": "Leeds United",
         "Matchs": "38",
         "Wins": "20",
         "Draws": "8",
         "Losses": "10",
         "Goals Scored": "64",
         "Goals Conceded": "43",
         "Goals difference": "21",
         "Pts": "68",
         "Qualification or relegation": "Qualification for the UEFA Cup first round[a]",
         "_deepnote_index_column": "3"
        },
        {
         "Season": "2000-01",
         "Position": "5",
         "Team": "Ipswich Town",
         "Matchs": "38",
         "Wins": "20",
         "Draws": "6",
         "Losses": "12",
         "Goals Scored": "57",
         "Goals Conceded": "42",
         "Goals difference": "15",
         "Pts": "66",
         "Qualification or relegation": "Qualification for the UEFA Cup first round[a]",
         "_deepnote_index_column": "4"
        }
       ]
      },
      "text/plain": "    Season  Position               Team  Matchs  Wins  Draws  Losses  \\\n0  2000-01         1  Manchester United      38    24      8       6   \n1  2000-01         2            Arsenal      38    20     10       8   \n2  2000-01         3          Liverpool      38    20      9       9   \n3  2000-01         4       Leeds United      38    20      8      10   \n4  2000-01         5       Ipswich Town      38    20      6      12   \n\n   Goals Scored  Goals Conceded  Goals difference  Pts  \\\n0            79              31                48   80   \n1            63              38                25   70   \n2            71              39                32   69   \n3            64              43                21   68   \n4            57              42                15   66   \n\n                         Qualification or relegation  \n0  Qualification for the Champions League first g...  \n1  Qualification for the Champions League first g...  \n2  Qualification for the Champions League third q...  \n3      Qualification for the UEFA Cup first round[a]  \n4      Qualification for the UEFA Cup first round[a]  ",
      "text/html": "<div>\n<style scoped>\n    .dataframe tbody tr th:only-of-type {\n        vertical-align: middle;\n    }\n\n    .dataframe tbody tr th {\n        vertical-align: top;\n    }\n\n    .dataframe thead th {\n        text-align: right;\n    }\n</style>\n<table border=\"1\" class=\"dataframe\">\n  <thead>\n    <tr style=\"text-align: right;\">\n      <th></th>\n      <th>Season</th>\n      <th>Position</th>\n      <th>Team</th>\n      <th>Matchs</th>\n      <th>Wins</th>\n      <th>Draws</th>\n      <th>Losses</th>\n      <th>Goals Scored</th>\n      <th>Goals Conceded</th>\n      <th>Goals difference</th>\n      <th>Pts</th>\n      <th>Qualification or relegation</th>\n    </tr>\n  </thead>\n  <tbody>\n    <tr>\n      <th>0</th>\n      <td>2000-01</td>\n      <td>1</td>\n      <td>Manchester United</td>\n      <td>38</td>\n      <td>24</td>\n      <td>8</td>\n      <td>6</td>\n      <td>79</td>\n      <td>31</td>\n      <td>48</td>\n      <td>80</td>\n      <td>Qualification for the Champions League first g...</td>\n    </tr>\n    <tr>\n      <th>1</th>\n      <td>2000-01</td>\n      <td>2</td>\n      <td>Arsenal</td>\n      <td>38</td>\n      <td>20</td>\n      <td>10</td>\n      <td>8</td>\n      <td>63</td>\n      <td>38</td>\n      <td>25</td>\n      <td>70</td>\n      <td>Qualification for the Champions League first g...</td>\n    </tr>\n    <tr>\n      <th>2</th>\n      <td>2000-01</td>\n      <td>3</td>\n      <td>Liverpool</td>\n      <td>38</td>\n      <td>20</td>\n      <td>9</td>\n      <td>9</td>\n      <td>71</td>\n      <td>39</td>\n      <td>32</td>\n      <td>69</td>\n      <td>Qualification for the Champions League third q...</td>\n    </tr>\n    <tr>\n      <th>3</th>\n      <td>2000-01</td>\n      <td>4</td>\n      <td>Leeds United</td>\n      <td>38</td>\n      <td>20</td>\n      <td>8</td>\n      <td>10</td>\n      <td>64</td>\n      <td>43</td>\n      <td>21</td>\n      <td>68</td>\n      <td>Qualification for the UEFA Cup first round[a]</td>\n    </tr>\n    <tr>\n      <th>4</th>\n      <td>2000-01</td>\n      <td>5</td>\n      <td>Ipswich Town</td>\n      <td>38</td>\n      <td>20</td>\n      <td>6</td>\n      <td>12</td>\n      <td>57</td>\n      <td>42</td>\n      <td>15</td>\n      <td>66</td>\n      <td>Qualification for the UEFA Cup first round[a]</td>\n    </tr>\n  </tbody>\n</table>\n</div>"
     },
     "metadata": {}
    }
   ]
  },
  {
   "cell_type": "markdown",
   "source": "## General Summarize",
   "metadata": {
    "formattedRanges": [],
    "is_collapsed": false,
    "cell_id": "8d514ab5b70b4331836974bef5792344",
    "tags": [],
    "deepnote_cell_type": "text-cell-h2"
   }
  },
  {
   "cell_type": "markdown",
   "source": "### Red devils's - (2000-2010)",
   "metadata": {
    "formattedRanges": [],
    "is_collapsed": false,
    "cell_id": "e6b9f9206d2d480e918866e77267345b",
    "tags": [],
    "deepnote_cell_type": "text-cell-h3"
   }
  },
  {
   "cell_type": "code",
   "metadata": {
    "cell_id": "f89167f038b742db8785af335fbf56ef",
    "tags": [],
    "deepnote_to_be_reexecuted": false,
    "source_hash": "8f6bc27c",
    "execution_start": 1662672890303,
    "execution_millis": 18,
    "deepnote_cell_type": "code",
    "deepnote_cell_height": 677.25,
    "deepnote_output_heights": [
     423.265625
    ]
   },
   "source": "#Seasons od dataset\nyears = np.array(list(range(2000, 2022)), dtype=str)\nnumbers= np.array(list(range(1, 23)), dtype=str)\nseason = []\nfor year, num in zip(years, numbers):\n    if int(num) < 10:\n        season.append(year+'-'+'0'+num)\n    else:\n        season.append(year+'-'+num)\nseason",
   "execution_count": 3,
   "outputs": [
    {
     "output_type": "execute_result",
     "execution_count": 3,
     "data": {
      "text/plain": "['2000-01',\n '2001-02',\n '2002-03',\n '2003-04',\n '2004-05',\n '2005-06',\n '2006-07',\n '2007-08',\n '2008-09',\n '2009-10',\n '2010-11',\n '2011-12',\n '2012-13',\n '2013-14',\n '2014-15',\n '2015-16',\n '2016-17',\n '2017-18',\n '2018-19',\n '2019-20',\n '2020-21',\n '2021-22']"
     },
     "metadata": {}
    }
   ]
  },
  {
   "cell_type": "code",
   "metadata": {
    "cell_id": "5d9c2ef519e54a0f8d54335f9ef5acda",
    "tags": [],
    "deepnote_to_be_reexecuted": false,
    "source_hash": "d057535c",
    "execution_start": 1662672890321,
    "execution_millis": 69,
    "deepnote_table_state": {
     "pageSize": 10,
     "pageIndex": 21,
     "filters": [],
     "sortBy": []
    },
    "deepnote_table_loading": false,
    "deepnote_table_invalid": false,
    "deepnote_cell_type": "code",
    "deepnote_cell_height": 256.171875,
    "deepnote_output_heights": [
     20.1875
    ]
   },
   "source": "#Build dataset about statistics of PL in the first decade of XXI century.\ndf_decade1 = df_pl.copy()\ndf_years = pd.DataFrame({\n    'Season': season,\n    'Year': np.arange(2000, 2022),\n})\ndf_decade1 = pd.merge(left=df_decade1, right=df_years, on='Season', how='outer')\ndf_decade1 = df_decade1[df_decade1.Year <=2010]\ndf_decade1.Year.unique()",
   "execution_count": 4,
   "outputs": [
    {
     "output_type": "execute_result",
     "execution_count": 4,
     "data": {
      "text/plain": "array([2000, 2001, 2002, 2003, 2004, 2005, 2006, 2007, 2008, 2009, 2010])"
     },
     "metadata": {}
    }
   ]
  },
  {
   "cell_type": "code",
   "metadata": {
    "cell_id": "68f9e08b2cd04a539433a848c31794c2",
    "tags": [],
    "deepnote_to_be_reexecuted": false,
    "source_hash": "5ec1a617",
    "execution_start": 1662672890393,
    "execution_millis": 11,
    "deepnote_cell_type": "code",
    "deepnote_cell_height": 166.171875,
    "deepnote_output_heights": [
     20.1875
    ]
   },
   "source": "#How many matchs there were during this decade?\nmatches = df_decade1.loc[df_decade1.Team == 'Manchester United', 'Matchs']\nmatches = matches.sum()\nmatches",
   "execution_count": 5,
   "outputs": [
    {
     "output_type": "execute_result",
     "execution_count": 5,
     "data": {
      "text/plain": "418"
     },
     "metadata": {}
    }
   ]
  },
  {
   "cell_type": "code",
   "metadata": {
    "cell_id": "6ac18c75fc084862adb76864ec6d51ae",
    "tags": [],
    "deepnote_to_be_reexecuted": false,
    "source_hash": "774bf77b",
    "execution_start": 1662672890405,
    "execution_millis": 43,
    "deepnote_cell_type": "code",
    "deepnote_cell_height": 333
   },
   "source": "#Champions teams\ndf_champions = df_decade1.loc[df_decade1.Position == 1, ['Team', 'Year']]\ndf_champions.sort_values('Team', ascending=False, inplace=True)\n#Top5: The most winning teams\ndf_wins = df_decade1.copy()\ndf_wins = df_wins.groupby('Team').agg({'Wins': 'sum'}).sort_values('Wins', ascending=False).head()\n#Stats of Manchester United\nstats_mun = df_decade1[df_decade1.Team == 'Manchester United']\nstats_mun = stats_mun.pivot_table(index='Team', aggfunc={'Wins': 'sum', 'Draws': 'sum', 'Losses': 'sum'}).T\n#Possible points\npoints_mun = df_decade1.loc[df_decade1.Team == 'Manchester United', ['Team', 'Pts']]\npoints_mun = points_mun.groupby('Team').agg({'Pts': 'sum'})\npoints_mun['Points Loss'] = matches*3 - points_mun.iloc[0, 0]\npoints_mun.rename(columns={'Pts': 'Points earned'}, inplace=True)\npoints_mun = points_mun.T",
   "execution_count": 6,
   "outputs": []
  },
  {
   "cell_type": "code",
   "metadata": {
    "cell_id": "1df938fdbd074906af8b6d0c375a78da",
    "tags": [],
    "deepnote_to_be_reexecuted": false,
    "source_hash": "53d8ed92",
    "execution_start": 1662672890491,
    "execution_millis": 5,
    "deepnote_cell_type": "code",
    "deepnote_cell_height": 153.171875,
    "deepnote_output_heights": [
     20.1875
    ]
   },
   "source": "#Shorten the names.\ndf_wins.rename(index={'Manchester United': 'Man. United', 'Tottenham Hotspur': 'Tottenham'}, inplace=True)\ndf_wins.index[[0, -1]]",
   "execution_count": 7,
   "outputs": [
    {
     "output_type": "execute_result",
     "execution_count": 7,
     "data": {
      "text/plain": "Index(['Man. United', 'Tottenham'], dtype='object', name='Team')"
     },
     "metadata": {}
    }
   ]
  },
  {
   "cell_type": "code",
   "metadata": {
    "cell_id": "688ae35a4a1642a7a04f12635aea5d08",
    "tags": [],
    "deepnote_to_be_reexecuted": false,
    "source_hash": "d0c6825e",
    "execution_start": 1662672890551,
    "execution_millis": 902,
    "deepnote_cell_type": "code",
    "deepnote_cell_height": 798.375,
    "deepnote_output_heights": [
     436.375
    ]
   },
   "source": "#Colors\npalette = {team: '#AAA662' for team in df_wins.index}\npalette['Man. United'] = '#FC5A50'\n#Canvas\nfig = plt.figure(figsize=(15, 6))\n#Countplot\nax1 = fig.add_subplot(1, 2, 1)\nsns.countplot(data=df_champions, x='Team', palette=palette.values())\nax1.set(ylabel='Premier League', title='PL Champions\\n(2000-2010)')\n#Barplot\nax2 = fig.add_subplot(1, 2, 2)\nsns.barplot(data=df_wins, x=df_wins.index, y='Wins', palette=palette.values())\nax2.set(ylabel='Wins', title='The most amount of wins\\n(2000-2021)')\nax2.set_xticks(np.arange(5), df_wins.index,rotation=45)\nfig.set_facecolor('#FFFFCB')\nfig.show()",
   "execution_count": 8,
   "outputs": [
    {
     "data": {
      "text/plain": "<Figure size 1080x432 with 2 Axes>",
      "image/png": "[encoded data removed]"
     },
     "metadata": {
      "image/png": {
       "width": 878,
       "height": 442
      }
     },
     "output_type": "display_data"
    }
   ]
  },
  {
   "cell_type": "code",
   "metadata": {
    "cell_id": "2d725b57d42f4cc792ad251d3c21cd8c",
    "tags": [],
    "deepnote_to_be_reexecuted": false,
    "source_hash": "4d89029c",
    "execution_start": 1662672891458,
    "execution_millis": 949,
    "deepnote_cell_type": "code",
    "deepnote_cell_height": 854,
    "deepnote_output_heights": [
     510
    ]
   },
   "source": "#Canvas\nfig, [ax1, ax2] = plt.subplots(nrows=1, ncols=2, figsize=(15, 8))\n#Axes\n#Pie chart\nax1.pie(data=stats_mun, x='Manchester United', autopct=\"%.1f%%\", \ncolors=['#929591', '#DC143C', '#15B01A'], pctdistance=1.15, shadow=True, startangle=90)\nax1.set_title('\\nHistorial', fontdict={'fontsize': 'xx-large'})\nax1.legend(labels=stats_mun.index, bbox_to_anchor=(0.65, 0))\n#Pie chart\nax2.pie(data=points_mun, x='Manchester United', autopct=\"%.1f%%\", pctdistance=1.15, shadow=True,\nstartangle=90, colors=['#15B01A', '#929591'])\nax2.set_title('\\nPoints\\nachieved', fontdict={'fontsize': 'xx-large'})\nax2.legend(labels=points_mun.index, bbox_to_anchor=(0.65, 0))\nfig.set_facecolor('#FFFFCB')\nfig.show()",
   "execution_count": 9,
   "outputs": [
    {
     "data": {
      "text/plain": "<Figure size 1080x576 with 2 Axes>",
      "image/png": "[encoded data removed]"
     },
     "metadata": {
      "image/png": {
       "width": 851,
       "height": 509
      }
     },
     "output_type": "display_data"
    }
   ]
  },
  {
   "cell_type": "markdown",
   "source": "Manchester United was the best team of British football during these 10 years and they leave us with the following statistics:\n* 6 Premier Leagues.\n* More than 50% of matches they played ended in victory -> 276 wins in 418 matches.\n* They've earned more than 70% of possible points  -> 906 / 1254 points.\n",
   "metadata": {
    "cell_id": "48f031ea7bd44de69e1d206f81e31797",
    "tags": [],
    "deepnote_cell_type": "markdown",
    "deepnote_cell_height": 153.546875
   }
  },
  {
   "cell_type": "code",
   "metadata": {
    "cell_id": "c530ec1679a646569b849af3f501c85b",
    "tags": [],
    "deepnote_to_be_reexecuted": false,
    "source_hash": "67779c86",
    "execution_start": 1662672892408,
    "execution_millis": 460,
    "deepnote_cell_type": "code",
    "deepnote_cell_height": 999.546875,
    "deepnote_output_heights": [
     385.5625
    ]
   },
   "source": "#The best years of United\ndf_mun = df_decade1\ndf_mun = df_mun.loc[df_mun.Team == 'Manchester United', ['Season', 'Wins']]\n\n#Canvas\nsns.set_theme(style='whitegrid')\nfig = plt.figure()\n#Axes\nax = fig.add_axes([0, 0, 2.3, 1.3])\n#Line plot\nax.plot(df_mun.Season, df_mun.Wins, marker='s', linestyle='--', color='#DC143C', linewidth=3,\nmarkersize=8, markerfacecolor='#000000')\nax.set(xlabel='Season', ylabel='Wins')\nax.set_title(\"Cristiano Ronaldo's\\neffect\", fontdict={'fontsize': 'x-large'})\n\n#Arrow\nplt.annotate(\n    text='', xy=(5.5, 28),\n    xytext=(3.8, 23.6), xycoords='data',\n    arrowprops = dict(arrowstyle='->', connectionstyle='arc3', color='#008000', lw=4)\n)\n#Text\nplt.annotate(\n    text='CR7 arrived', xy=(4.8, 25.7),\n    rotation=60, va='center', ha='right'\n)\n\n\nfig.set_facecolor('#D2B48C')\nfig.show()",
   "execution_count": 10,
   "outputs": [
    {
     "data": {
      "text/plain": "<Figure size 432x288 with 1 Axes>",
      "image/png": "[encoded data removed]"
     },
     "metadata": {
      "image/png": {
       "width": 1048,
       "height": 466
      }
     },
     "output_type": "display_data"
    }
   ]
  },
  {
   "cell_type": "code",
   "metadata": {
    "cell_id": "79d694d3cc10475cbb3300fb0ab76dda",
    "tags": [],
    "deepnote_to_be_reexecuted": false,
    "source_hash": "da1d7d09",
    "execution_start": 1662672892882,
    "execution_millis": 21,
    "deepnote_cell_type": "code",
    "deepnote_cell_height": 503
   },
   "source": "#Years where Manchester United was champion.\nteam, position = df_decade1.Team == 'Manchester United', df_decade1.Position == 1\nyears = df_decade1.loc[team & position, ['Season', 'Team', 'Position']]\nyears.set_index('Season', inplace=True)\nyears",
   "execution_count": 11,
   "outputs": [
    {
     "output_type": "execute_result",
     "execution_count": 11,
     "data": {
      "application/vnd.deepnote.dataframe.v3+json": {
       "column_count": 2,
       "row_count": 6,
       "columns": [
        {
         "name": "Team",
         "dtype": "object",
         "stats": {
          "unique_count": 1,
          "nan_count": 0,
          "categories": [
           {
            "name": "Manchester United",
            "count": 6
           }
          ]
         }
        },
        {
         "name": "Position",
         "dtype": "int64",
         "stats": {
          "unique_count": 1,
          "nan_count": 0,
          "min": "1",
          "max": "1",
          "histogram": [
           {
            "bin_start": 0.5,
            "bin_end": 0.6,
            "count": 0
           },
           {
            "bin_start": 0.6,
            "bin_end": 0.7,
            "count": 0
           },
           {
            "bin_start": 0.7,
            "bin_end": 0.8,
            "count": 0
           },
           {
            "bin_start": 0.8,
            "bin_end": 0.9,
            "count": 0
           },
           {
            "bin_start": 0.9,
            "bin_end": 1,
            "count": 0
           },
           {
            "bin_start": 1,
            "bin_end": 1.1,
            "count": 6
           },
           {
            "bin_start": 1.1,
            "bin_end": 1.2000000000000002,
            "count": 0
           },
           {
            "bin_start": 1.2000000000000002,
            "bin_end": 1.3,
            "count": 0
           },
           {
            "bin_start": 1.3,
            "bin_end": 1.4,
            "count": 0
           },
           {
            "bin_start": 1.4,
            "bin_end": 1.5,
            "count": 0
           }
          ]
         }
        },
        {
         "name": "_deepnote_index_column",
         "dtype": "object"
        }
       ],
       "rows": [
        {
         "Team": "Manchester United",
         "Position": "1",
         "_deepnote_index_column": "2000-01"
        },
        {
         "Team": "Manchester United",
         "Position": "1",
         "_deepnote_index_column": "2002-03"
        },
        {
         "Team": "Manchester United",
         "Position": "1",
         "_deepnote_index_column": "2006-07"
        },
        {
         "Team": "Manchester United",
         "Position": "1",
         "_deepnote_index_column": "2007-08"
        },
        {
         "Team": "Manchester United",
         "Position": "1",
         "_deepnote_index_column": "2008-09"
        },
        {
         "Team": "Manchester United",
         "Position": "1",
         "_deepnote_index_column": "2010-11"
        }
       ]
      },
      "text/plain": "                      Team  Position\nSeason                              \n2000-01  Manchester United         1\n2002-03  Manchester United         1\n2006-07  Manchester United         1\n2007-08  Manchester United         1\n2008-09  Manchester United         1\n2010-11  Manchester United         1",
      "text/html": "<div>\n<style scoped>\n    .dataframe tbody tr th:only-of-type {\n        vertical-align: middle;\n    }\n\n    .dataframe tbody tr th {\n        vertical-align: top;\n    }\n\n    .dataframe thead th {\n        text-align: right;\n    }\n</style>\n<table border=\"1\" class=\"dataframe\">\n  <thead>\n    <tr style=\"text-align: right;\">\n      <th></th>\n      <th>Team</th>\n      <th>Position</th>\n    </tr>\n    <tr>\n      <th>Season</th>\n      <th></th>\n      <th></th>\n    </tr>\n  </thead>\n  <tbody>\n    <tr>\n      <th>2000-01</th>\n      <td>Manchester United</td>\n      <td>1</td>\n    </tr>\n    <tr>\n      <th>2002-03</th>\n      <td>Manchester United</td>\n      <td>1</td>\n    </tr>\n    <tr>\n      <th>2006-07</th>\n      <td>Manchester United</td>\n      <td>1</td>\n    </tr>\n    <tr>\n      <th>2007-08</th>\n      <td>Manchester United</td>\n      <td>1</td>\n    </tr>\n    <tr>\n      <th>2008-09</th>\n      <td>Manchester United</td>\n      <td>1</td>\n    </tr>\n    <tr>\n      <th>2010-11</th>\n      <td>Manchester United</td>\n      <td>1</td>\n    </tr>\n  </tbody>\n</table>\n</div>"
     },
     "metadata": {}
    }
   ]
  },
  {
   "cell_type": "markdown",
   "source": "The arrival of Cristiano Ronaldo to Manchester United was a determining factor in the success  they achieved during these years. Well, this is where he developed his football skills to become the best player of the world in 2008. Likewise, he achieved to win the Premier league 3 times in a row in the years 2006, 2007 and 2008. And also during these 3 years Manchester United reached their highest winning numbers, thus demonstrating the superiority they had in British football.",
   "metadata": {
    "formattedRanges": [],
    "is_collapsed": false,
    "cell_id": "6bd17f39-801b-4ca6-b36e-a904d2a9e469",
    "tags": [],
    "deepnote_cell_type": "text-cell-p"
   }
  },
  {
   "cell_type": "code",
   "metadata": {
    "cell_id": "97486d8d64c64cb88fac6fe28db33763",
    "tags": [],
    "deepnote_to_be_reexecuted": false,
    "source_hash": "4186ff48",
    "execution_start": 1662672892909,
    "execution_millis": 1851,
    "deepnote_cell_type": "code",
    "deepnote_cell_height": 766.328125,
    "deepnote_output_heights": [
     404.34375
    ]
   },
   "source": "#Analizar los goles que anotan y los que reciben a tráves de un boxplot\ndf_goals = df_decade1.loc[df_decade1.Team == 'Manchester United', ['Goals Scored', 'Goals Conceded']]\n#Canvas\nfig = plt.figure(figsize=(16, 6))\n#Boxplot: Goals Scored\nax1 = fig.add_subplot(1, 2, 1)\nax1 = sns.boxplot(data=df_goals, x='Goals Scored', color='#F0E68C')\nax1 = sns.swarmplot(data=df_goals, x='Goals Scored', color='k')\nax1.set_title('Goals Scored\\nof Manchester United\\n(2000-2010)')\n#Boxplot: Goals Conceded\nax2 = fig.add_subplot(1, 2, 2)\nax2 = sns.boxplot(data=df_goals, x='Goals Conceded', color='#F0E68C')\nax2 = sns.swarmplot(data=df_goals, x='Goals Conceded', color='k')\nax2.set_title('Goals Conceded\\nof Manchester United\\n(2000-2010)')\nfig.set_facecolor('#FFFFCB')\nfig.show()",
   "execution_count": 12,
   "outputs": [
    {
     "data": {
      "text/plain": "<Figure size 1152x432 with 2 Axes>",
      "image/png": "[encoded data removed]"
     },
     "metadata": {
      "image/png": {
       "width": 907,
       "height": 423
      }
     },
     "output_type": "display_data"
    }
   ]
  },
  {
   "cell_type": "code",
   "metadata": {
    "cell_id": "a72bc0b204c845e8b54cb8f388b2d66b",
    "tags": [],
    "deepnote_to_be_reexecuted": false,
    "source_hash": "b5aba1be",
    "execution_start": 1662672894011,
    "execution_millis": 753,
    "deepnote_cell_type": "code",
    "deepnote_cell_height": 485
   },
   "source": "statistics = df_goals.describe()\nstatistics = statistics.loc[['mean', 'min', '25%', '50%', '75%', 'max'], :]\nstatistics.loc['mean'] = statistics.loc['mean'].apply(lambda x: np.round(x, 2))\nstatistics",
   "execution_count": 13,
   "outputs": [
    {
     "output_type": "execute_result",
     "execution_count": 13,
     "data": {
      "application/vnd.deepnote.dataframe.v3+json": {
       "column_count": 2,
       "row_count": 6,
       "columns": [
        {
         "name": "Goals Scored",
         "dtype": "float64",
         "stats": {
          "unique_count": 6,
          "nan_count": 0,
          "min": "58.0",
          "max": "87.0",
          "histogram": [
           {
            "bin_start": 58,
            "bin_end": 60.9,
            "count": 1
           },
           {
            "bin_start": 60.9,
            "bin_end": 63.8,
            "count": 0
           },
           {
            "bin_start": 63.8,
            "bin_end": 66.7,
            "count": 0
           },
           {
            "bin_start": 66.7,
            "bin_end": 69.6,
            "count": 0
           },
           {
            "bin_start": 69.6,
            "bin_end": 72.5,
            "count": 1
           },
           {
            "bin_start": 72.5,
            "bin_end": 75.4,
            "count": 1
           },
           {
            "bin_start": 75.4,
            "bin_end": 78.3,
            "count": 1
           },
           {
            "bin_start": 78.3,
            "bin_end": 81.2,
            "count": 0
           },
           {
            "bin_start": 81.2,
            "bin_end": 84.1,
            "count": 1
           },
           {
            "bin_start": 84.1,
            "bin_end": 87,
            "count": 1
           }
          ]
         }
        },
        {
         "name": "Goals Conceded",
         "dtype": "float64",
         "stats": {
          "unique_count": 6,
          "nan_count": 0,
          "min": "22.0",
          "max": "45.0",
          "histogram": [
           {
            "bin_start": 22,
            "bin_end": 24.3,
            "count": 1
           },
           {
            "bin_start": 24.3,
            "bin_end": 26.6,
            "count": 1
           },
           {
            "bin_start": 26.6,
            "bin_end": 28.9,
            "count": 0
           },
           {
            "bin_start": 28.9,
            "bin_end": 31.2,
            "count": 2
           },
           {
            "bin_start": 31.2,
            "bin_end": 33.5,
            "count": 0
           },
           {
            "bin_start": 33.5,
            "bin_end": 35.8,
            "count": 1
           },
           {
            "bin_start": 35.8,
            "bin_end": 38.099999999999994,
            "count": 0
           },
           {
            "bin_start": 38.099999999999994,
            "bin_end": 40.4,
            "count": 0
           },
           {
            "bin_start": 40.4,
            "bin_end": 42.7,
            "count": 0
           },
           {
            "bin_start": 42.7,
            "bin_end": 45,
            "count": 1
           }
          ]
         }
        },
        {
         "name": "_deepnote_index_column",
         "dtype": "object"
        }
       ],
       "rows": [
        {
         "Goals Scored": "75.36",
         "Goals Conceded": "31.18",
         "_deepnote_index_column": "mean"
        },
        {
         "Goals Scored": "58.0",
         "Goals Conceded": "22.0",
         "_deepnote_index_column": "min"
        },
        {
         "Goals Scored": "70.0",
         "Goals Conceded": "26.5",
         "_deepnote_index_column": "25%"
        },
        {
         "Goals Scored": "78.0",
         "Goals Conceded": "31.0",
         "_deepnote_index_column": "50%"
        },
        {
         "Goals Scored": "81.5",
         "Goals Conceded": "34.5",
         "_deepnote_index_column": "75%"
        },
        {
         "Goals Scored": "87.0",
         "Goals Conceded": "45.0",
         "_deepnote_index_column": "max"
        }
       ]
      },
      "text/plain": "      Goals Scored  Goals Conceded\nmean         75.36           31.18\nmin          58.00           22.00\n25%          70.00           26.50\n50%          78.00           31.00\n75%          81.50           34.50\nmax          87.00           45.00",
      "text/html": "<div>\n<style scoped>\n    .dataframe tbody tr th:only-of-type {\n        vertical-align: middle;\n    }\n\n    .dataframe tbody tr th {\n        vertical-align: top;\n    }\n\n    .dataframe thead th {\n        text-align: right;\n    }\n</style>\n<table border=\"1\" class=\"dataframe\">\n  <thead>\n    <tr style=\"text-align: right;\">\n      <th></th>\n      <th>Goals Scored</th>\n      <th>Goals Conceded</th>\n    </tr>\n  </thead>\n  <tbody>\n    <tr>\n      <th>mean</th>\n      <td>75.36</td>\n      <td>31.18</td>\n    </tr>\n    <tr>\n      <th>min</th>\n      <td>58.00</td>\n      <td>22.00</td>\n    </tr>\n    <tr>\n      <th>25%</th>\n      <td>70.00</td>\n      <td>26.50</td>\n    </tr>\n    <tr>\n      <th>50%</th>\n      <td>78.00</td>\n      <td>31.00</td>\n    </tr>\n    <tr>\n      <th>75%</th>\n      <td>81.50</td>\n      <td>34.50</td>\n    </tr>\n    <tr>\n      <th>max</th>\n      <td>87.00</td>\n      <td>45.00</td>\n    </tr>\n  </tbody>\n</table>\n</div>"
     },
     "metadata": {}
    }
   ]
  },
  {
   "cell_type": "markdown",
   "source": "During these years Manchester United proved to be very scorer team and strong in defense. Therefore, they leave us the following statistics:\n* Average goals per season: 75.36 goals. And as for each season there are 38 matches this means that they scored 1.98 goals/match, that is almost 2 goals. On the other hand, if we analyse its best scoring season and the worst you can observe that at least there was 1 goal/match, so it must have been a very safe bet at the time.\n\n* Average goals conceded per season: 31.18 goals. This indicates us that Manchester United received 0.82 goals/match and this data shows the great defensive solidity they had. And as a bonus, during 2007 they only received 22 goals/match, i.e. 0.58 goals/match, thus demonstrating how unlikely it was to score 1 goal to the Red Devils. \n\n",
   "metadata": {
    "cell_id": "56805b58aff24e15b9b5ab44e0e45150",
    "tags": [],
    "deepnote_cell_type": "markdown",
    "deepnote_cell_height": 240.109375
   }
  },
  {
   "cell_type": "markdown",
   "source": "---",
   "metadata": {
    "cell_id": "187ea56536db4a4eb8a4c55f004655a4",
    "tags": [],
    "deepnote_cell_type": "markdown",
    "deepnote_cell_height": 46
   }
  },
  {
   "cell_type": "markdown",
   "source": "---",
   "metadata": {
    "cell_id": "ff5fc21b2d6c490381a83aa951b1ea4f",
    "tags": [],
    "deepnote_cell_type": "markdown",
    "deepnote_cell_height": 46
   }
  },
  {
   "cell_type": "markdown",
   "source": "### Other statistics",
   "metadata": {
    "formattedRanges": [],
    "is_collapsed": false,
    "cell_id": "3e56c8fb154a42bdaaa879a39e588bcf",
    "tags": [],
    "deepnote_cell_type": "text-cell-h3"
   }
  },
  {
   "cell_type": "markdown",
   "source": "**Goals per Season**",
   "metadata": {
    "cell_id": "abe07752331d41d5a60567af32f5f49b",
    "tags": [],
    "deepnote_cell_type": "markdown",
    "deepnote_cell_height": 52.375
   }
  },
  {
   "cell_type": "code",
   "metadata": {
    "cell_id": "fdada6b10e30465e9ab3ceac6d869952",
    "tags": [],
    "deepnote_to_be_reexecuted": false,
    "source_hash": "5e4accf0",
    "execution_start": 1662672894096,
    "execution_millis": 690,
    "deepnote_cell_type": "code",
    "deepnote_cell_height": 767.03125,
    "deepnote_output_heights": [
     477.046875
    ]
   },
   "source": "#The most scorer season\ndf_season = df_decade1.groupby('Season').agg({'Goals Scored': 'sum'})\n#Canvas\nfig = plt.figure()\n#Axes\nax = fig.add_axes([0, 0, 2, 1.5])\n#Line plot\nax.plot(df_season.index, df_season['Goals Scored'], marker='o', linestyle='-', color='g',\nlinewidth=3, markerfacecolor='k', markersize=7)\nax.set(xlabel='Season', ylabel='Goals Scored', title='The number of goals\\nper season')\nfig.set_facecolor('#FFFFCB')\nfig.show()",
   "execution_count": 14,
   "outputs": [
    {
     "data": {
      "text/plain": "<Figure size 432x288 with 1 Axes>",
      "image/png": "[encoded data removed]"
     },
     "metadata": {
      "image/png": {
       "width": 932,
       "height": 513
      }
     },
     "output_type": "display_data"
    }
   ]
  },
  {
   "cell_type": "code",
   "metadata": {
    "cell_id": "211915307df34d649686340caf7b1838",
    "tags": [],
    "deepnote_to_be_reexecuted": false,
    "source_hash": "956d7572",
    "execution_start": 1662672894719,
    "execution_millis": 80,
    "deepnote_cell_type": "code",
    "deepnote_cell_height": 285
   },
   "source": "statistics = df_season.describe().loc[['min', 'max']]\nstatistics",
   "execution_count": 15,
   "outputs": [
    {
     "output_type": "execute_result",
     "execution_count": 15,
     "data": {
      "application/vnd.deepnote.dataframe.v3+json": {
       "column_count": 1,
       "row_count": 2,
       "columns": [
        {
         "name": "Goals Scored",
         "dtype": "float64",
         "stats": {
          "unique_count": 2,
          "nan_count": 0,
          "min": "931.0",
          "max": "1063.0",
          "histogram": [
           {
            "bin_start": 931,
            "bin_end": 944.2,
            "count": 1
           },
           {
            "bin_start": 944.2,
            "bin_end": 957.4,
            "count": 0
           },
           {
            "bin_start": 957.4,
            "bin_end": 970.6,
            "count": 0
           },
           {
            "bin_start": 970.6,
            "bin_end": 983.8,
            "count": 0
           },
           {
            "bin_start": 983.8,
            "bin_end": 997,
            "count": 0
           },
           {
            "bin_start": 997,
            "bin_end": 1010.2,
            "count": 0
           },
           {
            "bin_start": 1010.2,
            "bin_end": 1023.4,
            "count": 0
           },
           {
            "bin_start": 1023.4,
            "bin_end": 1036.6,
            "count": 0
           },
           {
            "bin_start": 1036.6,
            "bin_end": 1049.8,
            "count": 0
           },
           {
            "bin_start": 1049.8,
            "bin_end": 1063,
            "count": 1
           }
          ]
         }
        },
        {
         "name": "_deepnote_index_column",
         "dtype": "object"
        }
       ],
       "rows": [
        {
         "Goals Scored": "931.0",
         "_deepnote_index_column": "min"
        },
        {
         "Goals Scored": "1063.0",
         "_deepnote_index_column": "max"
        }
       ]
      },
      "text/plain": "     Goals Scored\nmin         931.0\nmax        1063.0",
      "text/html": "<div>\n<style scoped>\n    .dataframe tbody tr th:only-of-type {\n        vertical-align: middle;\n    }\n\n    .dataframe tbody tr th {\n        vertical-align: top;\n    }\n\n    .dataframe thead th {\n        text-align: right;\n    }\n</style>\n<table border=\"1\" class=\"dataframe\">\n  <thead>\n    <tr style=\"text-align: right;\">\n      <th></th>\n      <th>Goals Scored</th>\n    </tr>\n  </thead>\n  <tbody>\n    <tr>\n      <th>min</th>\n      <td>931.0</td>\n    </tr>\n    <tr>\n      <th>max</th>\n      <td>1063.0</td>\n    </tr>\n  </tbody>\n</table>\n</div>"
     },
     "metadata": {}
    }
   ]
  },
  {
   "cell_type": "markdown",
   "source": "*In the Premier League 38 dates are played in which each of them plays 10 games.\n* The season where the most numer of goals was in 2010 with 1063. That means that the average goal per match was 2.72.\n\n* On the another hand, in which there were fewer goals was in 2006, because only 931 goals were scored. Leaving us an average of goals per match of 2.45 ",
   "metadata": {
    "cell_id": "cfec8375cced4b6ab7e6b6e640cce5ea",
    "tags": [],
    "deepnote_cell_type": "markdown",
    "deepnote_cell_height": 150.546875
   }
  },
  {
   "cell_type": "markdown",
   "source": "---",
   "metadata": {
    "cell_id": "3e0b0179f4274a78a003567bef33153f",
    "tags": [],
    "deepnote_cell_type": "markdown",
    "deepnote_cell_height": 46
   }
  },
  {
   "cell_type": "markdown",
   "source": "**Temporadas que se definieron en la ultima fecha**",
   "metadata": {
    "cell_id": "b1a2ffd3cc1d4574838a191936c98eed",
    "tags": [],
    "deepnote_cell_type": "markdown",
    "deepnote_cell_height": 52.375
   }
  },
  {
   "cell_type": "code",
   "metadata": {
    "cell_id": "b6f6e197c20c46859261dd504995318d",
    "tags": [],
    "deepnote_to_be_reexecuted": false,
    "source_hash": "a5b9c975",
    "execution_start": 1662672894752,
    "execution_millis": 6,
    "deepnote_cell_type": "code",
    "deepnote_cell_height": 243
   },
   "source": "my_palette = {x: 'r' for x in df_decade1.Year.unique()}\ns_2000, s_2001 = sns.color_palette('Paired')[-1], sns.color_palette('bone')[2]\ns_2002, s_2003 = sns.color_palette('Paired')[-3], sns.color_palette('Paired')[-5]\ns_2004, s_2005 = sns.color_palette('Paired')[-6], sns.color_palette('Paired')[-7]\ns_2006, s_2007 = sns.color_palette('Paired')[-9], sns.color_palette('Paired')[-10]\ns_2008, s_2009 = sns.color_palette('Paired')[1], sns.color_palette('Paired')[-4]\ns_2010 = sns.color_palette('bone')[0]\nmy_palette['2000-01'], my_palette['2001-02'], my_palette['2002-03'], my_palette['2003-04'] = s_2000, s_2001, s_2002, s_2003\nmy_palette['2004-05'], my_palette['2005-06'], my_palette['2006-07'], my_palette['2007-08'] = s_2004, s_2005, s_2006, s_2007\nmy_palette['2008-09'], my_palette['2009-10'], my_palette['2010-11'] = s_2008, s_2009, s_2010",
   "execution_count": 16,
   "outputs": []
  },
  {
   "cell_type": "code",
   "metadata": {
    "cell_id": "a332caeca9884534b39ee63b290c8173",
    "tags": [],
    "deepnote_to_be_reexecuted": false,
    "source_hash": "81ea84fe",
    "execution_start": 1662672894801,
    "execution_millis": 493,
    "deepnote_cell_type": "code",
    "deepnote_cell_height": 813.125,
    "deepnote_output_heights": [
     487.125
    ]
   },
   "source": "#The most competitve season\ndf_decade1.head()\n\n#Canvas\nfig = plt.figure()\nsns.set_theme(style='whitegrid')\n#Axes\nax = fig.add_axes([0, 0, 2, 1.5])\n#Strip plot\nax = sns.swarmplot(data=df_decade1, x='Season', y='Pts', palette=my_palette)\nax.set_ylabel('Points')\nax.set_title('Score of teams for\\neach season', fontdict={'size': 'large'})\nfig.set_facecolor('#D2B48C')\nfig.show()",
   "execution_count": 17,
   "outputs": [
    {
     "data": {
      "text/plain": "<Figure size 432x288 with 1 Axes>",
      "image/png": "[encoded data removed]"
     },
     "metadata": {
      "image/png": {
       "width": 918,
       "height": 516
      }
     },
     "output_type": "display_data"
    }
   ]
  },
  {
   "cell_type": "code",
   "metadata": {
    "cell_id": "deca3db15bb244a08e2ead1ae704658e",
    "tags": [],
    "deepnote_to_be_reexecuted": false,
    "source_hash": "238bebf7",
    "execution_start": 1662672895311,
    "execution_millis": 52,
    "deepnote_table_state": {
     "pageSize": 10,
     "pageIndex": 0,
     "filters": [],
     "sortBy": []
    },
    "deepnote_table_loading": false,
    "deepnote_cell_type": "code",
    "deepnote_cell_height": 403
   },
   "source": "#The most competitive seasons\n#2007/08\ndf_2007 = df_decade1.loc[df_decade1.Season == '2007-08', ['Season', 'Position', 'Team', 'Goals difference','Pts']]\ndf_2007 = df_2007[df_2007.Position <= 3]\ndf_2007.set_index('Season', inplace=True)\ndf_2007",
   "execution_count": 18,
   "outputs": [
    {
     "output_type": "execute_result",
     "execution_count": 18,
     "data": {
      "application/vnd.deepnote.dataframe.v3+json": {
       "column_count": 4,
       "row_count": 3,
       "columns": [
        {
         "name": "Position",
         "dtype": "int64",
         "stats": {
          "unique_count": 3,
          "nan_count": 0,
          "min": "1",
          "max": "3",
          "histogram": [
           {
            "bin_start": 1,
            "bin_end": 1.2,
            "count": 1
           },
           {
            "bin_start": 1.2,
            "bin_end": 1.4,
            "count": 0
           },
           {
            "bin_start": 1.4,
            "bin_end": 1.6,
            "count": 0
           },
           {
            "bin_start": 1.6,
            "bin_end": 1.8,
            "count": 0
           },
           {
            "bin_start": 1.8,
            "bin_end": 2,
            "count": 0
           },
           {
            "bin_start": 2,
            "bin_end": 2.2,
            "count": 1
           },
           {
            "bin_start": 2.2,
            "bin_end": 2.4000000000000004,
            "count": 0
           },
           {
            "bin_start": 2.4000000000000004,
            "bin_end": 2.6,
            "count": 0
           },
           {
            "bin_start": 2.6,
            "bin_end": 2.8,
            "count": 0
           },
           {
            "bin_start": 2.8,
            "bin_end": 3,
            "count": 1
           }
          ]
         }
        },
        {
         "name": "Team",
         "dtype": "object",
         "stats": {
          "unique_count": 3,
          "nan_count": 0,
          "categories": [
           {
            "name": "Manchester United",
            "count": 1
           },
           {
            "name": "Chelsea",
            "count": 1
           },
           {
            "name": "Arsenal",
            "count": 1
           }
          ]
         }
        },
        {
         "name": "Goals difference",
         "dtype": "int64",
         "stats": {
          "unique_count": 3,
          "nan_count": 0,
          "min": "39",
          "max": "58",
          "histogram": [
           {
            "bin_start": 39,
            "bin_end": 40.9,
            "count": 1
           },
           {
            "bin_start": 40.9,
            "bin_end": 42.8,
            "count": 0
           },
           {
            "bin_start": 42.8,
            "bin_end": 44.7,
            "count": 1
           },
           {
            "bin_start": 44.7,
            "bin_end": 46.6,
            "count": 0
           },
           {
            "bin_start": 46.6,
            "bin_end": 48.5,
            "count": 0
           },
           {
            "bin_start": 48.5,
            "bin_end": 50.4,
            "count": 0
           },
           {
            "bin_start": 50.4,
            "bin_end": 52.3,
            "count": 0
           },
           {
            "bin_start": 52.3,
            "bin_end": 54.2,
            "count": 0
           },
           {
            "bin_start": 54.2,
            "bin_end": 56.099999999999994,
            "count": 0
           },
           {
            "bin_start": 56.099999999999994,
            "bin_end": 58,
            "count": 1
           }
          ]
         }
        },
        {
         "name": "Pts",
         "dtype": "int64",
         "stats": {
          "unique_count": 3,
          "nan_count": 0,
          "min": "83",
          "max": "87",
          "histogram": [
           {
            "bin_start": 83,
            "bin_end": 83.4,
            "count": 1
           },
           {
            "bin_start": 83.4,
            "bin_end": 83.8,
            "count": 0
           },
           {
            "bin_start": 83.8,
            "bin_end": 84.2,
            "count": 0
           },
           {
            "bin_start": 84.2,
            "bin_end": 84.6,
            "count": 0
           },
           {
            "bin_start": 84.6,
            "bin_end": 85,
            "count": 0
           },
           {
            "bin_start": 85,
            "bin_end": 85.4,
            "count": 1
           },
           {
            "bin_start": 85.4,
            "bin_end": 85.8,
            "count": 0
           },
           {
            "bin_start": 85.8,
            "bin_end": 86.2,
            "count": 0
           },
           {
            "bin_start": 86.2,
            "bin_end": 86.6,
            "count": 0
           },
           {
            "bin_start": 86.6,
            "bin_end": 87,
            "count": 1
           }
          ]
         }
        },
        {
         "name": "_deepnote_index_column",
         "dtype": "object"
        }
       ],
       "rows": [
        {
         "Position": "1",
         "Team": "Manchester United",
         "Goals difference": "58",
         "Pts": "87",
         "_deepnote_index_column": "2007-08"
        },
        {
         "Position": "2",
         "Team": "Chelsea",
         "Goals difference": "39",
         "Pts": "85",
         "_deepnote_index_column": "2007-08"
        },
        {
         "Position": "3",
         "Team": "Arsenal",
         "Goals difference": "43",
         "Pts": "83",
         "_deepnote_index_column": "2007-08"
        }
       ]
      },
      "text/plain": "         Position               Team  Goals difference  Pts\nSeason                                                     \n2007-08         1  Manchester United                58   87\n2007-08         2            Chelsea                39   85\n2007-08         3            Arsenal                43   83",
      "text/html": "<div>\n<style scoped>\n    .dataframe tbody tr th:only-of-type {\n        vertical-align: middle;\n    }\n\n    .dataframe tbody tr th {\n        vertical-align: top;\n    }\n\n    .dataframe thead th {\n        text-align: right;\n    }\n</style>\n<table border=\"1\" class=\"dataframe\">\n  <thead>\n    <tr style=\"text-align: right;\">\n      <th></th>\n      <th>Position</th>\n      <th>Team</th>\n      <th>Goals difference</th>\n      <th>Pts</th>\n    </tr>\n    <tr>\n      <th>Season</th>\n      <th></th>\n      <th></th>\n      <th></th>\n      <th></th>\n    </tr>\n  </thead>\n  <tbody>\n    <tr>\n      <th>2007-08</th>\n      <td>1</td>\n      <td>Manchester United</td>\n      <td>58</td>\n      <td>87</td>\n    </tr>\n    <tr>\n      <th>2007-08</th>\n      <td>2</td>\n      <td>Chelsea</td>\n      <td>39</td>\n      <td>85</td>\n    </tr>\n    <tr>\n      <th>2007-08</th>\n      <td>3</td>\n      <td>Arsenal</td>\n      <td>43</td>\n      <td>83</td>\n    </tr>\n  </tbody>\n</table>\n</div>"
     },
     "metadata": {}
    }
   ]
  },
  {
   "cell_type": "markdown",
   "source": "The 2007/08 season was very close between Macnhester United and Chelsea. Both teams arrived with the same number of points to the last date, 84 points exactly, being thus a final of infarction. But,the one who ended up raising the cup was the Red Devils. \nThese were the results that were given in the day 38:\n* Wigan Atlhetic vs Manchester United -> 0:2\n* Chelsea vs Boston Wanderers -> 1:1 ",
   "metadata": {
    "cell_id": "4457d8322165414db8cacd0c71e1ab8e",
    "tags": [],
    "deepnote_cell_type": "markdown",
    "deepnote_cell_height": 195.328125
   }
  },
  {
   "cell_type": "code",
   "metadata": {
    "cell_id": "a125e5bdd5524cd0b5a568bace45976a",
    "tags": [],
    "deepnote_to_be_reexecuted": false,
    "source_hash": "f052bf37",
    "execution_start": 1662672895364,
    "execution_millis": 17,
    "deepnote_cell_type": "code",
    "deepnote_cell_height": 344
   },
   "source": "#2009/10\ndf_2009 = df_decade1.loc[df_decade1.Season == '2009-10', ['Season', 'Position', 'Team', 'Goals difference','Pts']]\ndf_2009 = df_2009[df_2009.Position <= 2]\ndf_2009.set_index('Season', inplace=True)\ndf_2009",
   "execution_count": 19,
   "outputs": [
    {
     "output_type": "execute_result",
     "execution_count": 19,
     "data": {
      "application/vnd.deepnote.dataframe.v3+json": {
       "column_count": 4,
       "row_count": 2,
       "columns": [
        {
         "name": "Position",
         "dtype": "int64",
         "stats": {
          "unique_count": 2,
          "nan_count": 0,
          "min": "1",
          "max": "2",
          "histogram": [
           {
            "bin_start": 1,
            "bin_end": 1.1,
            "count": 1
           },
           {
            "bin_start": 1.1,
            "bin_end": 1.2,
            "count": 0
           },
           {
            "bin_start": 1.2,
            "bin_end": 1.3,
            "count": 0
           },
           {
            "bin_start": 1.3,
            "bin_end": 1.4,
            "count": 0
           },
           {
            "bin_start": 1.4,
            "bin_end": 1.5,
            "count": 0
           },
           {
            "bin_start": 1.5,
            "bin_end": 1.6,
            "count": 0
           },
           {
            "bin_start": 1.6,
            "bin_end": 1.7000000000000002,
            "count": 0
           },
           {
            "bin_start": 1.7000000000000002,
            "bin_end": 1.8,
            "count": 0
           },
           {
            "bin_start": 1.8,
            "bin_end": 1.9,
            "count": 0
           },
           {
            "bin_start": 1.9,
            "bin_end": 2,
            "count": 1
           }
          ]
         }
        },
        {
         "name": "Team",
         "dtype": "object",
         "stats": {
          "unique_count": 2,
          "nan_count": 0,
          "categories": [
           {
            "name": "Chelsea",
            "count": 1
           },
           {
            "name": "Manchester United",
            "count": 1
           }
          ]
         }
        },
        {
         "name": "Goals difference",
         "dtype": "int64",
         "stats": {
          "unique_count": 2,
          "nan_count": 0,
          "min": "58",
          "max": "71",
          "histogram": [
           {
            "bin_start": 58,
            "bin_end": 59.3,
            "count": 1
           },
           {
            "bin_start": 59.3,
            "bin_end": 60.6,
            "count": 0
           },
           {
            "bin_start": 60.6,
            "bin_end": 61.9,
            "count": 0
           },
           {
            "bin_start": 61.9,
            "bin_end": 63.2,
            "count": 0
           },
           {
            "bin_start": 63.2,
            "bin_end": 64.5,
            "count": 0
           },
           {
            "bin_start": 64.5,
            "bin_end": 65.8,
            "count": 0
           },
           {
            "bin_start": 65.8,
            "bin_end": 67.1,
            "count": 0
           },
           {
            "bin_start": 67.1,
            "bin_end": 68.4,
            "count": 0
           },
           {
            "bin_start": 68.4,
            "bin_end": 69.7,
            "count": 0
           },
           {
            "bin_start": 69.7,
            "bin_end": 71,
            "count": 1
           }
          ]
         }
        },
        {
         "name": "Pts",
         "dtype": "int64",
         "stats": {
          "unique_count": 2,
          "nan_count": 0,
          "min": "85",
          "max": "86",
          "histogram": [
           {
            "bin_start": 85,
            "bin_end": 85.1,
            "count": 1
           },
           {
            "bin_start": 85.1,
            "bin_end": 85.2,
            "count": 0
           },
           {
            "bin_start": 85.2,
            "bin_end": 85.3,
            "count": 0
           },
           {
            "bin_start": 85.3,
            "bin_end": 85.4,
            "count": 0
           },
           {
            "bin_start": 85.4,
            "bin_end": 85.5,
            "count": 0
           },
           {
            "bin_start": 85.5,
            "bin_end": 85.6,
            "count": 0
           },
           {
            "bin_start": 85.6,
            "bin_end": 85.7,
            "count": 0
           },
           {
            "bin_start": 85.7,
            "bin_end": 85.8,
            "count": 0
           },
           {
            "bin_start": 85.8,
            "bin_end": 85.9,
            "count": 0
           },
           {
            "bin_start": 85.9,
            "bin_end": 86,
            "count": 1
           }
          ]
         }
        },
        {
         "name": "_deepnote_index_column",
         "dtype": "object"
        }
       ],
       "rows": [
        {
         "Position": "1",
         "Team": "Chelsea",
         "Goals difference": "71",
         "Pts": "86",
         "_deepnote_index_column": "2009-10"
        },
        {
         "Position": "2",
         "Team": "Manchester United",
         "Goals difference": "58",
         "Pts": "85",
         "_deepnote_index_column": "2009-10"
        }
       ]
      },
      "text/plain": "         Position               Team  Goals difference  Pts\nSeason                                                     \n2009-10         1            Chelsea                71   86\n2009-10         2  Manchester United                58   85",
      "text/html": "<div>\n<style scoped>\n    .dataframe tbody tr th:only-of-type {\n        vertical-align: middle;\n    }\n\n    .dataframe tbody tr th {\n        vertical-align: top;\n    }\n\n    .dataframe thead th {\n        text-align: right;\n    }\n</style>\n<table border=\"1\" class=\"dataframe\">\n  <thead>\n    <tr style=\"text-align: right;\">\n      <th></th>\n      <th>Position</th>\n      <th>Team</th>\n      <th>Goals difference</th>\n      <th>Pts</th>\n    </tr>\n    <tr>\n      <th>Season</th>\n      <th></th>\n      <th></th>\n      <th></th>\n      <th></th>\n    </tr>\n  </thead>\n  <tbody>\n    <tr>\n      <th>2009-10</th>\n      <td>1</td>\n      <td>Chelsea</td>\n      <td>71</td>\n      <td>86</td>\n    </tr>\n    <tr>\n      <th>2009-10</th>\n      <td>2</td>\n      <td>Manchester United</td>\n      <td>58</td>\n      <td>85</td>\n    </tr>\n  </tbody>\n</table>\n</div>"
     },
     "metadata": {}
    }
   ]
  },
  {
   "cell_type": "markdown",
   "source": "And during the 2009/10 season, Chelsea and Manchester United were again the protagonists of the dispute for the title until the last date. And this originated in the date 35, since the Blues lost 2-1 to Totenham and the Red Devils won 1-0 against Manchester City and thus managed to shorten the point difference they had with the first place. This difference of points remained until the last, but Chelsea after that defeat managed to obtain 3 consecutive victories that allowed them to raise the long-awaited Premier League.",
   "metadata": {
    "cell_id": "f730738c022344d899a10790da51a983",
    "tags": [],
    "deepnote_cell_type": "markdown",
    "deepnote_cell_height": 141.9375
   }
  },
  {
   "cell_type": "markdown",
   "source": "<a style='text-decoration:none;line-height:16px;display:flex;color:#5B5B62;padding:10px;justify-content:end;' href='https://deepnote.com?utm_source=created-in-deepnote-cell&projectId=25a02e7e-55cf-475b-8f35-4cb85c25603c' target=\"_blank\">\n<img alt='Created in deepnote.com' style='display:inline;max-height:16px;margin:0px;margin-right:7.5px;' src='data:image/svg+xml;base64,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' > </img>\nCreated in <span style='font-weight:600;margin-left:4px;'>Deepnote</span></a>",
   "metadata": {
    "tags": [],
    "created_in_deepnote_cell": true,
    "deepnote_cell_type": "markdown"
   }
  }
 ],
 "nbformat": 4,
 "nbformat_minor": 2,
 "metadata": {
  "orig_nbformat": 2,
  "deepnote": {},
  "deepnote_notebook_id": "79571019-991d-4007-9ff2-bb07407e3dd7",
  "deepnote_execution_queue": [],
  "deepnote_persisted_session": {
   "filename": "session_dump_79571019-991d-4007-9ff2-bb07407e3dd7.pkl",
   "createdAt": "2022-09-07T00:16:27.992Z"
  }
 }
}