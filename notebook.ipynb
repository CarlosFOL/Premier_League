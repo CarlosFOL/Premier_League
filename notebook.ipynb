{
 "cells": [
  {
   "cell_type": "code",
   "metadata": {
    "tags": [],
    "cell_id": "4dce08b6-a29e-47e2-85a1-0a4510f8c8a7",
    "deepnote_to_be_reexecuted": false,
    "source_hash": "bf903efd",
    "execution_start": 1662242685892,
    "execution_millis": 3269,
    "deepnote_cell_type": "code",
    "deepnote_cell_height": 130
   },
   "source": "import matplotlib.pyplot as plt\nimport numpy as np\nimport pandas as pd\nimport seaborn as sns",
   "execution_count": 1,
   "outputs": []
  },
  {
   "cell_type": "markdown",
   "source": "# Premier League - Statistics",
   "metadata": {
    "formattedRanges": [],
    "is_collapsed": false,
    "cell_id": "70f61a5b01e549f08c4c906e3ce07a0d",
    "tags": [],
    "deepnote_cell_type": "text-cell-h1"
   }
  },
  {
   "cell_type": "code",
   "metadata": {
    "cell_id": "ea79f07ae2e24b189bf4a38fa4a2da6c",
    "tags": [],
    "deepnote_to_be_reexecuted": false,
    "source_hash": "88de7586",
    "execution_start": 1662242689168,
    "execution_millis": 158,
    "deepnote_cell_type": "code",
    "deepnote_cell_height": 483.796875
   },
   "source": "#My dataset \ndf_pl = pd.read_csv('/work/EPL_standings_2000-2022.csv', header=0, sep=',')\ndf_pl.rename(columns={'Pos': 'Position', 'Pld': 'Matchs', 'W': 'Wins', 'D': 'Draws', \n'L': 'Losses', 'GF': 'Goals Scored', 'GA': 'Goals Conceded', 'GD': 'Goals difference'}, inplace=True)\ndf_pl.head()",
   "execution_count": 2,
   "outputs": [
    {
     "output_type": "execute_result",
     "execution_count": 2,
     "data": {
      "application/vnd.deepnote.dataframe.v3+json": {
       "column_count": 12,
       "row_count": 5,
       "columns": [
        {
         "name": "Season",
         "dtype": "object",
         "stats": {
          "unique_count": 1,
          "nan_count": 0,
          "categories": [
           {
            "name": "2000-01",
            "count": 5
           }
          ]
         }
        },
        {
         "name": "Position",
         "dtype": "int64",
         "stats": {
          "unique_count": 5,
          "nan_count": 0,
          "min": "1",
          "max": "5",
          "histogram": [
           {
            "bin_start": 1,
            "bin_end": 1.4,
            "count": 1
           },
           {
            "bin_start": 1.4,
            "bin_end": 1.8,
            "count": 0
           },
           {
            "bin_start": 1.8,
            "bin_end": 2.2,
            "count": 1
           },
           {
            "bin_start": 2.2,
            "bin_end": 2.6,
            "count": 0
           },
           {
            "bin_start": 2.6,
            "bin_end": 3,
            "count": 0
           },
           {
            "bin_start": 3,
            "bin_end": 3.4000000000000004,
            "count": 1
           },
           {
            "bin_start": 3.4000000000000004,
            "bin_end": 3.8000000000000003,
            "count": 0
           },
           {
            "bin_start": 3.8000000000000003,
            "bin_end": 4.2,
            "count": 1
           },
           {
            "bin_start": 4.2,
            "bin_end": 4.6,
            "count": 0
           },
           {
            "bin_start": 4.6,
            "bin_end": 5,
            "count": 1
           }
          ]
         }
        },
        {
         "name": "Team",
         "dtype": "object",
         "stats": {
          "unique_count": 5,
          "nan_count": 0,
          "categories": [
           {
            "name": "Manchester United",
            "count": 1
           },
           {
            "name": "Arsenal",
            "count": 1
           },
           {
            "name": "3 others",
            "count": 3
           }
          ]
         }
        },
        {
         "name": "Matchs",
         "dtype": "int64",
         "stats": {
          "unique_count": 1,
          "nan_count": 0,
          "min": "38",
          "max": "38",
          "histogram": [
           {
            "bin_start": 37.5,
            "bin_end": 37.6,
            "count": 0
           },
           {
            "bin_start": 37.6,
            "bin_end": 37.7,
            "count": 0
           },
           {
            "bin_start": 37.7,
            "bin_end": 37.8,
            "count": 0
           },
           {
            "bin_start": 37.8,
            "bin_end": 37.9,
            "count": 0
           },
           {
            "bin_start": 37.9,
            "bin_end": 38,
            "count": 0
           },
           {
            "bin_start": 38,
            "bin_end": 38.1,
            "count": 5
           },
           {
            "bin_start": 38.1,
            "bin_end": 38.2,
            "count": 0
           },
           {
            "bin_start": 38.2,
            "bin_end": 38.3,
            "count": 0
           },
           {
            "bin_start": 38.3,
            "bin_end": 38.4,
            "count": 0
           },
           {
            "bin_start": 38.4,
            "bin_end": 38.5,
            "count": 0
           }
          ]
         }
        },
        {
         "name": "Wins",
         "dtype": "int64",
         "stats": {
          "unique_count": 2,
          "nan_count": 0,
          "min": "20",
          "max": "24",
          "histogram": [
           {
            "bin_start": 20,
            "bin_end": 20.4,
            "count": 4
           },
           {
            "bin_start": 20.4,
            "bin_end": 20.8,
            "count": 0
           },
           {
            "bin_start": 20.8,
            "bin_end": 21.2,
            "count": 0
           },
           {
            "bin_start": 21.2,
            "bin_end": 21.6,
            "count": 0
           },
           {
            "bin_start": 21.6,
            "bin_end": 22,
            "count": 0
           },
           {
            "bin_start": 22,
            "bin_end": 22.4,
            "count": 0
           },
           {
            "bin_start": 22.4,
            "bin_end": 22.8,
            "count": 0
           },
           {
            "bin_start": 22.8,
            "bin_end": 23.2,
            "count": 0
           },
           {
            "bin_start": 23.2,
            "bin_end": 23.6,
            "count": 0
           },
           {
            "bin_start": 23.6,
            "bin_end": 24,
            "count": 1
           }
          ]
         }
        },
        {
         "name": "Draws",
         "dtype": "int64",
         "stats": {
          "unique_count": 4,
          "nan_count": 0,
          "min": "6",
          "max": "10",
          "histogram": [
           {
            "bin_start": 6,
            "bin_end": 6.4,
            "count": 1
           },
           {
            "bin_start": 6.4,
            "bin_end": 6.8,
            "count": 0
           },
           {
            "bin_start": 6.8,
            "bin_end": 7.2,
            "count": 0
           },
           {
            "bin_start": 7.2,
            "bin_end": 7.6,
            "count": 0
           },
           {
            "bin_start": 7.6,
            "bin_end": 8,
            "count": 0
           },
           {
            "bin_start": 8,
            "bin_end": 8.4,
            "count": 2
           },
           {
            "bin_start": 8.4,
            "bin_end": 8.8,
            "count": 0
           },
           {
            "bin_start": 8.8,
            "bin_end": 9.2,
            "count": 1
           },
           {
            "bin_start": 9.2,
            "bin_end": 9.6,
            "count": 0
           },
           {
            "bin_start": 9.6,
            "bin_end": 10,
            "count": 1
           }
          ]
         }
        },
        {
         "name": "Losses",
         "dtype": "int64",
         "stats": {
          "unique_count": 5,
          "nan_count": 0,
          "min": "6",
          "max": "12",
          "histogram": [
           {
            "bin_start": 6,
            "bin_end": 6.6,
            "count": 1
           },
           {
            "bin_start": 6.6,
            "bin_end": 7.2,
            "count": 0
           },
           {
            "bin_start": 7.2,
            "bin_end": 7.8,
            "count": 0
           },
           {
            "bin_start": 7.8,
            "bin_end": 8.4,
            "count": 1
           },
           {
            "bin_start": 8.4,
            "bin_end": 9,
            "count": 0
           },
           {
            "bin_start": 9,
            "bin_end": 9.6,
            "count": 1
           },
           {
            "bin_start": 9.6,
            "bin_end": 10.2,
            "count": 1
           },
           {
            "bin_start": 10.2,
            "bin_end": 10.8,
            "count": 0
           },
           {
            "bin_start": 10.8,
            "bin_end": 11.399999999999999,
            "count": 0
           },
           {
            "bin_start": 11.399999999999999,
            "bin_end": 12,
            "count": 1
           }
          ]
         }
        },
        {
         "name": "Goals Scored",
         "dtype": "int64",
         "stats": {
          "unique_count": 5,
          "nan_count": 0,
          "min": "57",
          "max": "79",
          "histogram": [
           {
            "bin_start": 57,
            "bin_end": 59.2,
            "count": 1
           },
           {
            "bin_start": 59.2,
            "bin_end": 61.4,
            "count": 0
           },
           {
            "bin_start": 61.4,
            "bin_end": 63.6,
            "count": 1
           },
           {
            "bin_start": 63.6,
            "bin_end": 65.8,
            "count": 1
           },
           {
            "bin_start": 65.8,
            "bin_end": 68,
            "count": 0
           },
           {
            "bin_start": 68,
            "bin_end": 70.2,
            "count": 0
           },
           {
            "bin_start": 70.2,
            "bin_end": 72.4,
            "count": 1
           },
           {
            "bin_start": 72.4,
            "bin_end": 74.6,
            "count": 0
           },
           {
            "bin_start": 74.6,
            "bin_end": 76.8,
            "count": 0
           },
           {
            "bin_start": 76.8,
            "bin_end": 79,
            "count": 1
           }
          ]
         }
        },
        {
         "name": "Goals Conceded",
         "dtype": "int64",
         "stats": {
          "unique_count": 5,
          "nan_count": 0,
          "min": "31",
          "max": "43",
          "histogram": [
           {
            "bin_start": 31,
            "bin_end": 32.2,
            "count": 1
           },
           {
            "bin_start": 32.2,
            "bin_end": 33.4,
            "count": 0
           },
           {
            "bin_start": 33.4,
            "bin_end": 34.6,
            "count": 0
           },
           {
            "bin_start": 34.6,
            "bin_end": 35.8,
            "count": 0
           },
           {
            "bin_start": 35.8,
            "bin_end": 37,
            "count": 0
           },
           {
            "bin_start": 37,
            "bin_end": 38.2,
            "count": 1
           },
           {
            "bin_start": 38.2,
            "bin_end": 39.4,
            "count": 1
           },
           {
            "bin_start": 39.4,
            "bin_end": 40.6,
            "count": 0
           },
           {
            "bin_start": 40.6,
            "bin_end": 41.8,
            "count": 0
           },
           {
            "bin_start": 41.8,
            "bin_end": 43,
            "count": 2
           }
          ]
         }
        },
        {
         "name": "Goals difference",
         "dtype": "int64",
         "stats": {
          "unique_count": 5,
          "nan_count": 0,
          "min": "15",
          "max": "48",
          "histogram": [
           {
            "bin_start": 15,
            "bin_end": 18.3,
            "count": 1
           },
           {
            "bin_start": 18.3,
            "bin_end": 21.6,
            "count": 1
           },
           {
            "bin_start": 21.6,
            "bin_end": 24.9,
            "count": 0
           },
           {
            "bin_start": 24.9,
            "bin_end": 28.2,
            "count": 1
           },
           {
            "bin_start": 28.2,
            "bin_end": 31.5,
            "count": 0
           },
           {
            "bin_start": 31.5,
            "bin_end": 34.8,
            "count": 1
           },
           {
            "bin_start": 34.8,
            "bin_end": 38.099999999999994,
            "count": 0
           },
           {
            "bin_start": 38.099999999999994,
            "bin_end": 41.4,
            "count": 0
           },
           {
            "bin_start": 41.4,
            "bin_end": 44.7,
            "count": 0
           },
           {
            "bin_start": 44.7,
            "bin_end": 48,
            "count": 1
           }
          ]
         }
        },
        {
         "name": "Pts",
         "dtype": "int64",
         "stats": {
          "unique_count": 5,
          "nan_count": 0,
          "min": "66",
          "max": "80",
          "histogram": [
           {
            "bin_start": 66,
            "bin_end": 67.4,
            "count": 1
           },
           {
            "bin_start": 67.4,
            "bin_end": 68.8,
            "count": 1
           },
           {
            "bin_start": 68.8,
            "bin_end": 70.2,
            "count": 2
           },
           {
            "bin_start": 70.2,
            "bin_end": 71.6,
            "count": 0
           },
           {
            "bin_start": 71.6,
            "bin_end": 73,
            "count": 0
           },
           {
            "bin_start": 73,
            "bin_end": 74.4,
            "count": 0
           },
           {
            "bin_start": 74.4,
            "bin_end": 75.8,
            "count": 0
           },
           {
            "bin_start": 75.8,
            "bin_end": 77.2,
            "count": 0
           },
           {
            "bin_start": 77.2,
            "bin_end": 78.6,
            "count": 0
           },
           {
            "bin_start": 78.6,
            "bin_end": 80,
            "count": 1
           }
          ]
         }
        },
        {
         "name": "Qualification or relegation",
         "dtype": "object",
         "stats": {
          "unique_count": 3,
          "nan_count": 0,
          "categories": [
           {
            "name": "Qualification for the Champions League first group stage",
            "count": 2
           },
           {
            "name": "Qualification for the UEFA Cup first round[a]",
            "count": 2
           },
           {
            "name": "Qualification for the Champions League third qualifying round[a]",
            "count": 1
           }
          ]
         }
        },
        {
         "name": "_deepnote_index_column",
         "dtype": "int64"
        }
       ],
       "rows": [
        {
         "Season": "2000-01",
         "Position": "1",
         "Team": "Manchester United",
         "Matchs": "38",
         "Wins": "24",
         "Draws": "8",
         "Losses": "6",
         "Goals Scored": "79",
         "Goals Conceded": "31",
         "Goals difference": "48",
         "Pts": "80",
         "Qualification or relegation": "Qualification for the Champions League first group stage",
         "_deepnote_index_column": "0"
        },
        {
         "Season": "2000-01",
         "Position": "2",
         "Team": "Arsenal",
         "Matchs": "38",
         "Wins": "20",
         "Draws": "10",
         "Losses": "8",
         "Goals Scored": "63",
         "Goals Conceded": "38",
         "Goals difference": "25",
         "Pts": "70",
         "Qualification or relegation": "Qualification for the Champions League first group stage",
         "_deepnote_index_column": "1"
        },
        {
         "Season": "2000-01",
         "Position": "3",
         "Team": "Liverpool",
         "Matchs": "38",
         "Wins": "20",
         "Draws": "9",
         "Losses": "9",
         "Goals Scored": "71",
         "Goals Conceded": "39",
         "Goals difference": "32",
         "Pts": "69",
         "Qualification or relegation": "Qualification for the Champions League third qualifying round[a]",
         "_deepnote_index_column": "2"
        },
        {
         "Season": "2000-01",
         "Position": "4",
         "Team": "Leeds United",
         "Matchs": "38",
         "Wins": "20",
         "Draws": "8",
         "Losses": "10",
         "Goals Scored": "64",
         "Goals Conceded": "43",
         "Goals difference": "21",
         "Pts": "68",
         "Qualification or relegation": "Qualification for the UEFA Cup first round[a]",
         "_deepnote_index_column": "3"
        },
        {
         "Season": "2000-01",
         "Position": "5",
         "Team": "Ipswich Town",
         "Matchs": "38",
         "Wins": "20",
         "Draws": "6",
         "Losses": "12",
         "Goals Scored": "57",
         "Goals Conceded": "42",
         "Goals difference": "15",
         "Pts": "66",
         "Qualification or relegation": "Qualification for the UEFA Cup first round[a]",
         "_deepnote_index_column": "4"
        }
       ]
      },
      "text/plain": "    Season  Position               Team  Matchs  Wins  Draws  Losses  \\\n0  2000-01         1  Manchester United      38    24      8       6   \n1  2000-01         2            Arsenal      38    20     10       8   \n2  2000-01         3          Liverpool      38    20      9       9   \n3  2000-01         4       Leeds United      38    20      8      10   \n4  2000-01         5       Ipswich Town      38    20      6      12   \n\n   Goals Scored  Goals Conceded  Goals difference  Pts  \\\n0            79              31                48   80   \n1            63              38                25   70   \n2            71              39                32   69   \n3            64              43                21   68   \n4            57              42                15   66   \n\n                         Qualification or relegation  \n0  Qualification for the Champions League first g...  \n1  Qualification for the Champions League first g...  \n2  Qualification for the Champions League third q...  \n3      Qualification for the UEFA Cup first round[a]  \n4      Qualification for the UEFA Cup first round[a]  ",
      "text/html": "<div>\n<style scoped>\n    .dataframe tbody tr th:only-of-type {\n        vertical-align: middle;\n    }\n\n    .dataframe tbody tr th {\n        vertical-align: top;\n    }\n\n    .dataframe thead th {\n        text-align: right;\n    }\n</style>\n<table border=\"1\" class=\"dataframe\">\n  <thead>\n    <tr style=\"text-align: right;\">\n      <th></th>\n      <th>Season</th>\n      <th>Position</th>\n      <th>Team</th>\n      <th>Matchs</th>\n      <th>Wins</th>\n      <th>Draws</th>\n      <th>Losses</th>\n      <th>Goals Scored</th>\n      <th>Goals Conceded</th>\n      <th>Goals difference</th>\n      <th>Pts</th>\n      <th>Qualification or relegation</th>\n    </tr>\n  </thead>\n  <tbody>\n    <tr>\n      <th>0</th>\n      <td>2000-01</td>\n      <td>1</td>\n      <td>Manchester United</td>\n      <td>38</td>\n      <td>24</td>\n      <td>8</td>\n      <td>6</td>\n      <td>79</td>\n      <td>31</td>\n      <td>48</td>\n      <td>80</td>\n      <td>Qualification for the Champions League first g...</td>\n    </tr>\n    <tr>\n      <th>1</th>\n      <td>2000-01</td>\n      <td>2</td>\n      <td>Arsenal</td>\n      <td>38</td>\n      <td>20</td>\n      <td>10</td>\n      <td>8</td>\n      <td>63</td>\n      <td>38</td>\n      <td>25</td>\n      <td>70</td>\n      <td>Qualification for the Champions League first g...</td>\n    </tr>\n    <tr>\n      <th>2</th>\n      <td>2000-01</td>\n      <td>3</td>\n      <td>Liverpool</td>\n      <td>38</td>\n      <td>20</td>\n      <td>9</td>\n      <td>9</td>\n      <td>71</td>\n      <td>39</td>\n      <td>32</td>\n      <td>69</td>\n      <td>Qualification for the Champions League third q...</td>\n    </tr>\n    <tr>\n      <th>3</th>\n      <td>2000-01</td>\n      <td>4</td>\n      <td>Leeds United</td>\n      <td>38</td>\n      <td>20</td>\n      <td>8</td>\n      <td>10</td>\n      <td>64</td>\n      <td>43</td>\n      <td>21</td>\n      <td>68</td>\n      <td>Qualification for the UEFA Cup first round[a]</td>\n    </tr>\n    <tr>\n      <th>4</th>\n      <td>2000-01</td>\n      <td>5</td>\n      <td>Ipswich Town</td>\n      <td>38</td>\n      <td>20</td>\n      <td>6</td>\n      <td>12</td>\n      <td>57</td>\n      <td>42</td>\n      <td>15</td>\n      <td>66</td>\n      <td>Qualification for the UEFA Cup first round[a]</td>\n    </tr>\n  </tbody>\n</table>\n</div>"
     },
     "metadata": {}
    }
   ]
  },
  {
   "cell_type": "markdown",
   "source": "## General Summarize",
   "metadata": {
    "formattedRanges": [],
    "is_collapsed": false,
    "cell_id": "8d514ab5b70b4331836974bef5792344",
    "tags": [],
    "deepnote_cell_type": "text-cell-h2"
   }
  },
  {
   "cell_type": "markdown",
   "source": "### Red devils's - (2000-2010)",
   "metadata": {
    "formattedRanges": [],
    "is_collapsed": false,
    "cell_id": "e6b9f9206d2d480e918866e77267345b",
    "tags": [],
    "deepnote_cell_type": "text-cell-h3"
   }
  },
  {
   "cell_type": "code",
   "metadata": {
    "cell_id": "f89167f038b742db8785af335fbf56ef",
    "tags": [],
    "deepnote_to_be_reexecuted": false,
    "source_hash": "cde995a5",
    "execution_start": 1662242689281,
    "execution_millis": 1,
    "deepnote_cell_type": "code",
    "deepnote_cell_height": 677.375,
    "deepnote_output_heights": [
     423.390625
    ]
   },
   "source": "#Seasons\nyears = np.array(list(range(2000, 2022)), dtype=str)\nnumbers= np.array(list(range(1, 23)), dtype=str)\nseason = []\nfor year, num in zip(years, numbers):\n    if int(num) < 10:\n        season.append(year+'-'+'0'+num)\n    else:\n        season.append(year+'-'+num)\nseason",
   "execution_count": 3,
   "outputs": [
    {
     "output_type": "execute_result",
     "execution_count": 3,
     "data": {
      "text/plain": "['2000-01',\n '2001-02',\n '2002-03',\n '2003-04',\n '2004-05',\n '2005-06',\n '2006-07',\n '2007-08',\n '2008-09',\n '2009-10',\n '2010-11',\n '2011-12',\n '2012-13',\n '2013-14',\n '2014-15',\n '2015-16',\n '2016-17',\n '2017-18',\n '2018-19',\n '2019-20',\n '2020-21',\n '2021-22']"
     },
     "metadata": {}
    }
   ]
  },
  {
   "cell_type": "code",
   "metadata": {
    "cell_id": "5d9c2ef519e54a0f8d54335f9ef5acda",
    "tags": [],
    "deepnote_to_be_reexecuted": false,
    "source_hash": "a7aa9a2f",
    "execution_start": 1662242689282,
    "execution_millis": 45,
    "deepnote_table_state": {
     "pageSize": 10,
     "pageIndex": 21,
     "filters": [],
     "sortBy": []
    },
    "deepnote_table_loading": false,
    "deepnote_table_invalid": false,
    "deepnote_cell_type": "code",
    "deepnote_cell_height": 274.1875,
    "deepnote_output_heights": [
     20.1875
    ]
   },
   "source": "#Build dataset about statistics of PL in the first decade of XXI century.\ndf_decade1 = df_pl.copy()\ndf_years = pd.DataFrame({\n    'Season': season,\n    'Year': np.arange(2000, 2022)\n})\ndf_decade1 = pd.merge(left=df_decade1, right=df_years, on='Season', how='outer')\ndf_decade1.drop('Season', axis=1, inplace=True)\ndf_decade1 = df_decade1[df_decade1.Year <=2010]\ndf_decade1.Year.unique()",
   "execution_count": 4,
   "outputs": [
    {
     "output_type": "execute_result",
     "execution_count": 4,
     "data": {
      "text/plain": "array([2000, 2001, 2002, 2003, 2004, 2005, 2006, 2007, 2008, 2009, 2010])"
     },
     "metadata": {}
    }
   ]
  },
  {
   "cell_type": "code",
   "metadata": {
    "cell_id": "68f9e08b2cd04a539433a848c31794c2",
    "tags": [],
    "deepnote_to_be_reexecuted": false,
    "source_hash": "5ec1a617",
    "execution_start": 1662242689283,
    "execution_millis": 44,
    "deepnote_cell_type": "code",
    "deepnote_cell_height": 166.1875,
    "deepnote_output_heights": [
     20.1875
    ]
   },
   "source": "#How many matchs there were during this decade?\nmatches = df_decade1.loc[df_decade1.Team == 'Manchester United', 'Matchs']\nmatches = matches.sum()\nmatches",
   "execution_count": 5,
   "outputs": [
    {
     "output_type": "execute_result",
     "execution_count": 5,
     "data": {
      "text/plain": "418"
     },
     "metadata": {}
    }
   ]
  },
  {
   "cell_type": "code",
   "metadata": {
    "cell_id": "6ac18c75fc084862adb76864ec6d51ae",
    "tags": [],
    "deepnote_to_be_reexecuted": false,
    "source_hash": "774bf77b",
    "execution_start": 1662242689291,
    "execution_millis": 64,
    "deepnote_cell_type": "code",
    "deepnote_cell_height": 333
   },
   "source": "#Champions teams\ndf_champions = df_decade1.loc[df_decade1.Position == 1, ['Team', 'Year']]\ndf_champions.sort_values('Team', ascending=False, inplace=True)\n#Top5: The most winning teams\ndf_wins = df_decade1.copy()\ndf_wins = df_wins.groupby('Team').agg({'Wins': 'sum'}).sort_values('Wins', ascending=False).head()\n#Stats of Manchester United\nstats_mun = df_decade1[df_decade1.Team == 'Manchester United']\nstats_mun = stats_mun.pivot_table(index='Team', aggfunc={'Wins': 'sum', 'Draws': 'sum', 'Losses': 'sum'}).T\n#Possible points\npoints_mun = df_decade1.loc[df_decade1.Team == 'Manchester United', ['Team', 'Pts']]\npoints_mun = points_mun.groupby('Team').agg({'Pts': 'sum'})\npoints_mun['Points Loss'] = matches*3 - points_mun.iloc[0, 0]\npoints_mun.rename(columns={'Pts': 'Points earned'}, inplace=True)\npoints_mun = points_mun.T",
   "execution_count": 6,
   "outputs": []
  },
  {
   "cell_type": "code",
   "metadata": {
    "cell_id": "1df938fdbd074906af8b6d0c375a78da",
    "tags": [],
    "deepnote_to_be_reexecuted": false,
    "source_hash": "53d8ed92",
    "execution_start": 1662242689362,
    "execution_millis": 8,
    "deepnote_cell_type": "code",
    "deepnote_cell_height": 153.1875,
    "deepnote_output_heights": [
     20.1875
    ]
   },
   "source": "#Shorten the names.\ndf_wins.rename(index={'Manchester United': 'Man. United', 'Tottenham Hotspur': 'Tottenham'}, inplace=True)\ndf_wins.index[[0, -1]]",
   "execution_count": 7,
   "outputs": [
    {
     "output_type": "execute_result",
     "execution_count": 7,
     "data": {
      "text/plain": "Index(['Man. United', 'Tottenham'], dtype='object', name='Team')"
     },
     "metadata": {}
    }
   ]
  },
  {
   "cell_type": "code",
   "metadata": {
    "cell_id": "688ae35a4a1642a7a04f12635aea5d08",
    "tags": [],
    "deepnote_to_be_reexecuted": false,
    "source_hash": "d0c6825e",
    "execution_start": 1662242689370,
    "execution_millis": 926,
    "deepnote_cell_type": "code",
    "deepnote_cell_height": 773.765625,
    "deepnote_output_heights": [
     411.78125
    ]
   },
   "source": "#Colors\npalette = {team: '#AAA662' for team in df_wins.index}\npalette['Man. United'] = '#FC5A50'\n#Canvas\nfig = plt.figure(figsize=(15, 6))\n#Countplot\nax1 = fig.add_subplot(1, 2, 1)\nsns.countplot(data=df_champions, x='Team', palette=palette.values())\nax1.set(ylabel='Premier League', title='PL Champions\\n(2000-2010)')\n#Barplot\nax2 = fig.add_subplot(1, 2, 2)\nsns.barplot(data=df_wins, x=df_wins.index, y='Wins', palette=palette.values())\nax2.set(ylabel='Wins', title='The most amount of wins\\n(2000-2021)')\nax2.set_xticks(np.arange(5), df_wins.index,rotation=45)\nfig.set_facecolor('#FFFFCB')\nfig.show()",
   "execution_count": 8,
   "outputs": [
    {
     "data": {
      "text/plain": "<Figure size 1080x432 with 2 Axes>",
      "image/png": "[encoded data removed]"
     },
     "metadata": {
      "image/png": {
       "width": 878,
       "height": 442
      }
     },
     "output_type": "display_data"
    }
   ]
  },
  {
   "cell_type": "code",
   "metadata": {
    "cell_id": "2d725b57d42f4cc792ad251d3c21cd8c",
    "tags": [],
    "deepnote_to_be_reexecuted": false,
    "source_hash": "4d89029c",
    "execution_start": 1662242690302,
    "execution_millis": 662,
    "deepnote_cell_type": "code",
    "deepnote_cell_height": 839.9375,
    "deepnote_output_heights": [
     495.9375
    ]
   },
   "source": "#Canvas\nfig, [ax1, ax2] = plt.subplots(nrows=1, ncols=2, figsize=(15, 8))\n#Axes\n#Pie chart\nax1.pie(data=stats_mun, x='Manchester United', autopct=\"%.1f%%\", \ncolors=['#929591', '#DC143C', '#15B01A'], pctdistance=1.15, shadow=True, startangle=90)\nax1.set_title('\\nHistorial', fontdict={'fontsize': 'xx-large'})\nax1.legend(labels=stats_mun.index, bbox_to_anchor=(0.65, 0))\n#Pie chart\nax2.pie(data=points_mun, x='Manchester United', autopct=\"%.1f%%\", pctdistance=1.15, shadow=True,\nstartangle=90, colors=['#15B01A', '#929591'])\nax2.set_title('\\nPoints\\nachieved', fontdict={'fontsize': 'xx-large'})\nax2.legend(labels=points_mun.index, bbox_to_anchor=(0.65, 0))\nfig.set_facecolor('#FFFFCB')\nfig.show()",
   "execution_count": 9,
   "outputs": [
    {
     "data": {
      "text/plain": "<Figure size 1080x576 with 2 Axes>",
      "image/png": "[encoded data removed]"
     },
     "metadata": {
      "image/png": {
       "width": 851,
       "height": 509
      }
     },
     "output_type": "display_data"
    }
   ]
  },
  {
   "cell_type": "markdown",
   "source": "Manchester United was the best team of British football during these 10 years and they leave us with the following statistics:\n* 6 Premier Leagues.\n* More than 50% of matches they played ended in victory -> 276 wins in 418 matches.\n* They've earned more than 70% of possible points  -> 906 / 1254 points.\n",
   "metadata": {
    "cell_id": "48f031ea7bd44de69e1d206f81e31797",
    "tags": [],
    "deepnote_cell_type": "markdown",
    "deepnote_cell_height": 176
   }
  },
  {
   "cell_type": "code",
   "metadata": {
    "cell_id": "c530ec1679a646569b849af3f501c85b",
    "tags": [],
    "deepnote_to_be_reexecuted": false,
    "source_hash": "1dadc778",
    "execution_start": 1662242690977,
    "execution_millis": 379,
    "deepnote_cell_type": "code",
    "deepnote_cell_height": 988.34375,
    "deepnote_output_heights": [
     356.359375
    ]
   },
   "source": "#The best years of United\ndf_mun = df_decade1\ndf_mun = df_mun.loc[df_mun.Team == 'Manchester United', ['Year', 'Wins']]\ndf_mun['Year'] = df_mun.Year.astype(str)\n\n#Canvas\nsns.set_theme(style='whitegrid')\nfig = plt.figure()\n#Axes\nax = fig.add_axes([0, 0, 2.3, 1.3])\n#Line plot\nax.plot(df_mun.Year, df_mun.Wins, marker='s', linestyle='--', color='#DC143C', linewidth=3,\nmarkersize=8, markerfacecolor='#000000')\nax.set(xlabel='Season', ylabel='Wins')\nax.set_title(\"Cristiano Ronaldo's\\neffect\", fontdict={'fontsize': 'x-large'})\n\n#Arrow\nplt.annotate(\n    text='', xy=(5.5, 28),\n    xytext=(3.8, 23.6), xycoords='data',\n    arrowprops = dict(arrowstyle='->', connectionstyle='arc3', color='#008000', lw=4)\n)\n#Text\nplt.annotate(\n    text='CR7 arrived', xy=(4.8, 25.7),\n    rotation=60, va='center', ha='right'\n)\n\n\nfig.set_facecolor('#D2B48C')\nfig.show()",
   "execution_count": 10,
   "outputs": [
    {
     "data": {
      "text/plain": "<Figure size 432x288 with 1 Axes>",
      "image/png": "[encoded data removed]"
     },
     "metadata": {
      "image/png": {
       "width": 1048,
       "height": 466
      }
     },
     "output_type": "display_data"
    }
   ]
  },
  {
   "cell_type": "code",
   "metadata": {
    "cell_id": "79d694d3cc10475cbb3300fb0ab76dda",
    "tags": [],
    "deepnote_to_be_reexecuted": false,
    "source_hash": "276743de",
    "execution_start": 1662242691363,
    "execution_millis": 20,
    "deepnote_cell_type": "code",
    "deepnote_cell_height": 503
   },
   "source": "#Years where Manchester United was champion.\nteam, position = df_decade1.Team == 'Manchester United', df_decade1.Position == 1\nyears = df_decade1.loc[team & position, ['Team', 'Position', 'Year']]\nyears.set_index('Year', inplace=True)\nyears",
   "execution_count": 11,
   "outputs": [
    {
     "output_type": "execute_result",
     "execution_count": 11,
     "data": {
      "application/vnd.deepnote.dataframe.v3+json": {
       "column_count": 2,
       "row_count": 6,
       "columns": [
        {
         "name": "Team",
         "dtype": "object",
         "stats": {
          "unique_count": 1,
          "nan_count": 0,
          "categories": [
           {
            "name": "Manchester United",
            "count": 6
           }
          ]
         }
        },
        {
         "name": "Position",
         "dtype": "int64",
         "stats": {
          "unique_count": 1,
          "nan_count": 0,
          "min": "1",
          "max": "1",
          "histogram": [
           {
            "bin_start": 0.5,
            "bin_end": 0.6,
            "count": 0
           },
           {
            "bin_start": 0.6,
            "bin_end": 0.7,
            "count": 0
           },
           {
            "bin_start": 0.7,
            "bin_end": 0.8,
            "count": 0
           },
           {
            "bin_start": 0.8,
            "bin_end": 0.9,
            "count": 0
           },
           {
            "bin_start": 0.9,
            "bin_end": 1,
            "count": 0
           },
           {
            "bin_start": 1,
            "bin_end": 1.1,
            "count": 6
           },
           {
            "bin_start": 1.1,
            "bin_end": 1.2000000000000002,
            "count": 0
           },
           {
            "bin_start": 1.2000000000000002,
            "bin_end": 1.3,
            "count": 0
           },
           {
            "bin_start": 1.3,
            "bin_end": 1.4,
            "count": 0
           },
           {
            "bin_start": 1.4,
            "bin_end": 1.5,
            "count": 0
           }
          ]
         }
        },
        {
         "name": "_deepnote_index_column",
         "dtype": "int64"
        }
       ],
       "rows": [
        {
         "Team": "Manchester United",
         "Position": "1",
         "_deepnote_index_column": "2000"
        },
        {
         "Team": "Manchester United",
         "Position": "1",
         "_deepnote_index_column": "2002"
        },
        {
         "Team": "Manchester United",
         "Position": "1",
         "_deepnote_index_column": "2006"
        },
        {
         "Team": "Manchester United",
         "Position": "1",
         "_deepnote_index_column": "2007"
        },
        {
         "Team": "Manchester United",
         "Position": "1",
         "_deepnote_index_column": "2008"
        },
        {
         "Team": "Manchester United",
         "Position": "1",
         "_deepnote_index_column": "2010"
        }
       ]
      },
      "text/plain": "                   Team  Position\nYear                             \n2000  Manchester United         1\n2002  Manchester United         1\n2006  Manchester United         1\n2007  Manchester United         1\n2008  Manchester United         1\n2010  Manchester United         1",
      "text/html": "<div>\n<style scoped>\n    .dataframe tbody tr th:only-of-type {\n        vertical-align: middle;\n    }\n\n    .dataframe tbody tr th {\n        vertical-align: top;\n    }\n\n    .dataframe thead th {\n        text-align: right;\n    }\n</style>\n<table border=\"1\" class=\"dataframe\">\n  <thead>\n    <tr style=\"text-align: right;\">\n      <th></th>\n      <th>Team</th>\n      <th>Position</th>\n    </tr>\n    <tr>\n      <th>Year</th>\n      <th></th>\n      <th></th>\n    </tr>\n  </thead>\n  <tbody>\n    <tr>\n      <th>2000</th>\n      <td>Manchester United</td>\n      <td>1</td>\n    </tr>\n    <tr>\n      <th>2002</th>\n      <td>Manchester United</td>\n      <td>1</td>\n    </tr>\n    <tr>\n      <th>2006</th>\n      <td>Manchester United</td>\n      <td>1</td>\n    </tr>\n    <tr>\n      <th>2007</th>\n      <td>Manchester United</td>\n      <td>1</td>\n    </tr>\n    <tr>\n      <th>2008</th>\n      <td>Manchester United</td>\n      <td>1</td>\n    </tr>\n    <tr>\n      <th>2010</th>\n      <td>Manchester United</td>\n      <td>1</td>\n    </tr>\n  </tbody>\n</table>\n</div>"
     },
     "metadata": {}
    }
   ]
  },
  {
   "cell_type": "markdown",
   "source": "The arrival of Cristiano Ronaldo to Manchester United was a determining factor in the success  they achieved during these years. Well, this is where he developed his football skills to become the best player of the world in 2008. Likewise, he achieved to win the Premier league 3 times in a row in the years 2006, 2007 and 2008. And also during these 3 years Manchester United reached their highest winning numbers, thus demonstrating the superiority they had in British football.",
   "metadata": {
    "formattedRanges": [],
    "is_collapsed": false,
    "cell_id": "6bd17f39-801b-4ca6-b36e-a904d2a9e469",
    "tags": [],
    "deepnote_cell_type": "text-cell-p"
   }
  },
  {
   "cell_type": "code",
   "metadata": {
    "cell_id": "97486d8d64c64cb88fac6fe28db33763",
    "tags": [],
    "deepnote_to_be_reexecuted": false,
    "source_hash": "6c75f7dd",
    "execution_start": 1662242691393,
    "execution_millis": 40,
    "deepnote_cell_type": "code",
    "deepnote_cell_height": 636
   },
   "source": "#Analizar los goles que anotan y los que reciben a tráves de un boxplot\ndf_goals = df_decade1.loc[df_decade1.Team == 'Manchester United', ['Team','Goals Scored', 'Goals Conceded', 'Year']]\ndf_goals",
   "execution_count": 12,
   "outputs": [
    {
     "output_type": "execute_result",
     "execution_count": 12,
     "data": {
      "application/vnd.deepnote.dataframe.v3+json": {
       "column_count": 4,
       "row_count": 11,
       "columns": [
        {
         "name": "Team",
         "dtype": "object",
         "stats": {
          "unique_count": 1,
          "nan_count": 0,
          "categories": [
           {
            "name": "Manchester United",
            "count": 11
           }
          ]
         }
        },
        {
         "name": "Goals Scored",
         "dtype": "int64",
         "stats": {
          "unique_count": 11,
          "nan_count": 0,
          "min": "58",
          "max": "87",
          "histogram": [
           {
            "bin_start": 58,
            "bin_end": 60.9,
            "count": 1
           },
           {
            "bin_start": 60.9,
            "bin_end": 63.8,
            "count": 0
           },
           {
            "bin_start": 63.8,
            "bin_end": 66.7,
            "count": 1
           },
           {
            "bin_start": 66.7,
            "bin_end": 69.6,
            "count": 1
           },
           {
            "bin_start": 69.6,
            "bin_end": 72.5,
            "count": 1
           },
           {
            "bin_start": 72.5,
            "bin_end": 75.4,
            "count": 1
           },
           {
            "bin_start": 75.4,
            "bin_end": 78.3,
            "count": 1
           },
           {
            "bin_start": 78.3,
            "bin_end": 81.2,
            "count": 2
           },
           {
            "bin_start": 81.2,
            "bin_end": 84.1,
            "count": 1
           },
           {
            "bin_start": 84.1,
            "bin_end": 87,
            "count": 2
           }
          ]
         }
        },
        {
         "name": "Goals Conceded",
         "dtype": "int64",
         "stats": {
          "unique_count": 10,
          "nan_count": 0,
          "min": "22",
          "max": "45",
          "histogram": [
           {
            "bin_start": 22,
            "bin_end": 24.3,
            "count": 2
           },
           {
            "bin_start": 24.3,
            "bin_end": 26.6,
            "count": 1
           },
           {
            "bin_start": 26.6,
            "bin_end": 28.9,
            "count": 2
           },
           {
            "bin_start": 28.9,
            "bin_end": 31.2,
            "count": 1
           },
           {
            "bin_start": 31.2,
            "bin_end": 33.5,
            "count": 0
           },
           {
            "bin_start": 33.5,
            "bin_end": 35.8,
            "count": 3
           },
           {
            "bin_start": 35.8,
            "bin_end": 38.099999999999994,
            "count": 1
           },
           {
            "bin_start": 38.099999999999994,
            "bin_end": 40.4,
            "count": 0
           },
           {
            "bin_start": 40.4,
            "bin_end": 42.7,
            "count": 0
           },
           {
            "bin_start": 42.7,
            "bin_end": 45,
            "count": 1
           }
          ]
         }
        },
        {
         "name": "Year",
         "dtype": "int64",
         "stats": {
          "unique_count": 11,
          "nan_count": 0,
          "min": "2000",
          "max": "2010",
          "histogram": [
           {
            "bin_start": 2000,
            "bin_end": 2001,
            "count": 1
           },
           {
            "bin_start": 2001,
            "bin_end": 2002,
            "count": 1
           },
           {
            "bin_start": 2002,
            "bin_end": 2003,
            "count": 1
           },
           {
            "bin_start": 2003,
            "bin_end": 2004,
            "count": 1
           },
           {
            "bin_start": 2004,
            "bin_end": 2005,
            "count": 1
           },
           {
            "bin_start": 2005,
            "bin_end": 2006,
            "count": 1
           },
           {
            "bin_start": 2006,
            "bin_end": 2007,
            "count": 1
           },
           {
            "bin_start": 2007,
            "bin_end": 2008,
            "count": 1
           },
           {
            "bin_start": 2008,
            "bin_end": 2009,
            "count": 1
           },
           {
            "bin_start": 2009,
            "bin_end": 2010,
            "count": 2
           }
          ]
         }
        },
        {
         "name": "_deepnote_index_column",
         "dtype": "int64"
        }
       ],
       "rows": [
        {
         "Team": "Manchester United",
         "Goals Scored": "79",
         "Goals Conceded": "31",
         "Year": "2000",
         "_deepnote_index_column": "0"
        },
        {
         "Team": "Manchester United",
         "Goals Scored": "87",
         "Goals Conceded": "45",
         "Year": "2001",
         "_deepnote_index_column": "22"
        },
        {
         "Team": "Manchester United",
         "Goals Scored": "74",
         "Goals Conceded": "34",
         "Year": "2002",
         "_deepnote_index_column": "40"
        },
        {
         "Team": "Manchester United",
         "Goals Scored": "64",
         "Goals Conceded": "35",
         "Year": "2003",
         "_deepnote_index_column": "62"
        },
        {
         "Team": "Manchester United",
         "Goals Scored": "58",
         "Goals Conceded": "26",
         "Year": "2004",
         "_deepnote_index_column": "82"
        },
        {
         "Team": "Manchester United",
         "Goals Scored": "72",
         "Goals Conceded": "34",
         "Year": "2005",
         "_deepnote_index_column": "101"
        },
        {
         "Team": "Manchester United",
         "Goals Scored": "83",
         "Goals Conceded": "27",
         "Year": "2006",
         "_deepnote_index_column": "120"
        },
        {
         "Team": "Manchester United",
         "Goals Scored": "80",
         "Goals Conceded": "22",
         "Year": "2007",
         "_deepnote_index_column": "140"
        },
        {
         "Team": "Manchester United",
         "Goals Scored": "68",
         "Goals Conceded": "24",
         "Year": "2008",
         "_deepnote_index_column": "160"
        },
        {
         "Team": "Manchester United",
         "Goals Scored": "86",
         "Goals Conceded": "28",
         "Year": "2009",
         "_deepnote_index_column": "181"
        }
       ]
      },
      "text/plain": "                  Team  Goals Scored  Goals Conceded  Year\n0    Manchester United            79              31  2000\n22   Manchester United            87              45  2001\n40   Manchester United            74              34  2002\n62   Manchester United            64              35  2003\n82   Manchester United            58              26  2004\n101  Manchester United            72              34  2005\n120  Manchester United            83              27  2006\n140  Manchester United            80              22  2007\n160  Manchester United            68              24  2008\n181  Manchester United            86              28  2009\n200  Manchester United            78              37  2010",
      "text/html": "<div>\n<style scoped>\n    .dataframe tbody tr th:only-of-type {\n        vertical-align: middle;\n    }\n\n    .dataframe tbody tr th {\n        vertical-align: top;\n    }\n\n    .dataframe thead th {\n        text-align: right;\n    }\n</style>\n<table border=\"1\" class=\"dataframe\">\n  <thead>\n    <tr style=\"text-align: right;\">\n      <th></th>\n      <th>Team</th>\n      <th>Goals Scored</th>\n      <th>Goals Conceded</th>\n      <th>Year</th>\n    </tr>\n  </thead>\n  <tbody>\n    <tr>\n      <th>0</th>\n      <td>Manchester United</td>\n      <td>79</td>\n      <td>31</td>\n      <td>2000</td>\n    </tr>\n    <tr>\n      <th>22</th>\n      <td>Manchester United</td>\n      <td>87</td>\n      <td>45</td>\n      <td>2001</td>\n    </tr>\n    <tr>\n      <th>40</th>\n      <td>Manchester United</td>\n      <td>74</td>\n      <td>34</td>\n      <td>2002</td>\n    </tr>\n    <tr>\n      <th>62</th>\n      <td>Manchester United</td>\n      <td>64</td>\n      <td>35</td>\n      <td>2003</td>\n    </tr>\n    <tr>\n      <th>82</th>\n      <td>Manchester United</td>\n      <td>58</td>\n      <td>26</td>\n      <td>2004</td>\n    </tr>\n    <tr>\n      <th>101</th>\n      <td>Manchester United</td>\n      <td>72</td>\n      <td>34</td>\n      <td>2005</td>\n    </tr>\n    <tr>\n      <th>120</th>\n      <td>Manchester United</td>\n      <td>83</td>\n      <td>27</td>\n      <td>2006</td>\n    </tr>\n    <tr>\n      <th>140</th>\n      <td>Manchester United</td>\n      <td>80</td>\n      <td>22</td>\n      <td>2007</td>\n    </tr>\n    <tr>\n      <th>160</th>\n      <td>Manchester United</td>\n      <td>68</td>\n      <td>24</td>\n      <td>2008</td>\n    </tr>\n    <tr>\n      <th>181</th>\n      <td>Manchester United</td>\n      <td>86</td>\n      <td>28</td>\n      <td>2009</td>\n    </tr>\n    <tr>\n      <th>200</th>\n      <td>Manchester United</td>\n      <td>78</td>\n      <td>37</td>\n      <td>2010</td>\n    </tr>\n  </tbody>\n</table>\n</div>"
     },
     "metadata": {}
    }
   ]
  },
  {
   "cell_type": "markdown",
   "source": "<a style='text-decoration:none;line-height:16px;display:flex;color:#5B5B62;padding:10px;justify-content:end;' href='https://deepnote.com?utm_source=created-in-deepnote-cell&projectId=25a02e7e-55cf-475b-8f35-4cb85c25603c' target=\"_blank\">\n<img alt='Created in deepnote.com' style='display:inline;max-height:16px;margin:0px;margin-right:7.5px;' src='data:image/svg+xml;base64,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' > </img>\nCreated in <span style='font-weight:600;margin-left:4px;'>Deepnote</span></a>",
   "metadata": {
    "tags": [],
    "created_in_deepnote_cell": true,
    "deepnote_cell_type": "markdown"
   }
  }
 ],
 "nbformat": 4,
 "nbformat_minor": 2,
 "metadata": {
  "orig_nbformat": 2,
  "deepnote": {},
  "deepnote_notebook_id": "79571019-991d-4007-9ff2-bb07407e3dd7",
  "deepnote_execution_queue": []
 }
}