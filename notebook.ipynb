{
 "cells": [
  {
   "cell_type": "code",
   "metadata": {
    "tags": [],
    "cell_id": "4dce08b6-a29e-47e2-85a1-0a4510f8c8a7",
    "deepnote_to_be_reexecuted": false,
    "source_hash": "bf903efd",
    "execution_start": 1663364818539,
    "execution_millis": 2412,
    "deepnote_cell_type": "code",
    "deepnote_cell_height": 130
   },
   "source": "import matplotlib.pyplot as plt\nimport numpy as np\nimport pandas as pd\nimport seaborn as sns",
   "execution_count": 1,
   "outputs": []
  },
  {
   "cell_type": "markdown",
   "source": "# Premier League - Statistics",
   "metadata": {
    "formattedRanges": [],
    "is_collapsed": false,
    "cell_id": "70f61a5b01e549f08c4c906e3ce07a0d",
    "tags": [],
    "deepnote_cell_type": "text-cell-h1"
   }
  },
  {
   "cell_type": "code",
   "metadata": {
    "cell_id": "ea79f07ae2e24b189bf4a38fa4a2da6c",
    "tags": [],
    "deepnote_to_be_reexecuted": false,
    "source_hash": "88de7586",
    "execution_start": 1663364820987,
    "execution_millis": 715,
    "deepnote_cell_type": "code",
    "deepnote_cell_height": 483.796875
   },
   "source": "#My dataset \ndf_pl = pd.read_csv('/work/EPL_standings_2000-2022.csv', header=0, sep=',')\ndf_pl.rename(columns={'Pos': 'Position', 'Pld': 'Matchs', 'W': 'Wins', 'D': 'Draws', \n'L': 'Losses', 'GF': 'Goals Scored', 'GA': 'Goals Conceded', 'GD': 'Goals difference'}, inplace=True)\ndf_pl.head()",
   "execution_count": 2,
   "outputs": [
    {
     "output_type": "execute_result",
     "execution_count": 2,
     "data": {
      "application/vnd.deepnote.dataframe.v3+json": {
       "column_count": 12,
       "row_count": 5,
       "columns": [
        {
         "name": "Season",
         "dtype": "object",
         "stats": {
          "unique_count": 1,
          "nan_count": 0,
          "categories": [
           {
            "name": "2000-01",
            "count": 5
           }
          ]
         }
        },
        {
         "name": "Position",
         "dtype": "int64",
         "stats": {
          "unique_count": 5,
          "nan_count": 0,
          "min": "1",
          "max": "5",
          "histogram": [
           {
            "bin_start": 1,
            "bin_end": 1.4,
            "count": 1
           },
           {
            "bin_start": 1.4,
            "bin_end": 1.8,
            "count": 0
           },
           {
            "bin_start": 1.8,
            "bin_end": 2.2,
            "count": 1
           },
           {
            "bin_start": 2.2,
            "bin_end": 2.6,
            "count": 0
           },
           {
            "bin_start": 2.6,
            "bin_end": 3,
            "count": 0
           },
           {
            "bin_start": 3,
            "bin_end": 3.4000000000000004,
            "count": 1
           },
           {
            "bin_start": 3.4000000000000004,
            "bin_end": 3.8000000000000003,
            "count": 0
           },
           {
            "bin_start": 3.8000000000000003,
            "bin_end": 4.2,
            "count": 1
           },
           {
            "bin_start": 4.2,
            "bin_end": 4.6,
            "count": 0
           },
           {
            "bin_start": 4.6,
            "bin_end": 5,
            "count": 1
           }
          ]
         }
        },
        {
         "name": "Team",
         "dtype": "object",
         "stats": {
          "unique_count": 5,
          "nan_count": 0,
          "categories": [
           {
            "name": "Manchester United",
            "count": 1
           },
           {
            "name": "Arsenal",
            "count": 1
           },
           {
            "name": "3 others",
            "count": 3
           }
          ]
         }
        },
        {
         "name": "Matchs",
         "dtype": "int64",
         "stats": {
          "unique_count": 1,
          "nan_count": 0,
          "min": "38",
          "max": "38",
          "histogram": [
           {
            "bin_start": 37.5,
            "bin_end": 37.6,
            "count": 0
           },
           {
            "bin_start": 37.6,
            "bin_end": 37.7,
            "count": 0
           },
           {
            "bin_start": 37.7,
            "bin_end": 37.8,
            "count": 0
           },
           {
            "bin_start": 37.8,
            "bin_end": 37.9,
            "count": 0
           },
           {
            "bin_start": 37.9,
            "bin_end": 38,
            "count": 0
           },
           {
            "bin_start": 38,
            "bin_end": 38.1,
            "count": 5
           },
           {
            "bin_start": 38.1,
            "bin_end": 38.2,
            "count": 0
           },
           {
            "bin_start": 38.2,
            "bin_end": 38.3,
            "count": 0
           },
           {
            "bin_start": 38.3,
            "bin_end": 38.4,
            "count": 0
           },
           {
            "bin_start": 38.4,
            "bin_end": 38.5,
            "count": 0
           }
          ]
         }
        },
        {
         "name": "Wins",
         "dtype": "int64",
         "stats": {
          "unique_count": 2,
          "nan_count": 0,
          "min": "20",
          "max": "24",
          "histogram": [
           {
            "bin_start": 20,
            "bin_end": 20.4,
            "count": 4
           },
           {
            "bin_start": 20.4,
            "bin_end": 20.8,
            "count": 0
           },
           {
            "bin_start": 20.8,
            "bin_end": 21.2,
            "count": 0
           },
           {
            "bin_start": 21.2,
            "bin_end": 21.6,
            "count": 0
           },
           {
            "bin_start": 21.6,
            "bin_end": 22,
            "count": 0
           },
           {
            "bin_start": 22,
            "bin_end": 22.4,
            "count": 0
           },
           {
            "bin_start": 22.4,
            "bin_end": 22.8,
            "count": 0
           },
           {
            "bin_start": 22.8,
            "bin_end": 23.2,
            "count": 0
           },
           {
            "bin_start": 23.2,
            "bin_end": 23.6,
            "count": 0
           },
           {
            "bin_start": 23.6,
            "bin_end": 24,
            "count": 1
           }
          ]
         }
        },
        {
         "name": "Draws",
         "dtype": "int64",
         "stats": {
          "unique_count": 4,
          "nan_count": 0,
          "min": "6",
          "max": "10",
          "histogram": [
           {
            "bin_start": 6,
            "bin_end": 6.4,
            "count": 1
           },
           {
            "bin_start": 6.4,
            "bin_end": 6.8,
            "count": 0
           },
           {
            "bin_start": 6.8,
            "bin_end": 7.2,
            "count": 0
           },
           {
            "bin_start": 7.2,
            "bin_end": 7.6,
            "count": 0
           },
           {
            "bin_start": 7.6,
            "bin_end": 8,
            "count": 0
           },
           {
            "bin_start": 8,
            "bin_end": 8.4,
            "count": 2
           },
           {
            "bin_start": 8.4,
            "bin_end": 8.8,
            "count": 0
           },
           {
            "bin_start": 8.8,
            "bin_end": 9.2,
            "count": 1
           },
           {
            "bin_start": 9.2,
            "bin_end": 9.6,
            "count": 0
           },
           {
            "bin_start": 9.6,
            "bin_end": 10,
            "count": 1
           }
          ]
         }
        },
        {
         "name": "Losses",
         "dtype": "int64",
         "stats": {
          "unique_count": 5,
          "nan_count": 0,
          "min": "6",
          "max": "12",
          "histogram": [
           {
            "bin_start": 6,
            "bin_end": 6.6,
            "count": 1
           },
           {
            "bin_start": 6.6,
            "bin_end": 7.2,
            "count": 0
           },
           {
            "bin_start": 7.2,
            "bin_end": 7.8,
            "count": 0
           },
           {
            "bin_start": 7.8,
            "bin_end": 8.4,
            "count": 1
           },
           {
            "bin_start": 8.4,
            "bin_end": 9,
            "count": 0
           },
           {
            "bin_start": 9,
            "bin_end": 9.6,
            "count": 1
           },
           {
            "bin_start": 9.6,
            "bin_end": 10.2,
            "count": 1
           },
           {
            "bin_start": 10.2,
            "bin_end": 10.8,
            "count": 0
           },
           {
            "bin_start": 10.8,
            "bin_end": 11.399999999999999,
            "count": 0
           },
           {
            "bin_start": 11.399999999999999,
            "bin_end": 12,
            "count": 1
           }
          ]
         }
        },
        {
         "name": "Goals Scored",
         "dtype": "int64",
         "stats": {
          "unique_count": 5,
          "nan_count": 0,
          "min": "57",
          "max": "79",
          "histogram": [
           {
            "bin_start": 57,
            "bin_end": 59.2,
            "count": 1
           },
           {
            "bin_start": 59.2,
            "bin_end": 61.4,
            "count": 0
           },
           {
            "bin_start": 61.4,
            "bin_end": 63.6,
            "count": 1
           },
           {
            "bin_start": 63.6,
            "bin_end": 65.8,
            "count": 1
           },
           {
            "bin_start": 65.8,
            "bin_end": 68,
            "count": 0
           },
           {
            "bin_start": 68,
            "bin_end": 70.2,
            "count": 0
           },
           {
            "bin_start": 70.2,
            "bin_end": 72.4,
            "count": 1
           },
           {
            "bin_start": 72.4,
            "bin_end": 74.6,
            "count": 0
           },
           {
            "bin_start": 74.6,
            "bin_end": 76.8,
            "count": 0
           },
           {
            "bin_start": 76.8,
            "bin_end": 79,
            "count": 1
           }
          ]
         }
        },
        {
         "name": "Goals Conceded",
         "dtype": "int64",
         "stats": {
          "unique_count": 5,
          "nan_count": 0,
          "min": "31",
          "max": "43",
          "histogram": [
           {
            "bin_start": 31,
            "bin_end": 32.2,
            "count": 1
           },
           {
            "bin_start": 32.2,
            "bin_end": 33.4,
            "count": 0
           },
           {
            "bin_start": 33.4,
            "bin_end": 34.6,
            "count": 0
           },
           {
            "bin_start": 34.6,
            "bin_end": 35.8,
            "count": 0
           },
           {
            "bin_start": 35.8,
            "bin_end": 37,
            "count": 0
           },
           {
            "bin_start": 37,
            "bin_end": 38.2,
            "count": 1
           },
           {
            "bin_start": 38.2,
            "bin_end": 39.4,
            "count": 1
           },
           {
            "bin_start": 39.4,
            "bin_end": 40.6,
            "count": 0
           },
           {
            "bin_start": 40.6,
            "bin_end": 41.8,
            "count": 0
           },
           {
            "bin_start": 41.8,
            "bin_end": 43,
            "count": 2
           }
          ]
         }
        },
        {
         "name": "Goals difference",
         "dtype": "int64",
         "stats": {
          "unique_count": 5,
          "nan_count": 0,
          "min": "15",
          "max": "48",
          "histogram": [
           {
            "bin_start": 15,
            "bin_end": 18.3,
            "count": 1
           },
           {
            "bin_start": 18.3,
            "bin_end": 21.6,
            "count": 1
           },
           {
            "bin_start": 21.6,
            "bin_end": 24.9,
            "count": 0
           },
           {
            "bin_start": 24.9,
            "bin_end": 28.2,
            "count": 1
           },
           {
            "bin_start": 28.2,
            "bin_end": 31.5,
            "count": 0
           },
           {
            "bin_start": 31.5,
            "bin_end": 34.8,
            "count": 1
           },
           {
            "bin_start": 34.8,
            "bin_end": 38.099999999999994,
            "count": 0
           },
           {
            "bin_start": 38.099999999999994,
            "bin_end": 41.4,
            "count": 0
           },
           {
            "bin_start": 41.4,
            "bin_end": 44.7,
            "count": 0
           },
           {
            "bin_start": 44.7,
            "bin_end": 48,
            "count": 1
           }
          ]
         }
        },
        {
         "name": "Pts",
         "dtype": "int64",
         "stats": {
          "unique_count": 5,
          "nan_count": 0,
          "min": "66",
          "max": "80",
          "histogram": [
           {
            "bin_start": 66,
            "bin_end": 67.4,
            "count": 1
           },
           {
            "bin_start": 67.4,
            "bin_end": 68.8,
            "count": 1
           },
           {
            "bin_start": 68.8,
            "bin_end": 70.2,
            "count": 2
           },
           {
            "bin_start": 70.2,
            "bin_end": 71.6,
            "count": 0
           },
           {
            "bin_start": 71.6,
            "bin_end": 73,
            "count": 0
           },
           {
            "bin_start": 73,
            "bin_end": 74.4,
            "count": 0
           },
           {
            "bin_start": 74.4,
            "bin_end": 75.8,
            "count": 0
           },
           {
            "bin_start": 75.8,
            "bin_end": 77.2,
            "count": 0
           },
           {
            "bin_start": 77.2,
            "bin_end": 78.6,
            "count": 0
           },
           {
            "bin_start": 78.6,
            "bin_end": 80,
            "count": 1
           }
          ]
         }
        },
        {
         "name": "Qualification or relegation",
         "dtype": "object",
         "stats": {
          "unique_count": 3,
          "nan_count": 0,
          "categories": [
           {
            "name": "Qualification for the Champions League first group stage",
            "count": 2
           },
           {
            "name": "Qualification for the UEFA Cup first round[a]",
            "count": 2
           },
           {
            "name": "Qualification for the Champions League third qualifying round[a]",
            "count": 1
           }
          ]
         }
        },
        {
         "name": "_deepnote_index_column",
         "dtype": "int64"
        }
       ],
       "rows": [
        {
         "Season": "2000-01",
         "Position": "1",
         "Team": "Manchester United",
         "Matchs": "38",
         "Wins": "24",
         "Draws": "8",
         "Losses": "6",
         "Goals Scored": "79",
         "Goals Conceded": "31",
         "Goals difference": "48",
         "Pts": "80",
         "Qualification or relegation": "Qualification for the Champions League first group stage",
         "_deepnote_index_column": "0"
        },
        {
         "Season": "2000-01",
         "Position": "2",
         "Team": "Arsenal",
         "Matchs": "38",
         "Wins": "20",
         "Draws": "10",
         "Losses": "8",
         "Goals Scored": "63",
         "Goals Conceded": "38",
         "Goals difference": "25",
         "Pts": "70",
         "Qualification or relegation": "Qualification for the Champions League first group stage",
         "_deepnote_index_column": "1"
        },
        {
         "Season": "2000-01",
         "Position": "3",
         "Team": "Liverpool",
         "Matchs": "38",
         "Wins": "20",
         "Draws": "9",
         "Losses": "9",
         "Goals Scored": "71",
         "Goals Conceded": "39",
         "Goals difference": "32",
         "Pts": "69",
         "Qualification or relegation": "Qualification for the Champions League third qualifying round[a]",
         "_deepnote_index_column": "2"
        },
        {
         "Season": "2000-01",
         "Position": "4",
         "Team": "Leeds United",
         "Matchs": "38",
         "Wins": "20",
         "Draws": "8",
         "Losses": "10",
         "Goals Scored": "64",
         "Goals Conceded": "43",
         "Goals difference": "21",
         "Pts": "68",
         "Qualification or relegation": "Qualification for the UEFA Cup first round[a]",
         "_deepnote_index_column": "3"
        },
        {
         "Season": "2000-01",
         "Position": "5",
         "Team": "Ipswich Town",
         "Matchs": "38",
         "Wins": "20",
         "Draws": "6",
         "Losses": "12",
         "Goals Scored": "57",
         "Goals Conceded": "42",
         "Goals difference": "15",
         "Pts": "66",
         "Qualification or relegation": "Qualification for the UEFA Cup first round[a]",
         "_deepnote_index_column": "4"
        }
       ]
      },
      "text/plain": "    Season  Position               Team  Matchs  Wins  Draws  Losses  \\\n0  2000-01         1  Manchester United      38    24      8       6   \n1  2000-01         2            Arsenal      38    20     10       8   \n2  2000-01         3          Liverpool      38    20      9       9   \n3  2000-01         4       Leeds United      38    20      8      10   \n4  2000-01         5       Ipswich Town      38    20      6      12   \n\n   Goals Scored  Goals Conceded  Goals difference  Pts  \\\n0            79              31                48   80   \n1            63              38                25   70   \n2            71              39                32   69   \n3            64              43                21   68   \n4            57              42                15   66   \n\n                         Qualification or relegation  \n0  Qualification for the Champions League first g...  \n1  Qualification for the Champions League first g...  \n2  Qualification for the Champions League third q...  \n3      Qualification for the UEFA Cup first round[a]  \n4      Qualification for the UEFA Cup first round[a]  ",
      "text/html": "<div>\n<style scoped>\n    .dataframe tbody tr th:only-of-type {\n        vertical-align: middle;\n    }\n\n    .dataframe tbody tr th {\n        vertical-align: top;\n    }\n\n    .dataframe thead th {\n        text-align: right;\n    }\n</style>\n<table border=\"1\" class=\"dataframe\">\n  <thead>\n    <tr style=\"text-align: right;\">\n      <th></th>\n      <th>Season</th>\n      <th>Position</th>\n      <th>Team</th>\n      <th>Matchs</th>\n      <th>Wins</th>\n      <th>Draws</th>\n      <th>Losses</th>\n      <th>Goals Scored</th>\n      <th>Goals Conceded</th>\n      <th>Goals difference</th>\n      <th>Pts</th>\n      <th>Qualification or relegation</th>\n    </tr>\n  </thead>\n  <tbody>\n    <tr>\n      <th>0</th>\n      <td>2000-01</td>\n      <td>1</td>\n      <td>Manchester United</td>\n      <td>38</td>\n      <td>24</td>\n      <td>8</td>\n      <td>6</td>\n      <td>79</td>\n      <td>31</td>\n      <td>48</td>\n      <td>80</td>\n      <td>Qualification for the Champions League first g...</td>\n    </tr>\n    <tr>\n      <th>1</th>\n      <td>2000-01</td>\n      <td>2</td>\n      <td>Arsenal</td>\n      <td>38</td>\n      <td>20</td>\n      <td>10</td>\n      <td>8</td>\n      <td>63</td>\n      <td>38</td>\n      <td>25</td>\n      <td>70</td>\n      <td>Qualification for the Champions League first g...</td>\n    </tr>\n    <tr>\n      <th>2</th>\n      <td>2000-01</td>\n      <td>3</td>\n      <td>Liverpool</td>\n      <td>38</td>\n      <td>20</td>\n      <td>9</td>\n      <td>9</td>\n      <td>71</td>\n      <td>39</td>\n      <td>32</td>\n      <td>69</td>\n      <td>Qualification for the Champions League third q...</td>\n    </tr>\n    <tr>\n      <th>3</th>\n      <td>2000-01</td>\n      <td>4</td>\n      <td>Leeds United</td>\n      <td>38</td>\n      <td>20</td>\n      <td>8</td>\n      <td>10</td>\n      <td>64</td>\n      <td>43</td>\n      <td>21</td>\n      <td>68</td>\n      <td>Qualification for the UEFA Cup first round[a]</td>\n    </tr>\n    <tr>\n      <th>4</th>\n      <td>2000-01</td>\n      <td>5</td>\n      <td>Ipswich Town</td>\n      <td>38</td>\n      <td>20</td>\n      <td>6</td>\n      <td>12</td>\n      <td>57</td>\n      <td>42</td>\n      <td>15</td>\n      <td>66</td>\n      <td>Qualification for the UEFA Cup first round[a]</td>\n    </tr>\n  </tbody>\n</table>\n</div>"
     },
     "metadata": {}
    }
   ]
  },
  {
   "cell_type": "markdown",
   "source": "## General Summarize",
   "metadata": {
    "formattedRanges": [],
    "is_collapsed": false,
    "cell_id": "8d514ab5b70b4331836974bef5792344",
    "tags": [],
    "deepnote_cell_type": "text-cell-h2"
   }
  },
  {
   "cell_type": "markdown",
   "source": "### Red devils's  decade - (2000-2010)",
   "metadata": {
    "formattedRanges": [],
    "is_collapsed": false,
    "cell_id": "e6b9f9206d2d480e918866e77267345b",
    "tags": [],
    "deepnote_cell_type": "text-cell-h3"
   }
  },
  {
   "cell_type": "code",
   "metadata": {
    "cell_id": "f89167f038b742db8785af335fbf56ef",
    "tags": [],
    "deepnote_to_be_reexecuted": false,
    "source_hash": "8f6bc27c",
    "execution_start": 1663364821029,
    "execution_millis": 684,
    "deepnote_cell_type": "code",
    "deepnote_cell_height": 677.375,
    "deepnote_output_heights": [
     423.390625
    ]
   },
   "source": "#Seasons od dataset\nyears = np.array(list(range(2000, 2022)), dtype=str)\nnumbers= np.array(list(range(1, 23)), dtype=str)\nseason = []\nfor year, num in zip(years, numbers):\n    if int(num) < 10:\n        season.append(year+'-'+'0'+num)\n    else:\n        season.append(year+'-'+num)\nseason",
   "execution_count": 3,
   "outputs": [
    {
     "output_type": "execute_result",
     "execution_count": 3,
     "data": {
      "text/plain": "['2000-01',\n '2001-02',\n '2002-03',\n '2003-04',\n '2004-05',\n '2005-06',\n '2006-07',\n '2007-08',\n '2008-09',\n '2009-10',\n '2010-11',\n '2011-12',\n '2012-13',\n '2013-14',\n '2014-15',\n '2015-16',\n '2016-17',\n '2017-18',\n '2018-19',\n '2019-20',\n '2020-21',\n '2021-22']"
     },
     "metadata": {}
    }
   ]
  },
  {
   "cell_type": "code",
   "metadata": {
    "cell_id": "5d9c2ef519e54a0f8d54335f9ef5acda",
    "tags": [],
    "deepnote_to_be_reexecuted": false,
    "source_hash": "d057535c",
    "execution_start": 1663364821030,
    "execution_millis": 686,
    "deepnote_table_state": {
     "pageSize": 10,
     "pageIndex": 21,
     "filters": [],
     "sortBy": []
    },
    "deepnote_table_loading": false,
    "deepnote_table_invalid": false,
    "deepnote_cell_type": "code",
    "deepnote_cell_height": 256.1875,
    "deepnote_output_heights": [
     20.1875
    ]
   },
   "source": "#Build dataset about statistics of PL in the first decade of XXI century.\ndf_decade1 = df_pl.copy()\ndf_years = pd.DataFrame({\n    'Season': season,\n    'Year': np.arange(2000, 2022),\n})\ndf_decade1 = pd.merge(left=df_decade1, right=df_years, on='Season', how='outer')\ndf_decade1 = df_decade1[df_decade1.Year <=2010]\ndf_decade1.Year.unique()",
   "execution_count": 4,
   "outputs": [
    {
     "output_type": "execute_result",
     "execution_count": 4,
     "data": {
      "text/plain": "array([2000, 2001, 2002, 2003, 2004, 2005, 2006, 2007, 2008, 2009, 2010])"
     },
     "metadata": {}
    }
   ]
  },
  {
   "cell_type": "code",
   "metadata": {
    "cell_id": "68f9e08b2cd04a539433a848c31794c2",
    "tags": [],
    "deepnote_to_be_reexecuted": false,
    "source_hash": "5ec1a617",
    "execution_start": 1663364821033,
    "execution_millis": 690,
    "deepnote_cell_type": "code",
    "deepnote_cell_height": 166.1875,
    "deepnote_output_heights": [
     20.1875
    ]
   },
   "source": "#How many matchs there were during this decade?\nmatches = df_decade1.loc[df_decade1.Team == 'Manchester United', 'Matchs']\nmatches = matches.sum()\nmatches",
   "execution_count": 5,
   "outputs": [
    {
     "output_type": "execute_result",
     "execution_count": 5,
     "data": {
      "text/plain": "418"
     },
     "metadata": {}
    }
   ]
  },
  {
   "cell_type": "code",
   "metadata": {
    "cell_id": "6ac18c75fc084862adb76864ec6d51ae",
    "tags": [],
    "deepnote_to_be_reexecuted": false,
    "source_hash": "774bf77b",
    "execution_start": 1663364821040,
    "execution_millis": 20,
    "deepnote_cell_type": "code",
    "deepnote_cell_height": 333
   },
   "source": "#Champions teams\ndf_champions = df_decade1.loc[df_decade1.Position == 1, ['Team', 'Year']]\ndf_champions.sort_values('Team', ascending=False, inplace=True)\n#Top5: The most winning teams\ndf_wins = df_decade1.copy()\ndf_wins = df_wins.groupby('Team').agg({'Wins': 'sum'}).sort_values('Wins', ascending=False).head()\n#Stats of Manchester United\nstats_mun = df_decade1[df_decade1.Team == 'Manchester United']\nstats_mun = stats_mun.pivot_table(index='Team', aggfunc={'Wins': 'sum', 'Draws': 'sum', 'Losses': 'sum'}).T\n#Possible points\npoints_mun = df_decade1.loc[df_decade1.Team == 'Manchester United', ['Team', 'Pts']]\npoints_mun = points_mun.groupby('Team').agg({'Pts': 'sum'})\npoints_mun['Points Loss'] = matches*3 - points_mun.iloc[0, 0]\npoints_mun.rename(columns={'Pts': 'Points earned'}, inplace=True)\npoints_mun = points_mun.T",
   "execution_count": 6,
   "outputs": []
  },
  {
   "cell_type": "code",
   "metadata": {
    "cell_id": "1df938fdbd074906af8b6d0c375a78da",
    "tags": [],
    "deepnote_to_be_reexecuted": false,
    "source_hash": "53d8ed92",
    "execution_start": 1663364821088,
    "execution_millis": 658,
    "deepnote_cell_type": "code",
    "deepnote_cell_height": 153.1875,
    "deepnote_output_heights": [
     20.1875
    ]
   },
   "source": "#Shorten the names.\ndf_wins.rename(index={'Manchester United': 'Man. United', 'Tottenham Hotspur': 'Tottenham'}, inplace=True)\ndf_wins.index[[0, -1]]",
   "execution_count": 7,
   "outputs": [
    {
     "output_type": "execute_result",
     "execution_count": 7,
     "data": {
      "text/plain": "Index(['Man. United', 'Tottenham'], dtype='object', name='Team')"
     },
     "metadata": {}
    }
   ]
  },
  {
   "cell_type": "code",
   "metadata": {
    "cell_id": "688ae35a4a1642a7a04f12635aea5d08",
    "tags": [],
    "deepnote_to_be_reexecuted": false,
    "source_hash": "d0c6825e",
    "execution_start": 1663364821095,
    "execution_millis": 671,
    "deepnote_cell_type": "code",
    "deepnote_cell_height": 767.4375,
    "deepnote_output_heights": [
     405.4375
    ]
   },
   "source": "#Colors\npalette = {team: '#AAA662' for team in df_wins.index}\npalette['Man. United'] = '#FC5A50'\n#Canvas\nfig = plt.figure(figsize=(15, 6))\n#Countplot\nax1 = fig.add_subplot(1, 2, 1)\nsns.countplot(data=df_champions, x='Team', palette=palette.values())\nax1.set(ylabel='Premier League', title='PL Champions\\n(2000-2010)')\n#Barplot\nax2 = fig.add_subplot(1, 2, 2)\nsns.barplot(data=df_wins, x=df_wins.index, y='Wins', palette=palette.values())\nax2.set(ylabel='Wins', title='The most amount of wins\\n(2000-2021)')\nax2.set_xticks(np.arange(5), df_wins.index,rotation=45)\nfig.set_facecolor('#FFFFCB')\nfig.show()",
   "execution_count": 8,
   "outputs": [
    {
     "data": {
      "text/plain": "<Figure size 1500x600 with 2 Axes>",
      "image/png": "[encoded data removed]"
     },
     "metadata": {
      "image/png": {
       "width": 1220,
       "height": 623
      }
     },
     "output_type": "display_data"
    }
   ]
  },
  {
   "cell_type": "code",
   "metadata": {
    "cell_id": "2d725b57d42f4cc792ad251d3c21cd8c",
    "tags": [],
    "deepnote_to_be_reexecuted": false,
    "source_hash": "4d89029c",
    "execution_start": 1663364821594,
    "execution_millis": 600,
    "deepnote_cell_type": "code",
    "deepnote_cell_height": 817.375,
    "deepnote_output_heights": [
     473.375
    ]
   },
   "source": "#Canvas\nfig, [ax1, ax2] = plt.subplots(nrows=1, ncols=2, figsize=(15, 8))\n#Axes\n#Pie chart\nax1.pie(data=stats_mun, x='Manchester United', autopct=\"%.1f%%\", \ncolors=['#929591', '#DC143C', '#15B01A'], pctdistance=1.15, shadow=True, startangle=90)\nax1.set_title('\\nHistorial', fontdict={'fontsize': 'xx-large'})\nax1.legend(labels=stats_mun.index, bbox_to_anchor=(0.65, 0))\n#Pie chart\nax2.pie(data=points_mun, x='Manchester United', autopct=\"%.1f%%\", pctdistance=1.15, shadow=True,\nstartangle=90, colors=['#15B01A', '#929591'])\nax2.set_title('\\nPoints\\nachieved', fontdict={'fontsize': 'xx-large'})\nax2.legend(labels=points_mun.index, bbox_to_anchor=(0.65, 0))\nfig.set_facecolor('#FFFFCB')\nfig.show()",
   "execution_count": 9,
   "outputs": [
    {
     "data": {
      "text/plain": "<Figure size 1500x800 with 2 Axes>",
      "image/png": "[encoded data removed]"
     },
     "metadata": {
      "image/png": {
       "width": 1182,
       "height": 705
      }
     },
     "output_type": "display_data"
    }
   ]
  },
  {
   "cell_type": "markdown",
   "source": "Manchester United was the best team of British football during these 10 years and they leave us with the following statistics:\n* 6 Premier Leagues.\n* More than 50% of matches they played ended in victory -> 276 wins in 418 matches.\n* They've earned more than 70% of possible points  -> 906 / 1254 points.\n",
   "metadata": {
    "cell_id": "48f031ea7bd44de69e1d206f81e31797",
    "tags": [],
    "deepnote_cell_type": "markdown",
    "deepnote_cell_height": 176
   }
  },
  {
   "cell_type": "code",
   "metadata": {
    "cell_id": "c530ec1679a646569b849af3f501c85b",
    "tags": [],
    "deepnote_to_be_reexecuted": false,
    "source_hash": "67779c86",
    "execution_start": 1663364822208,
    "execution_millis": 361,
    "deepnote_cell_type": "code",
    "deepnote_cell_height": 998.6875,
    "deepnote_output_heights": [
     384.703125
    ]
   },
   "source": "#The best years of United\ndf_mun = df_decade1\ndf_mun = df_mun.loc[df_mun.Team == 'Manchester United', ['Season', 'Wins']]\n\n#Canvas\nsns.set_theme(style='whitegrid')\nfig = plt.figure()\n#Axes\nax = fig.add_axes([0, 0, 2.3, 1.3])\n#Line plot\nax.plot(df_mun.Season, df_mun.Wins, marker='s', linestyle='--', color='#DC143C', linewidth=3,\nmarkersize=8, markerfacecolor='#000000')\nax.set(xlabel='Season', ylabel='Wins')\nax.set_title(\"Cristiano Ronaldo's\\neffect\", fontdict={'fontsize': 'x-large'})\n\n#Arrow\nplt.annotate(\n    text='', xy=(5.5, 28),\n    xytext=(3.8, 23.6), xycoords='data',\n    arrowprops = dict(arrowstyle='->', connectionstyle='arc3', color='#008000', lw=4)\n)\n#Text\nplt.annotate(\n    text='CR7 arrived', xy=(4.8, 25.7),\n    rotation=60, va='center', ha='right'\n)\n\n\nfig.set_facecolor('#D2B48C')\nfig.show()",
   "execution_count": 10,
   "outputs": [
    {
     "data": {
      "text/plain": "<Figure size 640x480 with 1 Axes>",
      "image/png": "[encoded data removed]"
     },
     "metadata": {
      "image/png": {
       "width": 1548,
       "height": 750
      }
     },
     "output_type": "display_data"
    }
   ]
  },
  {
   "cell_type": "code",
   "metadata": {
    "cell_id": "79d694d3cc10475cbb3300fb0ab76dda",
    "tags": [],
    "deepnote_to_be_reexecuted": false,
    "source_hash": "da1d7d09",
    "execution_start": 1663364822571,
    "execution_millis": 27,
    "deepnote_cell_type": "code",
    "deepnote_cell_height": 503
   },
   "source": "#Years where Manchester United was champion.\nteam, position = df_decade1.Team == 'Manchester United', df_decade1.Position == 1\nyears = df_decade1.loc[team & position, ['Season', 'Team', 'Position']]\nyears.set_index('Season', inplace=True)\nyears",
   "execution_count": 11,
   "outputs": [
    {
     "output_type": "execute_result",
     "execution_count": 11,
     "data": {
      "application/vnd.deepnote.dataframe.v3+json": {
       "column_count": 2,
       "row_count": 6,
       "columns": [
        {
         "name": "Team",
         "dtype": "object",
         "stats": {
          "unique_count": 1,
          "nan_count": 0,
          "categories": [
           {
            "name": "Manchester United",
            "count": 6
           }
          ]
         }
        },
        {
         "name": "Position",
         "dtype": "int64",
         "stats": {
          "unique_count": 1,
          "nan_count": 0,
          "min": "1",
          "max": "1",
          "histogram": [
           {
            "bin_start": 0.5,
            "bin_end": 0.6,
            "count": 0
           },
           {
            "bin_start": 0.6,
            "bin_end": 0.7,
            "count": 0
           },
           {
            "bin_start": 0.7,
            "bin_end": 0.8,
            "count": 0
           },
           {
            "bin_start": 0.8,
            "bin_end": 0.9,
            "count": 0
           },
           {
            "bin_start": 0.9,
            "bin_end": 1,
            "count": 0
           },
           {
            "bin_start": 1,
            "bin_end": 1.1,
            "count": 6
           },
           {
            "bin_start": 1.1,
            "bin_end": 1.2000000000000002,
            "count": 0
           },
           {
            "bin_start": 1.2000000000000002,
            "bin_end": 1.3,
            "count": 0
           },
           {
            "bin_start": 1.3,
            "bin_end": 1.4,
            "count": 0
           },
           {
            "bin_start": 1.4,
            "bin_end": 1.5,
            "count": 0
           }
          ]
         }
        },
        {
         "name": "_deepnote_index_column",
         "dtype": "object"
        }
       ],
       "rows": [
        {
         "Team": "Manchester United",
         "Position": "1",
         "_deepnote_index_column": "2000-01"
        },
        {
         "Team": "Manchester United",
         "Position": "1",
         "_deepnote_index_column": "2002-03"
        },
        {
         "Team": "Manchester United",
         "Position": "1",
         "_deepnote_index_column": "2006-07"
        },
        {
         "Team": "Manchester United",
         "Position": "1",
         "_deepnote_index_column": "2007-08"
        },
        {
         "Team": "Manchester United",
         "Position": "1",
         "_deepnote_index_column": "2008-09"
        },
        {
         "Team": "Manchester United",
         "Position": "1",
         "_deepnote_index_column": "2010-11"
        }
       ]
      },
      "text/plain": "                      Team  Position\nSeason                              \n2000-01  Manchester United         1\n2002-03  Manchester United         1\n2006-07  Manchester United         1\n2007-08  Manchester United         1\n2008-09  Manchester United         1\n2010-11  Manchester United         1",
      "text/html": "<div>\n<style scoped>\n    .dataframe tbody tr th:only-of-type {\n        vertical-align: middle;\n    }\n\n    .dataframe tbody tr th {\n        vertical-align: top;\n    }\n\n    .dataframe thead th {\n        text-align: right;\n    }\n</style>\n<table border=\"1\" class=\"dataframe\">\n  <thead>\n    <tr style=\"text-align: right;\">\n      <th></th>\n      <th>Team</th>\n      <th>Position</th>\n    </tr>\n    <tr>\n      <th>Season</th>\n      <th></th>\n      <th></th>\n    </tr>\n  </thead>\n  <tbody>\n    <tr>\n      <th>2000-01</th>\n      <td>Manchester United</td>\n      <td>1</td>\n    </tr>\n    <tr>\n      <th>2002-03</th>\n      <td>Manchester United</td>\n      <td>1</td>\n    </tr>\n    <tr>\n      <th>2006-07</th>\n      <td>Manchester United</td>\n      <td>1</td>\n    </tr>\n    <tr>\n      <th>2007-08</th>\n      <td>Manchester United</td>\n      <td>1</td>\n    </tr>\n    <tr>\n      <th>2008-09</th>\n      <td>Manchester United</td>\n      <td>1</td>\n    </tr>\n    <tr>\n      <th>2010-11</th>\n      <td>Manchester United</td>\n      <td>1</td>\n    </tr>\n  </tbody>\n</table>\n</div>"
     },
     "metadata": {}
    }
   ]
  },
  {
   "cell_type": "markdown",
   "source": "The arrival of Cristiano Ronaldo to Manchester United was a determining factor in the success  they achieved during these years. Well, this is where he developed his football skills to become the best player of the world in 2008. Likewise, he achieved to win the Premier league 3 times in a row in the years 2006, 2007 and 2008. And also during these 3 years Manchester United reached their highest winning numbers, thus demonstrating the superiority they had in British football.",
   "metadata": {
    "formattedRanges": [],
    "is_collapsed": false,
    "cell_id": "6bd17f39-801b-4ca6-b36e-a904d2a9e469",
    "tags": [],
    "deepnote_cell_type": "text-cell-p"
   }
  },
  {
   "cell_type": "code",
   "metadata": {
    "cell_id": "97486d8d64c64cb88fac6fe28db33763",
    "tags": [],
    "deepnote_to_be_reexecuted": false,
    "source_hash": "4186ff48",
    "execution_start": 1663364822602,
    "execution_millis": 1100,
    "deepnote_cell_type": "code",
    "deepnote_cell_height": 743.25,
    "deepnote_output_heights": [
     376.25
    ]
   },
   "source": "#Analizar los goles que anotan y los que reciben a tráves de un boxplot\ndf_goals = df_decade1.loc[df_decade1.Team == 'Manchester United', ['Goals Scored', 'Goals Conceded']]\n#Canvas\nfig = plt.figure(figsize=(16, 6))\n#Boxplot: Goals Scored\nax1 = fig.add_subplot(1, 2, 1)\nax1 = sns.boxplot(data=df_goals, x='Goals Scored', color='#F0E68C')\nax1 = sns.swarmplot(data=df_goals, x='Goals Scored', color='k')\nax1.set_title('Goals Scored\\nof Manchester United\\n(2000-2010)')\n#Boxplot: Goals Conceded\nax2 = fig.add_subplot(1, 2, 2)\nax2 = sns.boxplot(data=df_goals, x='Goals Conceded', color='#F0E68C')\nax2 = sns.swarmplot(data=df_goals, x='Goals Conceded', color='k')\nax2.set_title('Goals Conceded\\nof Manchester United\\n(2000-2010)')\nfig.set_facecolor('#FFFFCB')\nfig.show()",
   "execution_count": 12,
   "outputs": [
    {
     "data": {
      "text/plain": "<Figure size 1600x600 with 2 Axes>",
      "image/png": "[encoded data removed]"
     },
     "metadata": {
      "image/png": {
       "width": 1260,
       "height": 597
      }
     },
     "output_type": "display_data"
    }
   ]
  },
  {
   "cell_type": "code",
   "metadata": {
    "cell_id": "a72bc0b204c845e8b54cb8f388b2d66b",
    "tags": [],
    "deepnote_to_be_reexecuted": false,
    "source_hash": "b5aba1be",
    "execution_start": 1663364823707,
    "execution_millis": 783,
    "deepnote_cell_type": "code",
    "deepnote_cell_height": 485
   },
   "source": "statistics = df_goals.describe()\nstatistics = statistics.loc[['mean', 'min', '25%', '50%', '75%', 'max'], :]\nstatistics.loc['mean'] = statistics.loc['mean'].apply(lambda x: np.round(x, 2))\nstatistics",
   "execution_count": 13,
   "outputs": [
    {
     "output_type": "execute_result",
     "execution_count": 13,
     "data": {
      "application/vnd.deepnote.dataframe.v3+json": {
       "column_count": 2,
       "row_count": 6,
       "columns": [
        {
         "name": "Goals Scored",
         "dtype": "float64",
         "stats": {
          "unique_count": 6,
          "nan_count": 0,
          "min": "58.0",
          "max": "87.0",
          "histogram": [
           {
            "bin_start": 58,
            "bin_end": 60.9,
            "count": 1
           },
           {
            "bin_start": 60.9,
            "bin_end": 63.8,
            "count": 0
           },
           {
            "bin_start": 63.8,
            "bin_end": 66.7,
            "count": 0
           },
           {
            "bin_start": 66.7,
            "bin_end": 69.6,
            "count": 0
           },
           {
            "bin_start": 69.6,
            "bin_end": 72.5,
            "count": 1
           },
           {
            "bin_start": 72.5,
            "bin_end": 75.4,
            "count": 1
           },
           {
            "bin_start": 75.4,
            "bin_end": 78.3,
            "count": 1
           },
           {
            "bin_start": 78.3,
            "bin_end": 81.2,
            "count": 0
           },
           {
            "bin_start": 81.2,
            "bin_end": 84.1,
            "count": 1
           },
           {
            "bin_start": 84.1,
            "bin_end": 87,
            "count": 1
           }
          ]
         }
        },
        {
         "name": "Goals Conceded",
         "dtype": "float64",
         "stats": {
          "unique_count": 6,
          "nan_count": 0,
          "min": "22.0",
          "max": "45.0",
          "histogram": [
           {
            "bin_start": 22,
            "bin_end": 24.3,
            "count": 1
           },
           {
            "bin_start": 24.3,
            "bin_end": 26.6,
            "count": 1
           },
           {
            "bin_start": 26.6,
            "bin_end": 28.9,
            "count": 0
           },
           {
            "bin_start": 28.9,
            "bin_end": 31.2,
            "count": 2
           },
           {
            "bin_start": 31.2,
            "bin_end": 33.5,
            "count": 0
           },
           {
            "bin_start": 33.5,
            "bin_end": 35.8,
            "count": 1
           },
           {
            "bin_start": 35.8,
            "bin_end": 38.099999999999994,
            "count": 0
           },
           {
            "bin_start": 38.099999999999994,
            "bin_end": 40.4,
            "count": 0
           },
           {
            "bin_start": 40.4,
            "bin_end": 42.7,
            "count": 0
           },
           {
            "bin_start": 42.7,
            "bin_end": 45,
            "count": 1
           }
          ]
         }
        },
        {
         "name": "_deepnote_index_column",
         "dtype": "object"
        }
       ],
       "rows": [
        {
         "Goals Scored": "75.36",
         "Goals Conceded": "31.18",
         "_deepnote_index_column": "mean"
        },
        {
         "Goals Scored": "58.0",
         "Goals Conceded": "22.0",
         "_deepnote_index_column": "min"
        },
        {
         "Goals Scored": "70.0",
         "Goals Conceded": "26.5",
         "_deepnote_index_column": "25%"
        },
        {
         "Goals Scored": "78.0",
         "Goals Conceded": "31.0",
         "_deepnote_index_column": "50%"
        },
        {
         "Goals Scored": "81.5",
         "Goals Conceded": "34.5",
         "_deepnote_index_column": "75%"
        },
        {
         "Goals Scored": "87.0",
         "Goals Conceded": "45.0",
         "_deepnote_index_column": "max"
        }
       ]
      },
      "text/plain": "      Goals Scored  Goals Conceded\nmean         75.36           31.18\nmin          58.00           22.00\n25%          70.00           26.50\n50%          78.00           31.00\n75%          81.50           34.50\nmax          87.00           45.00",
      "text/html": "<div>\n<style scoped>\n    .dataframe tbody tr th:only-of-type {\n        vertical-align: middle;\n    }\n\n    .dataframe tbody tr th {\n        vertical-align: top;\n    }\n\n    .dataframe thead th {\n        text-align: right;\n    }\n</style>\n<table border=\"1\" class=\"dataframe\">\n  <thead>\n    <tr style=\"text-align: right;\">\n      <th></th>\n      <th>Goals Scored</th>\n      <th>Goals Conceded</th>\n    </tr>\n  </thead>\n  <tbody>\n    <tr>\n      <th>mean</th>\n      <td>75.36</td>\n      <td>31.18</td>\n    </tr>\n    <tr>\n      <th>min</th>\n      <td>58.00</td>\n      <td>22.00</td>\n    </tr>\n    <tr>\n      <th>25%</th>\n      <td>70.00</td>\n      <td>26.50</td>\n    </tr>\n    <tr>\n      <th>50%</th>\n      <td>78.00</td>\n      <td>31.00</td>\n    </tr>\n    <tr>\n      <th>75%</th>\n      <td>81.50</td>\n      <td>34.50</td>\n    </tr>\n    <tr>\n      <th>max</th>\n      <td>87.00</td>\n      <td>45.00</td>\n    </tr>\n  </tbody>\n</table>\n</div>"
     },
     "metadata": {}
    }
   ]
  },
  {
   "cell_type": "markdown",
   "source": "During these years Manchester United proved to be very scorer team and strong in defense. Therefore, they leave us the following statistics:\n* Average goals per season: 75.36 goals. And as for each season there are 38 matches this means that they scored 1.98 goals/match, that is almost 2 goals. On the other hand, if we analyse its best scoring season and the worst you can observe that at least there was 1 goal/match, so it must have been a very safe bet at the time.\n\n* Average goals conceded per season: 31.18 goals. This indicates us that Manchester United received 0.82 goals/match and this data shows the great defensive solidity they had. And as a bonus, during 2007 they only received 22 goals/match, i.e. 0.58 goals/match, thus demonstrating how unlikely it was to score 1 goal to the Red Devils. \n\n",
   "metadata": {
    "cell_id": "56805b58aff24e15b9b5ab44e0e45150",
    "tags": [],
    "deepnote_cell_type": "markdown",
    "deepnote_cell_height": 262.59375
   }
  },
  {
   "cell_type": "markdown",
   "source": "---",
   "metadata": {
    "cell_id": "187ea56536db4a4eb8a4c55f004655a4",
    "tags": [],
    "deepnote_cell_type": "markdown",
    "deepnote_cell_height": 46
   }
  },
  {
   "cell_type": "markdown",
   "source": "#### **Other statistics**",
   "metadata": {
    "cell_id": "990aa7038f404828b75f5793be2c513a",
    "tags": [],
    "deepnote_cell_type": "markdown",
    "deepnote_cell_height": 54
   }
  },
  {
   "cell_type": "markdown",
   "source": "**Goals per Season**",
   "metadata": {
    "cell_id": "abe07752331d41d5a60567af32f5f49b",
    "tags": [],
    "deepnote_cell_type": "markdown",
    "deepnote_cell_height": 52.390625
   }
  },
  {
   "cell_type": "code",
   "metadata": {
    "cell_id": "fdada6b10e30465e9ab3ceac6d869952",
    "tags": [],
    "deepnote_to_be_reexecuted": false,
    "source_hash": "5e4accf0",
    "execution_start": 1663364823733,
    "execution_millis": 1087,
    "deepnote_cell_type": "code",
    "deepnote_cell_height": 771.375,
    "deepnote_output_heights": [
     481.375
    ]
   },
   "source": "#The most scorer season\ndf_season = df_decade1.groupby('Season').agg({'Goals Scored': 'sum'})\n#Canvas\nfig = plt.figure()\n#Axes\nax = fig.add_axes([0, 0, 2, 1.5])\n#Line plot\nax.plot(df_season.index, df_season['Goals Scored'], marker='o', linestyle='-', color='g',\nlinewidth=3, markerfacecolor='k', markersize=7)\nax.set(xlabel='Season', ylabel='Goals Scored', title='The number of goals\\nper season')\nfig.set_facecolor('#FFFFCB')\nfig.show()",
   "execution_count": 14,
   "outputs": [
    {
     "data": {
      "text/plain": "<Figure size 640x480 with 1 Axes>",
      "image/png": "[encoded data removed]"
     },
     "metadata": {
      "image/png": {
       "width": 1375,
       "height": 834
      }
     },
     "output_type": "display_data"
    }
   ]
  },
  {
   "cell_type": "code",
   "metadata": {
    "cell_id": "211915307df34d649686340caf7b1838",
    "tags": [],
    "deepnote_to_be_reexecuted": false,
    "source_hash": "956d7572",
    "execution_start": 1663364824135,
    "execution_millis": 686,
    "deepnote_cell_type": "code",
    "deepnote_cell_height": 285
   },
   "source": "statistics = df_season.describe().loc[['min', 'max']]\nstatistics",
   "execution_count": 15,
   "outputs": [
    {
     "output_type": "execute_result",
     "execution_count": 15,
     "data": {
      "application/vnd.deepnote.dataframe.v3+json": {
       "column_count": 1,
       "row_count": 2,
       "columns": [
        {
         "name": "Goals Scored",
         "dtype": "float64",
         "stats": {
          "unique_count": 2,
          "nan_count": 0,
          "min": "931.0",
          "max": "1063.0",
          "histogram": [
           {
            "bin_start": 931,
            "bin_end": 944.2,
            "count": 1
           },
           {
            "bin_start": 944.2,
            "bin_end": 957.4,
            "count": 0
           },
           {
            "bin_start": 957.4,
            "bin_end": 970.6,
            "count": 0
           },
           {
            "bin_start": 970.6,
            "bin_end": 983.8,
            "count": 0
           },
           {
            "bin_start": 983.8,
            "bin_end": 997,
            "count": 0
           },
           {
            "bin_start": 997,
            "bin_end": 1010.2,
            "count": 0
           },
           {
            "bin_start": 1010.2,
            "bin_end": 1023.4,
            "count": 0
           },
           {
            "bin_start": 1023.4,
            "bin_end": 1036.6,
            "count": 0
           },
           {
            "bin_start": 1036.6,
            "bin_end": 1049.8,
            "count": 0
           },
           {
            "bin_start": 1049.8,
            "bin_end": 1063,
            "count": 1
           }
          ]
         }
        },
        {
         "name": "_deepnote_index_column",
         "dtype": "object"
        }
       ],
       "rows": [
        {
         "Goals Scored": "931.0",
         "_deepnote_index_column": "min"
        },
        {
         "Goals Scored": "1063.0",
         "_deepnote_index_column": "max"
        }
       ]
      },
      "text/plain": "     Goals Scored\nmin         931.0\nmax        1063.0",
      "text/html": "<div>\n<style scoped>\n    .dataframe tbody tr th:only-of-type {\n        vertical-align: middle;\n    }\n\n    .dataframe tbody tr th {\n        vertical-align: top;\n    }\n\n    .dataframe thead th {\n        text-align: right;\n    }\n</style>\n<table border=\"1\" class=\"dataframe\">\n  <thead>\n    <tr style=\"text-align: right;\">\n      <th></th>\n      <th>Goals Scored</th>\n    </tr>\n  </thead>\n  <tbody>\n    <tr>\n      <th>min</th>\n      <td>931.0</td>\n    </tr>\n    <tr>\n      <th>max</th>\n      <td>1063.0</td>\n    </tr>\n  </tbody>\n</table>\n</div>"
     },
     "metadata": {}
    }
   ]
  },
  {
   "cell_type": "markdown",
   "source": "*In the Premier League 38 dates are played in which each of them plays 10 games.\n* The season where the most numer of goals was in 2010 with 1063. That means that the average goal per match was 2.72.\n\n* On the another hand, in which there were fewer goals was in 2006, because only 931 goals were scored. Leaving us an average of goals per match of 2.45 ",
   "metadata": {
    "cell_id": "cfec8375cced4b6ab7e6b6e640cce5ea",
    "tags": [],
    "deepnote_cell_type": "markdown",
    "deepnote_cell_height": 173
   }
  },
  {
   "cell_type": "markdown",
   "source": "---",
   "metadata": {
    "cell_id": "3e0b0179f4274a78a003567bef33153f",
    "tags": [],
    "deepnote_cell_type": "markdown",
    "deepnote_cell_height": 46
   }
  },
  {
   "cell_type": "markdown",
   "source": "**Seasons that were defined until the last date**",
   "metadata": {
    "cell_id": "b1a2ffd3cc1d4574838a191936c98eed",
    "tags": [],
    "deepnote_cell_type": "markdown",
    "deepnote_cell_height": 52.390625
   }
  },
  {
   "cell_type": "code",
   "metadata": {
    "cell_id": "b6f6e197c20c46859261dd504995318d",
    "tags": [],
    "deepnote_to_be_reexecuted": false,
    "source_hash": "a5b9c975",
    "execution_start": 1663364824155,
    "execution_millis": 5,
    "deepnote_cell_type": "code",
    "deepnote_cell_height": 243
   },
   "source": "my_palette = {x: 'r' for x in df_decade1.Year.unique()}\ns_2000, s_2001 = sns.color_palette('Paired')[-1], sns.color_palette('bone')[2]\ns_2002, s_2003 = sns.color_palette('Paired')[-3], sns.color_palette('Paired')[-5]\ns_2004, s_2005 = sns.color_palette('Paired')[-6], sns.color_palette('Paired')[-7]\ns_2006, s_2007 = sns.color_palette('Paired')[-9], sns.color_palette('Paired')[-10]\ns_2008, s_2009 = sns.color_palette('Paired')[1], sns.color_palette('Paired')[-4]\ns_2010 = sns.color_palette('bone')[0]\nmy_palette['2000-01'], my_palette['2001-02'], my_palette['2002-03'], my_palette['2003-04'] = s_2000, s_2001, s_2002, s_2003\nmy_palette['2004-05'], my_palette['2005-06'], my_palette['2006-07'], my_palette['2007-08'] = s_2004, s_2005, s_2006, s_2007\nmy_palette['2008-09'], my_palette['2009-10'], my_palette['2010-11'] = s_2008, s_2009, s_2010",
   "execution_count": 16,
   "outputs": []
  },
  {
   "cell_type": "code",
   "source": "#The most competitve season\ndf_decade1.head()\n\n#Canvas\nfig = plt.figure()\nsns.set_theme(style='whitegrid')\n#Axes\nax = fig.add_axes([0, 0, 2, 1.5])\n#Strip plot\nax = sns.swarmplot(data=df_decade1, x='Season', y='Pts', palette=my_palette)\nax.set_ylabel('Points')\nax.set_title('Positions according to the season\\n', fontdict={'size': 'large'})\nfig.set_facecolor('#D2B48C')\nfig.show()",
   "metadata": {
    "cell_id": "a332caeca9884534b39ee63b290c8173",
    "tags": [],
    "deepnote_to_be_reexecuted": false,
    "source_hash": "7dce0bee",
    "execution_start": 1663365309355,
    "execution_millis": 776,
    "deepnote_cell_type": "code",
    "deepnote_cell_height": 881.84375,
    "deepnote_output_heights": [
     null,
     489.859375,
     448.5625
    ]
   },
   "execution_count": 39,
   "outputs": [
    {
     "name": "stderr",
     "text": "/tmp/ipykernel_417/4274384177.py:10: FutureWarning: Passing `palette` without assigning `hue` is deprecated.\n  ax = sns.swarmplot(data=df_decade1, x='Season', y='Pts', palette=my_palette)\n",
     "output_type": "stream"
    },
    {
     "data": {
      "text/plain": "<Figure size 640x480 with 1 Axes>",
      "image/png": "[encoded data removed]"
     },
     "metadata": {
      "image/png": {
       "width": 1356,
       "height": 837
      }
     },
     "output_type": "display_data"
    }
   ]
  },
  {
   "cell_type": "code",
   "metadata": {
    "cell_id": "deca3db15bb244a08e2ead1ae704658e",
    "tags": [],
    "deepnote_to_be_reexecuted": false,
    "source_hash": "238bebf7",
    "execution_start": 1663364824930,
    "execution_millis": 14,
    "deepnote_table_state": {
     "pageSize": 10,
     "pageIndex": 0,
     "filters": [],
     "sortBy": []
    },
    "deepnote_table_loading": false,
    "deepnote_cell_type": "code",
    "deepnote_cell_height": 403
   },
   "source": "#The most competitive seasons\n#2007/08\ndf_2007 = df_decade1.loc[df_decade1.Season == '2007-08', ['Season', 'Position', 'Team', 'Goals difference','Pts']]\ndf_2007 = df_2007[df_2007.Position <= 3]\ndf_2007.set_index('Season', inplace=True)\ndf_2007",
   "execution_count": 18,
   "outputs": [
    {
     "output_type": "execute_result",
     "execution_count": 18,
     "data": {
      "application/vnd.deepnote.dataframe.v3+json": {
       "column_count": 4,
       "row_count": 3,
       "columns": [
        {
         "name": "Position",
         "dtype": "int64",
         "stats": {
          "unique_count": 3,
          "nan_count": 0,
          "min": "1",
          "max": "3",
          "histogram": [
           {
            "bin_start": 1,
            "bin_end": 1.2,
            "count": 1
           },
           {
            "bin_start": 1.2,
            "bin_end": 1.4,
            "count": 0
           },
           {
            "bin_start": 1.4,
            "bin_end": 1.6,
            "count": 0
           },
           {
            "bin_start": 1.6,
            "bin_end": 1.8,
            "count": 0
           },
           {
            "bin_start": 1.8,
            "bin_end": 2,
            "count": 0
           },
           {
            "bin_start": 2,
            "bin_end": 2.2,
            "count": 1
           },
           {
            "bin_start": 2.2,
            "bin_end": 2.4000000000000004,
            "count": 0
           },
           {
            "bin_start": 2.4000000000000004,
            "bin_end": 2.6,
            "count": 0
           },
           {
            "bin_start": 2.6,
            "bin_end": 2.8,
            "count": 0
           },
           {
            "bin_start": 2.8,
            "bin_end": 3,
            "count": 1
           }
          ]
         }
        },
        {
         "name": "Team",
         "dtype": "object",
         "stats": {
          "unique_count": 3,
          "nan_count": 0,
          "categories": [
           {
            "name": "Manchester United",
            "count": 1
           },
           {
            "name": "Chelsea",
            "count": 1
           },
           {
            "name": "Arsenal",
            "count": 1
           }
          ]
         }
        },
        {
         "name": "Goals difference",
         "dtype": "int64",
         "stats": {
          "unique_count": 3,
          "nan_count": 0,
          "min": "39",
          "max": "58",
          "histogram": [
           {
            "bin_start": 39,
            "bin_end": 40.9,
            "count": 1
           },
           {
            "bin_start": 40.9,
            "bin_end": 42.8,
            "count": 0
           },
           {
            "bin_start": 42.8,
            "bin_end": 44.7,
            "count": 1
           },
           {
            "bin_start": 44.7,
            "bin_end": 46.6,
            "count": 0
           },
           {
            "bin_start": 46.6,
            "bin_end": 48.5,
            "count": 0
           },
           {
            "bin_start": 48.5,
            "bin_end": 50.4,
            "count": 0
           },
           {
            "bin_start": 50.4,
            "bin_end": 52.3,
            "count": 0
           },
           {
            "bin_start": 52.3,
            "bin_end": 54.2,
            "count": 0
           },
           {
            "bin_start": 54.2,
            "bin_end": 56.099999999999994,
            "count": 0
           },
           {
            "bin_start": 56.099999999999994,
            "bin_end": 58,
            "count": 1
           }
          ]
         }
        },
        {
         "name": "Pts",
         "dtype": "int64",
         "stats": {
          "unique_count": 3,
          "nan_count": 0,
          "min": "83",
          "max": "87",
          "histogram": [
           {
            "bin_start": 83,
            "bin_end": 83.4,
            "count": 1
           },
           {
            "bin_start": 83.4,
            "bin_end": 83.8,
            "count": 0
           },
           {
            "bin_start": 83.8,
            "bin_end": 84.2,
            "count": 0
           },
           {
            "bin_start": 84.2,
            "bin_end": 84.6,
            "count": 0
           },
           {
            "bin_start": 84.6,
            "bin_end": 85,
            "count": 0
           },
           {
            "bin_start": 85,
            "bin_end": 85.4,
            "count": 1
           },
           {
            "bin_start": 85.4,
            "bin_end": 85.8,
            "count": 0
           },
           {
            "bin_start": 85.8,
            "bin_end": 86.2,
            "count": 0
           },
           {
            "bin_start": 86.2,
            "bin_end": 86.6,
            "count": 0
           },
           {
            "bin_start": 86.6,
            "bin_end": 87,
            "count": 1
           }
          ]
         }
        },
        {
         "name": "_deepnote_index_column",
         "dtype": "object"
        }
       ],
       "rows": [
        {
         "Position": "1",
         "Team": "Manchester United",
         "Goals difference": "58",
         "Pts": "87",
         "_deepnote_index_column": "2007-08"
        },
        {
         "Position": "2",
         "Team": "Chelsea",
         "Goals difference": "39",
         "Pts": "85",
         "_deepnote_index_column": "2007-08"
        },
        {
         "Position": "3",
         "Team": "Arsenal",
         "Goals difference": "43",
         "Pts": "83",
         "_deepnote_index_column": "2007-08"
        }
       ]
      },
      "text/plain": "         Position               Team  Goals difference  Pts\nSeason                                                     \n2007-08         1  Manchester United                58   87\n2007-08         2            Chelsea                39   85\n2007-08         3            Arsenal                43   83",
      "text/html": "<div>\n<style scoped>\n    .dataframe tbody tr th:only-of-type {\n        vertical-align: middle;\n    }\n\n    .dataframe tbody tr th {\n        vertical-align: top;\n    }\n\n    .dataframe thead th {\n        text-align: right;\n    }\n</style>\n<table border=\"1\" class=\"dataframe\">\n  <thead>\n    <tr style=\"text-align: right;\">\n      <th></th>\n      <th>Position</th>\n      <th>Team</th>\n      <th>Goals difference</th>\n      <th>Pts</th>\n    </tr>\n    <tr>\n      <th>Season</th>\n      <th></th>\n      <th></th>\n      <th></th>\n      <th></th>\n    </tr>\n  </thead>\n  <tbody>\n    <tr>\n      <th>2007-08</th>\n      <td>1</td>\n      <td>Manchester United</td>\n      <td>58</td>\n      <td>87</td>\n    </tr>\n    <tr>\n      <th>2007-08</th>\n      <td>2</td>\n      <td>Chelsea</td>\n      <td>39</td>\n      <td>85</td>\n    </tr>\n    <tr>\n      <th>2007-08</th>\n      <td>3</td>\n      <td>Arsenal</td>\n      <td>43</td>\n      <td>83</td>\n    </tr>\n  </tbody>\n</table>\n</div>"
     },
     "metadata": {}
    }
   ]
  },
  {
   "cell_type": "markdown",
   "source": "The 2007/08 season was very close between Macnhester United and Chelsea. Both teams arrived with the same number of points to the last date, 84 points exactly, being thus a final of infarction. But,the one who ended up raising the cup was the Red Devils. \nThese were the results that were given in the day 38:\n* Wigan Atlhetic vs Manchester United -> 0:2\n* Chelsea vs Boston Wanderers -> 1:1 ",
   "metadata": {
    "cell_id": "4457d8322165414db8cacd0c71e1ab8e",
    "tags": [],
    "deepnote_cell_type": "markdown",
    "deepnote_cell_height": 195.390625
   }
  },
  {
   "cell_type": "code",
   "metadata": {
    "cell_id": "a125e5bdd5524cd0b5a568bace45976a",
    "tags": [],
    "deepnote_to_be_reexecuted": false,
    "source_hash": "f052bf37",
    "execution_start": 1663364824947,
    "execution_millis": 44,
    "deepnote_cell_type": "code",
    "deepnote_cell_height": 344
   },
   "source": "#2009/10\ndf_2009 = df_decade1.loc[df_decade1.Season == '2009-10', ['Season', 'Position', 'Team', 'Goals difference','Pts']]\ndf_2009 = df_2009[df_2009.Position <= 2]\ndf_2009.set_index('Season', inplace=True)\ndf_2009",
   "execution_count": 19,
   "outputs": [
    {
     "output_type": "execute_result",
     "execution_count": 19,
     "data": {
      "application/vnd.deepnote.dataframe.v3+json": {
       "column_count": 4,
       "row_count": 2,
       "columns": [
        {
         "name": "Position",
         "dtype": "int64",
         "stats": {
          "unique_count": 2,
          "nan_count": 0,
          "min": "1",
          "max": "2",
          "histogram": [
           {
            "bin_start": 1,
            "bin_end": 1.1,
            "count": 1
           },
           {
            "bin_start": 1.1,
            "bin_end": 1.2,
            "count": 0
           },
           {
            "bin_start": 1.2,
            "bin_end": 1.3,
            "count": 0
           },
           {
            "bin_start": 1.3,
            "bin_end": 1.4,
            "count": 0
           },
           {
            "bin_start": 1.4,
            "bin_end": 1.5,
            "count": 0
           },
           {
            "bin_start": 1.5,
            "bin_end": 1.6,
            "count": 0
           },
           {
            "bin_start": 1.6,
            "bin_end": 1.7000000000000002,
            "count": 0
           },
           {
            "bin_start": 1.7000000000000002,
            "bin_end": 1.8,
            "count": 0
           },
           {
            "bin_start": 1.8,
            "bin_end": 1.9,
            "count": 0
           },
           {
            "bin_start": 1.9,
            "bin_end": 2,
            "count": 1
           }
          ]
         }
        },
        {
         "name": "Team",
         "dtype": "object",
         "stats": {
          "unique_count": 2,
          "nan_count": 0,
          "categories": [
           {
            "name": "Chelsea",
            "count": 1
           },
           {
            "name": "Manchester United",
            "count": 1
           }
          ]
         }
        },
        {
         "name": "Goals difference",
         "dtype": "int64",
         "stats": {
          "unique_count": 2,
          "nan_count": 0,
          "min": "58",
          "max": "71",
          "histogram": [
           {
            "bin_start": 58,
            "bin_end": 59.3,
            "count": 1
           },
           {
            "bin_start": 59.3,
            "bin_end": 60.6,
            "count": 0
           },
           {
            "bin_start": 60.6,
            "bin_end": 61.9,
            "count": 0
           },
           {
            "bin_start": 61.9,
            "bin_end": 63.2,
            "count": 0
           },
           {
            "bin_start": 63.2,
            "bin_end": 64.5,
            "count": 0
           },
           {
            "bin_start": 64.5,
            "bin_end": 65.8,
            "count": 0
           },
           {
            "bin_start": 65.8,
            "bin_end": 67.1,
            "count": 0
           },
           {
            "bin_start": 67.1,
            "bin_end": 68.4,
            "count": 0
           },
           {
            "bin_start": 68.4,
            "bin_end": 69.7,
            "count": 0
           },
           {
            "bin_start": 69.7,
            "bin_end": 71,
            "count": 1
           }
          ]
         }
        },
        {
         "name": "Pts",
         "dtype": "int64",
         "stats": {
          "unique_count": 2,
          "nan_count": 0,
          "min": "85",
          "max": "86",
          "histogram": [
           {
            "bin_start": 85,
            "bin_end": 85.1,
            "count": 1
           },
           {
            "bin_start": 85.1,
            "bin_end": 85.2,
            "count": 0
           },
           {
            "bin_start": 85.2,
            "bin_end": 85.3,
            "count": 0
           },
           {
            "bin_start": 85.3,
            "bin_end": 85.4,
            "count": 0
           },
           {
            "bin_start": 85.4,
            "bin_end": 85.5,
            "count": 0
           },
           {
            "bin_start": 85.5,
            "bin_end": 85.6,
            "count": 0
           },
           {
            "bin_start": 85.6,
            "bin_end": 85.7,
            "count": 0
           },
           {
            "bin_start": 85.7,
            "bin_end": 85.8,
            "count": 0
           },
           {
            "bin_start": 85.8,
            "bin_end": 85.9,
            "count": 0
           },
           {
            "bin_start": 85.9,
            "bin_end": 86,
            "count": 1
           }
          ]
         }
        },
        {
         "name": "_deepnote_index_column",
         "dtype": "object"
        }
       ],
       "rows": [
        {
         "Position": "1",
         "Team": "Chelsea",
         "Goals difference": "71",
         "Pts": "86",
         "_deepnote_index_column": "2009-10"
        },
        {
         "Position": "2",
         "Team": "Manchester United",
         "Goals difference": "58",
         "Pts": "85",
         "_deepnote_index_column": "2009-10"
        }
       ]
      },
      "text/plain": "         Position               Team  Goals difference  Pts\nSeason                                                     \n2009-10         1            Chelsea                71   86\n2009-10         2  Manchester United                58   85",
      "text/html": "<div>\n<style scoped>\n    .dataframe tbody tr th:only-of-type {\n        vertical-align: middle;\n    }\n\n    .dataframe tbody tr th {\n        vertical-align: top;\n    }\n\n    .dataframe thead th {\n        text-align: right;\n    }\n</style>\n<table border=\"1\" class=\"dataframe\">\n  <thead>\n    <tr style=\"text-align: right;\">\n      <th></th>\n      <th>Position</th>\n      <th>Team</th>\n      <th>Goals difference</th>\n      <th>Pts</th>\n    </tr>\n    <tr>\n      <th>Season</th>\n      <th></th>\n      <th></th>\n      <th></th>\n      <th></th>\n    </tr>\n  </thead>\n  <tbody>\n    <tr>\n      <th>2009-10</th>\n      <td>1</td>\n      <td>Chelsea</td>\n      <td>71</td>\n      <td>86</td>\n    </tr>\n    <tr>\n      <th>2009-10</th>\n      <td>2</td>\n      <td>Manchester United</td>\n      <td>58</td>\n      <td>85</td>\n    </tr>\n  </tbody>\n</table>\n</div>"
     },
     "metadata": {}
    }
   ]
  },
  {
   "cell_type": "markdown",
   "source": "And during the 2009/10 season, Chelsea and Manchester United were again the protagonists of the dispute for the title until the last date. And this originated in the date 35, since the Blues lost 2-1 to Totenham and the Red Devils won 1-0 against Manchester City and thus managed to shorten the point difference they had with the first place. This difference of points remained until the last, but Chelsea after that defeat managed to obtain 3 consecutive victories that allowed them to raise the long-awaited Premier League.",
   "metadata": {
    "cell_id": "f730738c022344d899a10790da51a983",
    "tags": [],
    "deepnote_cell_type": "markdown",
    "deepnote_cell_height": 142
   }
  },
  {
   "cell_type": "markdown",
   "source": "---",
   "metadata": {
    "cell_id": "b2f4a662381348f596fccc3339e3a5b3",
    "tags": [],
    "deepnote_cell_type": "markdown",
    "deepnote_cell_height": 46
   }
  },
  {
   "cell_type": "markdown",
   "source": "---",
   "metadata": {
    "cell_id": "8af32c5798dd4a628c19dc74aa058ece",
    "tags": [],
    "deepnote_cell_type": "markdown",
    "deepnote_cell_height": 46
   }
  },
  {
   "cell_type": "markdown",
   "source": "### Citizens decade - (2011 - 2021)",
   "metadata": {
    "cell_id": "66646a966d8543019bf67ece91f9446f",
    "tags": [],
    "deepnote_cell_type": "markdown",
    "deepnote_cell_height": 62
   }
  },
  {
   "cell_type": "code",
   "metadata": {
    "cell_id": "31ba9688c8904956b86def455391364d",
    "tags": [],
    "deepnote_to_be_reexecuted": false,
    "source_hash": "a6674e43",
    "execution_start": 1663364825000,
    "execution_millis": 32,
    "deepnote_cell_type": "code",
    "deepnote_cell_height": 460.796875
   },
   "source": "df_decade2 = df_pl.copy()\ndf_decade2 = pd.merge(left=df_decade2,right=df_years, on='Season', how='outer')\ndf_decade2 = df_decade2[(2010 < df_decade2.Year) & (df_decade2.Year <= 2021)]\ndf_decade2.head()",
   "execution_count": 20,
   "outputs": [
    {
     "output_type": "execute_result",
     "execution_count": 20,
     "data": {
      "application/vnd.deepnote.dataframe.v3+json": {
       "column_count": 13,
       "row_count": 5,
       "columns": [
        {
         "name": "Season",
         "dtype": "object",
         "stats": {
          "unique_count": 1,
          "nan_count": 0,
          "categories": [
           {
            "name": "2011-12",
            "count": 5
           }
          ]
         }
        },
        {
         "name": "Position",
         "dtype": "int64",
         "stats": {
          "unique_count": 5,
          "nan_count": 0,
          "min": "1",
          "max": "5",
          "histogram": [
           {
            "bin_start": 1,
            "bin_end": 1.4,
            "count": 1
           },
           {
            "bin_start": 1.4,
            "bin_end": 1.8,
            "count": 0
           },
           {
            "bin_start": 1.8,
            "bin_end": 2.2,
            "count": 1
           },
           {
            "bin_start": 2.2,
            "bin_end": 2.6,
            "count": 0
           },
           {
            "bin_start": 2.6,
            "bin_end": 3,
            "count": 0
           },
           {
            "bin_start": 3,
            "bin_end": 3.4000000000000004,
            "count": 1
           },
           {
            "bin_start": 3.4000000000000004,
            "bin_end": 3.8000000000000003,
            "count": 0
           },
           {
            "bin_start": 3.8000000000000003,
            "bin_end": 4.2,
            "count": 1
           },
           {
            "bin_start": 4.2,
            "bin_end": 4.6,
            "count": 0
           },
           {
            "bin_start": 4.6,
            "bin_end": 5,
            "count": 1
           }
          ]
         }
        },
        {
         "name": "Team",
         "dtype": "object",
         "stats": {
          "unique_count": 5,
          "nan_count": 0,
          "categories": [
           {
            "name": "Manchester City",
            "count": 1
           },
           {
            "name": "Manchester United",
            "count": 1
           },
           {
            "name": "3 others",
            "count": 3
           }
          ]
         }
        },
        {
         "name": "Matchs",
         "dtype": "int64",
         "stats": {
          "unique_count": 1,
          "nan_count": 0,
          "min": "38",
          "max": "38",
          "histogram": [
           {
            "bin_start": 37.5,
            "bin_end": 37.6,
            "count": 0
           },
           {
            "bin_start": 37.6,
            "bin_end": 37.7,
            "count": 0
           },
           {
            "bin_start": 37.7,
            "bin_end": 37.8,
            "count": 0
           },
           {
            "bin_start": 37.8,
            "bin_end": 37.9,
            "count": 0
           },
           {
            "bin_start": 37.9,
            "bin_end": 38,
            "count": 0
           },
           {
            "bin_start": 38,
            "bin_end": 38.1,
            "count": 5
           },
           {
            "bin_start": 38.1,
            "bin_end": 38.2,
            "count": 0
           },
           {
            "bin_start": 38.2,
            "bin_end": 38.3,
            "count": 0
           },
           {
            "bin_start": 38.3,
            "bin_end": 38.4,
            "count": 0
           },
           {
            "bin_start": 38.4,
            "bin_end": 38.5,
            "count": 0
           }
          ]
         }
        },
        {
         "name": "Wins",
         "dtype": "int64",
         "stats": {
          "unique_count": 4,
          "nan_count": 0,
          "min": "19",
          "max": "28",
          "histogram": [
           {
            "bin_start": 19,
            "bin_end": 19.9,
            "count": 1
           },
           {
            "bin_start": 19.9,
            "bin_end": 20.8,
            "count": 1
           },
           {
            "bin_start": 20.8,
            "bin_end": 21.7,
            "count": 1
           },
           {
            "bin_start": 21.7,
            "bin_end": 22.6,
            "count": 0
           },
           {
            "bin_start": 22.6,
            "bin_end": 23.5,
            "count": 0
           },
           {
            "bin_start": 23.5,
            "bin_end": 24.4,
            "count": 0
           },
           {
            "bin_start": 24.4,
            "bin_end": 25.3,
            "count": 0
           },
           {
            "bin_start": 25.3,
            "bin_end": 26.2,
            "count": 0
           },
           {
            "bin_start": 26.2,
            "bin_end": 27.1,
            "count": 0
           },
           {
            "bin_start": 27.1,
            "bin_end": 28,
            "count": 2
           }
          ]
         }
        },
        {
         "name": "Draws",
         "dtype": "int64",
         "stats": {
          "unique_count": 4,
          "nan_count": 0,
          "min": "5",
          "max": "9",
          "histogram": [
           {
            "bin_start": 5,
            "bin_end": 5.4,
            "count": 2
           },
           {
            "bin_start": 5.4,
            "bin_end": 5.8,
            "count": 0
           },
           {
            "bin_start": 5.8,
            "bin_end": 6.2,
            "count": 0
           },
           {
            "bin_start": 6.2,
            "bin_end": 6.6,
            "count": 0
           },
           {
            "bin_start": 6.6,
            "bin_end": 7,
            "count": 0
           },
           {
            "bin_start": 7,
            "bin_end": 7.4,
            "count": 1
           },
           {
            "bin_start": 7.4,
            "bin_end": 7.800000000000001,
            "count": 0
           },
           {
            "bin_start": 7.800000000000001,
            "bin_end": 8.2,
            "count": 1
           },
           {
            "bin_start": 8.2,
            "bin_end": 8.6,
            "count": 0
           },
           {
            "bin_start": 8.6,
            "bin_end": 9,
            "count": 1
           }
          ]
         }
        },
        {
         "name": "Losses",
         "dtype": "int64",
         "stats": {
          "unique_count": 4,
          "nan_count": 0,
          "min": "5",
          "max": "11",
          "histogram": [
           {
            "bin_start": 5,
            "bin_end": 5.6,
            "count": 2
           },
           {
            "bin_start": 5.6,
            "bin_end": 6.2,
            "count": 0
           },
           {
            "bin_start": 6.2,
            "bin_end": 6.8,
            "count": 0
           },
           {
            "bin_start": 6.8,
            "bin_end": 7.4,
            "count": 0
           },
           {
            "bin_start": 7.4,
            "bin_end": 8,
            "count": 0
           },
           {
            "bin_start": 8,
            "bin_end": 8.6,
            "count": 0
           },
           {
            "bin_start": 8.6,
            "bin_end": 9.2,
            "count": 1
           },
           {
            "bin_start": 9.2,
            "bin_end": 9.8,
            "count": 0
           },
           {
            "bin_start": 9.8,
            "bin_end": 10.399999999999999,
            "count": 1
           },
           {
            "bin_start": 10.399999999999999,
            "bin_end": 11,
            "count": 1
           }
          ]
         }
        },
        {
         "name": "Goals Scored",
         "dtype": "int64",
         "stats": {
          "unique_count": 5,
          "nan_count": 0,
          "min": "56",
          "max": "93",
          "histogram": [
           {
            "bin_start": 56,
            "bin_end": 59.7,
            "count": 1
           },
           {
            "bin_start": 59.7,
            "bin_end": 63.4,
            "count": 0
           },
           {
            "bin_start": 63.4,
            "bin_end": 67.1,
            "count": 1
           },
           {
            "bin_start": 67.1,
            "bin_end": 70.8,
            "count": 0
           },
           {
            "bin_start": 70.8,
            "bin_end": 74.5,
            "count": 1
           },
           {
            "bin_start": 74.5,
            "bin_end": 78.2,
            "count": 0
           },
           {
            "bin_start": 78.2,
            "bin_end": 81.9,
            "count": 0
           },
           {
            "bin_start": 81.9,
            "bin_end": 85.6,
            "count": 0
           },
           {
            "bin_start": 85.6,
            "bin_end": 89.30000000000001,
            "count": 1
           },
           {
            "bin_start": 89.30000000000001,
            "bin_end": 93,
            "count": 1
           }
          ]
         }
        },
        {
         "name": "Goals Conceded",
         "dtype": "int64",
         "stats": {
          "unique_count": 5,
          "nan_count": 0,
          "min": "29",
          "max": "51",
          "histogram": [
           {
            "bin_start": 29,
            "bin_end": 31.2,
            "count": 1
           },
           {
            "bin_start": 31.2,
            "bin_end": 33.4,
            "count": 1
           },
           {
            "bin_start": 33.4,
            "bin_end": 35.6,
            "count": 0
           },
           {
            "bin_start": 35.6,
            "bin_end": 37.8,
            "count": 0
           },
           {
            "bin_start": 37.8,
            "bin_end": 40,
            "count": 0
           },
           {
            "bin_start": 40,
            "bin_end": 42.2,
            "count": 1
           },
           {
            "bin_start": 42.2,
            "bin_end": 44.400000000000006,
            "count": 0
           },
           {
            "bin_start": 44.400000000000006,
            "bin_end": 46.6,
            "count": 0
           },
           {
            "bin_start": 46.6,
            "bin_end": 48.8,
            "count": 0
           },
           {
            "bin_start": 48.8,
            "bin_end": 51,
            "count": 2
           }
          ]
         }
        },
        {
         "name": "Goals difference",
         "dtype": "int64",
         "stats": {
          "unique_count": 4,
          "nan_count": 0,
          "min": "5",
          "max": "64",
          "histogram": [
           {
            "bin_start": 5,
            "bin_end": 10.9,
            "count": 1
           },
           {
            "bin_start": 10.9,
            "bin_end": 16.8,
            "count": 0
           },
           {
            "bin_start": 16.8,
            "bin_end": 22.700000000000003,
            "count": 0
           },
           {
            "bin_start": 22.700000000000003,
            "bin_end": 28.6,
            "count": 2
           },
           {
            "bin_start": 28.6,
            "bin_end": 34.5,
            "count": 0
           },
           {
            "bin_start": 34.5,
            "bin_end": 40.400000000000006,
            "count": 0
           },
           {
            "bin_start": 40.400000000000006,
            "bin_end": 46.300000000000004,
            "count": 0
           },
           {
            "bin_start": 46.300000000000004,
            "bin_end": 52.2,
            "count": 0
           },
           {
            "bin_start": 52.2,
            "bin_end": 58.1,
            "count": 1
           },
           {
            "bin_start": 58.1,
            "bin_end": 64,
            "count": 1
           }
          ]
         }
        },
        {
         "name": "Pts",
         "dtype": "int64",
         "stats": {
          "unique_count": 4,
          "nan_count": 0,
          "min": "65",
          "max": "89",
          "histogram": [
           {
            "bin_start": 65,
            "bin_end": 67.4,
            "count": 1
           },
           {
            "bin_start": 67.4,
            "bin_end": 69.8,
            "count": 1
           },
           {
            "bin_start": 69.8,
            "bin_end": 72.2,
            "count": 1
           },
           {
            "bin_start": 72.2,
            "bin_end": 74.6,
            "count": 0
           },
           {
            "bin_start": 74.6,
            "bin_end": 77,
            "count": 0
           },
           {
            "bin_start": 77,
            "bin_end": 79.4,
            "count": 0
           },
           {
            "bin_start": 79.4,
            "bin_end": 81.8,
            "count": 0
           },
           {
            "bin_start": 81.8,
            "bin_end": 84.2,
            "count": 0
           },
           {
            "bin_start": 84.2,
            "bin_end": 86.6,
            "count": 0
           },
           {
            "bin_start": 86.6,
            "bin_end": 89,
            "count": 2
           }
          ]
         }
        },
        {
         "name": "Qualification or relegation",
         "dtype": "object",
         "stats": {
          "unique_count": 3,
          "nan_count": 0,
          "categories": [
           {
            "name": "Qualification for the Champions League group stage",
            "count": 3
           },
           {
            "name": "Qualification for the Europa League group stage[a]",
            "count": 1
           },
           {
            "name": "Qualification for the Europa League play-off round[a]",
            "count": 1
           }
          ]
         }
        },
        {
         "name": "Year",
         "dtype": "int64",
         "stats": {
          "unique_count": 1,
          "nan_count": 0,
          "min": "2011",
          "max": "2011",
          "histogram": [
           {
            "bin_start": 2010.5,
            "bin_end": 2010.6,
            "count": 0
           },
           {
            "bin_start": 2010.6,
            "bin_end": 2010.7,
            "count": 0
           },
           {
            "bin_start": 2010.7,
            "bin_end": 2010.8,
            "count": 0
           },
           {
            "bin_start": 2010.8,
            "bin_end": 2010.9,
            "count": 0
           },
           {
            "bin_start": 2010.9,
            "bin_end": 2011,
            "count": 0
           },
           {
            "bin_start": 2011,
            "bin_end": 2011.1,
            "count": 5
           },
           {
            "bin_start": 2011.1,
            "bin_end": 2011.2,
            "count": 0
           },
           {
            "bin_start": 2011.2,
            "bin_end": 2011.3,
            "count": 0
           },
           {
            "bin_start": 2011.3,
            "bin_end": 2011.4,
            "count": 0
           },
           {
            "bin_start": 2011.4,
            "bin_end": 2011.5,
            "count": 0
           }
          ]
         }
        },
        {
         "name": "_deepnote_index_column",
         "dtype": "int64"
        }
       ],
       "rows": [
        {
         "Season": "2011-12",
         "Position": "1",
         "Team": "Manchester City",
         "Matchs": "38",
         "Wins": "28",
         "Draws": "5",
         "Losses": "5",
         "Goals Scored": "93",
         "Goals Conceded": "29",
         "Goals difference": "64",
         "Pts": "89",
         "Qualification or relegation": "Qualification for the Champions League group stage",
         "Year": "2011",
         "_deepnote_index_column": "220"
        },
        {
         "Season": "2011-12",
         "Position": "2",
         "Team": "Manchester United",
         "Matchs": "38",
         "Wins": "28",
         "Draws": "5",
         "Losses": "5",
         "Goals Scored": "89",
         "Goals Conceded": "33",
         "Goals difference": "56",
         "Pts": "89",
         "Qualification or relegation": "Qualification for the Champions League group stage",
         "Year": "2011",
         "_deepnote_index_column": "221"
        },
        {
         "Season": "2011-12",
         "Position": "3",
         "Team": "Arsenal",
         "Matchs": "38",
         "Wins": "21",
         "Draws": "7",
         "Losses": "10",
         "Goals Scored": "74",
         "Goals Conceded": "49",
         "Goals difference": "25",
         "Pts": "70",
         "Qualification or relegation": "Qualification for the Champions League group stage",
         "Year": "2011",
         "_deepnote_index_column": "222"
        },
        {
         "Season": "2011-12",
         "Position": "4",
         "Team": "Tottenham Hotspur",
         "Matchs": "38",
         "Wins": "20",
         "Draws": "9",
         "Losses": "9",
         "Goals Scored": "66",
         "Goals Conceded": "41",
         "Goals difference": "25",
         "Pts": "69",
         "Qualification or relegation": "Qualification for the Europa League group stage[a]",
         "Year": "2011",
         "_deepnote_index_column": "223"
        },
        {
         "Season": "2011-12",
         "Position": "5",
         "Team": "Newcastle United",
         "Matchs": "38",
         "Wins": "19",
         "Draws": "8",
         "Losses": "11",
         "Goals Scored": "56",
         "Goals Conceded": "51",
         "Goals difference": "5",
         "Pts": "65",
         "Qualification or relegation": "Qualification for the Europa League play-off round[a]",
         "Year": "2011",
         "_deepnote_index_column": "224"
        }
       ]
      },
      "text/plain": "      Season  Position               Team  Matchs  Wins  Draws  Losses  \\\n220  2011-12         1    Manchester City      38    28      5       5   \n221  2011-12         2  Manchester United      38    28      5       5   \n222  2011-12         3            Arsenal      38    21      7      10   \n223  2011-12         4  Tottenham Hotspur      38    20      9       9   \n224  2011-12         5   Newcastle United      38    19      8      11   \n\n     Goals Scored  Goals Conceded  Goals difference  Pts  \\\n220            93              29                64   89   \n221            89              33                56   89   \n222            74              49                25   70   \n223            66              41                25   69   \n224            56              51                 5   65   \n\n                           Qualification or relegation  Year  \n220  Qualification for the Champions League group s...  2011  \n221  Qualification for the Champions League group s...  2011  \n222  Qualification for the Champions League group s...  2011  \n223  Qualification for the Europa League group stag...  2011  \n224  Qualification for the Europa League play-off r...  2011  ",
      "text/html": "<div>\n<style scoped>\n    .dataframe tbody tr th:only-of-type {\n        vertical-align: middle;\n    }\n\n    .dataframe tbody tr th {\n        vertical-align: top;\n    }\n\n    .dataframe thead th {\n        text-align: right;\n    }\n</style>\n<table border=\"1\" class=\"dataframe\">\n  <thead>\n    <tr style=\"text-align: right;\">\n      <th></th>\n      <th>Season</th>\n      <th>Position</th>\n      <th>Team</th>\n      <th>Matchs</th>\n      <th>Wins</th>\n      <th>Draws</th>\n      <th>Losses</th>\n      <th>Goals Scored</th>\n      <th>Goals Conceded</th>\n      <th>Goals difference</th>\n      <th>Pts</th>\n      <th>Qualification or relegation</th>\n      <th>Year</th>\n    </tr>\n  </thead>\n  <tbody>\n    <tr>\n      <th>220</th>\n      <td>2011-12</td>\n      <td>1</td>\n      <td>Manchester City</td>\n      <td>38</td>\n      <td>28</td>\n      <td>5</td>\n      <td>5</td>\n      <td>93</td>\n      <td>29</td>\n      <td>64</td>\n      <td>89</td>\n      <td>Qualification for the Champions League group s...</td>\n      <td>2011</td>\n    </tr>\n    <tr>\n      <th>221</th>\n      <td>2011-12</td>\n      <td>2</td>\n      <td>Manchester United</td>\n      <td>38</td>\n      <td>28</td>\n      <td>5</td>\n      <td>5</td>\n      <td>89</td>\n      <td>33</td>\n      <td>56</td>\n      <td>89</td>\n      <td>Qualification for the Champions League group s...</td>\n      <td>2011</td>\n    </tr>\n    <tr>\n      <th>222</th>\n      <td>2011-12</td>\n      <td>3</td>\n      <td>Arsenal</td>\n      <td>38</td>\n      <td>21</td>\n      <td>7</td>\n      <td>10</td>\n      <td>74</td>\n      <td>49</td>\n      <td>25</td>\n      <td>70</td>\n      <td>Qualification for the Champions League group s...</td>\n      <td>2011</td>\n    </tr>\n    <tr>\n      <th>223</th>\n      <td>2011-12</td>\n      <td>4</td>\n      <td>Tottenham Hotspur</td>\n      <td>38</td>\n      <td>20</td>\n      <td>9</td>\n      <td>9</td>\n      <td>66</td>\n      <td>41</td>\n      <td>25</td>\n      <td>69</td>\n      <td>Qualification for the Europa League group stag...</td>\n      <td>2011</td>\n    </tr>\n    <tr>\n      <th>224</th>\n      <td>2011-12</td>\n      <td>5</td>\n      <td>Newcastle United</td>\n      <td>38</td>\n      <td>19</td>\n      <td>8</td>\n      <td>11</td>\n      <td>56</td>\n      <td>51</td>\n      <td>5</td>\n      <td>65</td>\n      <td>Qualification for the Europa League play-off r...</td>\n      <td>2011</td>\n    </tr>\n  </tbody>\n</table>\n</div>"
     },
     "metadata": {}
    }
   ]
  },
  {
   "cell_type": "code",
   "metadata": {
    "cell_id": "e3971edd292c4a13be2098567fe32e98",
    "tags": [],
    "deepnote_to_be_reexecuted": false,
    "source_hash": "814d0802",
    "execution_start": 1663364825033,
    "execution_millis": 4,
    "deepnote_cell_type": "code",
    "deepnote_cell_height": 94
   },
   "source": "#Premier League's champions during this decade\ndf_champions = df_decade2[df_decade2.Position == 1]",
   "execution_count": 21,
   "outputs": []
  },
  {
   "cell_type": "markdown",
   "source": "#### **THE MOST WINNERS 🏆**",
   "metadata": {
    "cell_id": "69cd3316e6c24cd588106508874adcb2",
    "tags": [],
    "deepnote_cell_type": "markdown",
    "deepnote_cell_height": 54
   }
  },
  {
   "cell_type": "code",
   "metadata": {
    "cell_id": "e2eeab8a52374bbb8323e49fa0c1043d",
    "tags": [],
    "deepnote_to_be_reexecuted": false,
    "source_hash": "5ef99cba",
    "execution_start": 1663364825041,
    "execution_millis": 317,
    "deepnote_cell_type": "code",
    "deepnote_cell_height": 975,
    "deepnote_output_heights": [
     595
    ]
   },
   "source": "#Palette\nc_1 = sns.color_palette('bone')[-2]\nc_2 = sns.color_palette('Set2')[1]\nmy_pltt = {x: c_1 for x in df_champions.Team.unique()}\nmy_pltt['Manchester City'] = c_2\n#Premier League's champions during this decade\ndf_champions = df_decade2[df_decade2.Position == 1]\n#Canvas\nfig = plt.figure()\n#Axes\nax = fig.add_axes([0, 0, 1, 1])\n#Countplot\nteam_order = ['Manchester City', 'Chelsea', 'Leicester City', 'Manchester United', 'Liverpool']\nax = sns.countplot(data=df_champions, y='Team', order=team_order, palette=my_pltt)\nax.set_yticks(np.arange(5), ['Man. City', 'Chelsea', 'Leicester', 'Man. United', 'Liverpool'])\nax.set_title('Premier League champions\\nduring the decade (2011 - 2021)')\nfig.show()",
   "execution_count": 22,
   "outputs": [
    {
     "data": {
      "text/plain": "<Figure size 640x480 with 1 Axes>",
      "image/png": "[encoded data removed]"
     },
     "metadata": {
      "image/png": {
       "width": 789,
       "height": 594
      }
     },
     "output_type": "display_data"
    }
   ]
  },
  {
   "cell_type": "markdown",
   "source": "Manchester City was the most Premier Leagues team conquered during this second decade of the XXI century. And what's interesting is that they got the same number of leagues than Manchester United in the last decade.",
   "metadata": {
    "cell_id": "57d3a021c580409fa985f1f71239271a",
    "tags": [],
    "deepnote_cell_type": "markdown",
    "deepnote_cell_height": 74.796875
   }
  },
  {
   "cell_type": "markdown",
   "source": "---",
   "metadata": {
    "cell_id": "c7ffc4d258574162b1f130a39db2b6b4",
    "tags": [],
    "deepnote_cell_type": "markdown",
    "deepnote_cell_height": 46
   }
  },
  {
   "cell_type": "markdown",
   "source": "#### **THE FALL OF RED DEVILS 👿 📉**",
   "metadata": {
    "cell_id": "971538398620465aa66fb14bec61b541",
    "tags": [],
    "deepnote_cell_type": "markdown",
    "deepnote_cell_height": 54
   }
  },
  {
   "cell_type": "code",
   "metadata": {
    "cell_id": "df012788ce2a4dd69bdd2165c968413b",
    "tags": [],
    "deepnote_to_be_reexecuted": false,
    "source_hash": "f288139c",
    "execution_start": 1663364825366,
    "execution_millis": 948,
    "deepnote_cell_type": "code",
    "deepnote_cell_height": 693.625,
    "deepnote_output_heights": [
     313.625
    ]
   },
   "source": "#The fall of Red Devils\ndf_mun_1 = df_decade1[df_decade1.Team == 'Manchester United']\ndf_mun_2 = df_decade2[df_decade2.Team == 'Manchester United']\n#Canvas\nfig = plt.figure(figsize = (16, 6))\n#Graphics\n#Decade 1\nax1 = fig.add_subplot(121)\nax1 = sns.boxplot(data=df_mun_1, y='Position', palette='Set2')\nax1 = sns.swarmplot(data=df_mun_1, y='Position', color='k')\nax1.set_title('Positions of Mancheter United in PL\\n(2000/01 - 2010/11)')\n#Decade 2\nax2 = fig.add_subplot(122)\nax2 = sns.boxplot(data=df_mun_2, y='Position', palette='Set2')\nax2 = sns.swarmplot(data=df_mun_2, y='Position', color='k')\nax2.set_title('Positions of Manchester United in PL\\n(2011/12 - 2020/21)')\nfig.show()",
   "execution_count": 23,
   "outputs": [
    {
     "data": {
      "text/plain": "<Figure size 1600x600 with 2 Axes>",
      "image/png": "[encoded data removed]"
     },
     "metadata": {
      "image/png": {
       "width": 1330,
       "height": 525
      }
     },
     "output_type": "display_data"
    }
   ]
  },
  {
   "cell_type": "markdown",
   "source": "Unfortunately, Manchester United didn't have the same luck as in the last 10 years. And this can be evidenced by the graphics, where one can  see that the worst position treached during the years 2000 and 2010 was the third place; instead, during the second decade they came to be behind the 4th place in 4 occasions, i.e. they weren't in 4 editions of Champions League, the most important tournament in Europe. In addition, they could only win 1 Premier League in the 2012/13 season. ",
   "metadata": {
    "cell_id": "19de1a418c8c4d64b049164e96be81df",
    "tags": [],
    "deepnote_cell_type": "markdown",
    "deepnote_cell_height": 142
   }
  },
  {
   "cell_type": "markdown",
   "source": "---",
   "metadata": {
    "cell_id": "8276e899ef2741cba84c207e9a437b60",
    "tags": [],
    "deepnote_cell_type": "markdown",
    "deepnote_cell_height": 46
   }
  },
  {
   "cell_type": "markdown",
   "source": "#### **Manchester United (2000/01 - 2010/11) 🆚 Manchester City (2011/12 - 2020/21)**",
   "metadata": {
    "cell_id": "857b33d620f040849276edc1e71e1213",
    "tags": [],
    "deepnote_cell_type": "markdown",
    "deepnote_cell_height": 54
   }
  },
  {
   "cell_type": "markdown",
   "source": "**STATS: WINS/DRAWS/DEFEATS 📊**",
   "metadata": {
    "cell_id": "629fb13c0d1649168b17ccc00abd4204",
    "tags": [],
    "deepnote_cell_type": "markdown",
    "deepnote_cell_height": 52.390625
   }
  },
  {
   "cell_type": "code",
   "metadata": {
    "cell_id": "735f50c7679a4c47835a7abebe62fa3f",
    "tags": [],
    "deepnote_to_be_reexecuted": false,
    "source_hash": "1416905d",
    "execution_start": 1663364826317,
    "execution_millis": 435,
    "deepnote_cell_type": "code",
    "deepnote_cell_height": 351,
    "deepnote_output_heights": [
     438.15625
    ]
   },
   "source": "df_city = df_decade2[df_decade2.Team == 'Manchester City']\nresults_city = [df_city.Wins.sum(), df_city.Draws.sum(), df_city.Losses.sum()]\nresults_mun = np.array([df_mun_1.Wins.sum(), df_mun_1.Draws.sum(), df_mun_1.Losses.sum()])\n#Canvas\nsns.set_theme(style='white')\nfig, [ax1, ax2] = plt.subplots(nrows=1, ncols=2, figsize=(17, 8))\n#Graphics\n#1) Stats of United\nax1.pie(x=results_mun, autopct=\"%.01f%%\", colors=['#15B01A', '#929591', '#DC143C'], pctdistance=1.12)\nax1.legend(bbox_to_anchor=(1.23, 0), labels=['Win', 'Draw', 'Defeat'])\nax1.set_title('Manchester United\\n(2000/01 - 2010/11)', fontdict={'size': 'x-large'})\n#2) Stats of City\nax2.pie(x=results_city, autopct=\"%.01f%%\", colors=['#15B01A', '#929591', '#DC143C'], pctdistance=1.12)\nax2.set_title('Manchester City\\n(2011/12 - 2020/21)', fontdict={'size': 'x-large'})\nfig.set_facecolor('#FFFFCB')\nfig.show()",
   "execution_count": 24,
   "outputs": [
    {
     "data": {
      "text/plain": "<Figure size 1700x800 with 2 Axes>",
      "image/png": "[encoded data removed]"
     },
     "metadata": {
      "image/png": {
       "width": 1337,
       "height": 754
      }
     },
     "output_type": "display_data"
    }
   ]
  },
  {
   "cell_type": "code",
   "metadata": {
    "cell_id": "749a87eeac46458193ec78e6c4e6732b",
    "tags": [],
    "deepnote_to_be_reexecuted": false,
    "source_hash": "ee3ad582",
    "execution_start": 1663364826752,
    "execution_millis": 784,
    "deepnote_cell_type": "code",
    "deepnote_cell_height": 393
   },
   "source": "df_stats = pd.DataFrame({\n    'Manchester United': results_mun,\n    'Manchester City': results_city\n}, index=['Wins', 'Draws', 'Defeat'])\ndf_stats = df_stats.T\ndf_stats['Total points'] = [df_mun_1.Pts.sum(), df_city.Pts.sum()]\ndf_stats.sort_values('Total points', ascending=False, inplace=True)\ndf_stats",
   "execution_count": 25,
   "outputs": [
    {
     "output_type": "execute_result",
     "execution_count": 25,
     "data": {
      "application/vnd.deepnote.dataframe.v3+json": {
       "column_count": 4,
       "row_count": 2,
       "columns": [
        {
         "name": "Wins",
         "dtype": "int64",
         "stats": {
          "unique_count": 2,
          "nan_count": 0,
          "min": "276",
          "max": "290",
          "histogram": [
           {
            "bin_start": 276,
            "bin_end": 277.4,
            "count": 1
           },
           {
            "bin_start": 277.4,
            "bin_end": 278.8,
            "count": 0
           },
           {
            "bin_start": 278.8,
            "bin_end": 280.2,
            "count": 0
           },
           {
            "bin_start": 280.2,
            "bin_end": 281.6,
            "count": 0
           },
           {
            "bin_start": 281.6,
            "bin_end": 283,
            "count": 0
           },
           {
            "bin_start": 283,
            "bin_end": 284.4,
            "count": 0
           },
           {
            "bin_start": 284.4,
            "bin_end": 285.8,
            "count": 0
           },
           {
            "bin_start": 285.8,
            "bin_end": 287.2,
            "count": 0
           },
           {
            "bin_start": 287.2,
            "bin_end": 288.6,
            "count": 0
           },
           {
            "bin_start": 288.6,
            "bin_end": 290,
            "count": 1
           }
          ]
         }
        },
        {
         "name": "Draws",
         "dtype": "int64",
         "stats": {
          "unique_count": 2,
          "nan_count": 0,
          "min": "64",
          "max": "78",
          "histogram": [
           {
            "bin_start": 64,
            "bin_end": 65.4,
            "count": 1
           },
           {
            "bin_start": 65.4,
            "bin_end": 66.8,
            "count": 0
           },
           {
            "bin_start": 66.8,
            "bin_end": 68.2,
            "count": 0
           },
           {
            "bin_start": 68.2,
            "bin_end": 69.6,
            "count": 0
           },
           {
            "bin_start": 69.6,
            "bin_end": 71,
            "count": 0
           },
           {
            "bin_start": 71,
            "bin_end": 72.4,
            "count": 0
           },
           {
            "bin_start": 72.4,
            "bin_end": 73.8,
            "count": 0
           },
           {
            "bin_start": 73.8,
            "bin_end": 75.2,
            "count": 0
           },
           {
            "bin_start": 75.2,
            "bin_end": 76.6,
            "count": 0
           },
           {
            "bin_start": 76.6,
            "bin_end": 78,
            "count": 1
           }
          ]
         }
        },
        {
         "name": "Defeat",
         "dtype": "int64",
         "stats": {
          "unique_count": 1,
          "nan_count": 0,
          "min": "64",
          "max": "64",
          "histogram": [
           {
            "bin_start": 63.5,
            "bin_end": 63.6,
            "count": 0
           },
           {
            "bin_start": 63.6,
            "bin_end": 63.7,
            "count": 0
           },
           {
            "bin_start": 63.7,
            "bin_end": 63.8,
            "count": 0
           },
           {
            "bin_start": 63.8,
            "bin_end": 63.9,
            "count": 0
           },
           {
            "bin_start": 63.9,
            "bin_end": 64,
            "count": 0
           },
           {
            "bin_start": 64,
            "bin_end": 64.1,
            "count": 2
           },
           {
            "bin_start": 64.1,
            "bin_end": 64.2,
            "count": 0
           },
           {
            "bin_start": 64.2,
            "bin_end": 64.3,
            "count": 0
           },
           {
            "bin_start": 64.3,
            "bin_end": 64.4,
            "count": 0
           },
           {
            "bin_start": 64.4,
            "bin_end": 64.5,
            "count": 0
           }
          ]
         }
        },
        {
         "name": "Total points",
         "dtype": "int64",
         "stats": {
          "unique_count": 2,
          "nan_count": 0,
          "min": "906",
          "max": "934",
          "histogram": [
           {
            "bin_start": 906,
            "bin_end": 908.8,
            "count": 1
           },
           {
            "bin_start": 908.8,
            "bin_end": 911.6,
            "count": 0
           },
           {
            "bin_start": 911.6,
            "bin_end": 914.4,
            "count": 0
           },
           {
            "bin_start": 914.4,
            "bin_end": 917.2,
            "count": 0
           },
           {
            "bin_start": 917.2,
            "bin_end": 920,
            "count": 0
           },
           {
            "bin_start": 920,
            "bin_end": 922.8,
            "count": 0
           },
           {
            "bin_start": 922.8,
            "bin_end": 925.6,
            "count": 0
           },
           {
            "bin_start": 925.6,
            "bin_end": 928.4,
            "count": 0
           },
           {
            "bin_start": 928.4,
            "bin_end": 931.2,
            "count": 0
           },
           {
            "bin_start": 931.2,
            "bin_end": 934,
            "count": 1
           }
          ]
         }
        },
        {
         "name": "_deepnote_index_column",
         "dtype": "object"
        }
       ],
       "rows": [
        {
         "Wins": "290",
         "Draws": "64",
         "Defeat": "64",
         "Total points": "934",
         "_deepnote_index_column": "Manchester City"
        },
        {
         "Wins": "276",
         "Draws": "78",
         "Defeat": "64",
         "Total points": "906",
         "_deepnote_index_column": "Manchester United"
        }
       ]
      },
      "text/plain": "                   Wins  Draws  Defeat  Total points\nManchester City     290     64      64           934\nManchester United   276     78      64           906",
      "text/html": "<div>\n<style scoped>\n    .dataframe tbody tr th:only-of-type {\n        vertical-align: middle;\n    }\n\n    .dataframe tbody tr th {\n        vertical-align: top;\n    }\n\n    .dataframe thead th {\n        text-align: right;\n    }\n</style>\n<table border=\"1\" class=\"dataframe\">\n  <thead>\n    <tr style=\"text-align: right;\">\n      <th></th>\n      <th>Wins</th>\n      <th>Draws</th>\n      <th>Defeat</th>\n      <th>Total points</th>\n    </tr>\n  </thead>\n  <tbody>\n    <tr>\n      <th>Manchester City</th>\n      <td>290</td>\n      <td>64</td>\n      <td>64</td>\n      <td>934</td>\n    </tr>\n    <tr>\n      <th>Manchester United</th>\n      <td>276</td>\n      <td>78</td>\n      <td>64</td>\n      <td>906</td>\n    </tr>\n  </tbody>\n</table>\n</div>"
     },
     "metadata": {}
    }
   ]
  },
  {
   "cell_type": "markdown",
   "source": "The statistics show that Mancheser City has been superior to Manchester United:\n* The Cityzens managed to win the 69.4% of their matches and accumulate 934 points out of the 1254 possibles, i.e. 3.4% and 3% respectively more than the Red Devils.\n\nFun Fact: Both Teams lost the same amount of times: 64 defeats.",
   "metadata": {
    "cell_id": "2f5aaa3ac01a4850832d4c2a1b1422a8",
    "tags": [],
    "deepnote_cell_type": "markdown",
    "deepnote_cell_height": 147.59375
   }
  },
  {
   "cell_type": "markdown",
   "source": "**STATS: TOTAL GOALS ⚽**",
   "metadata": {
    "cell_id": "951f9144fffd4b949810896df281a061",
    "tags": [],
    "deepnote_cell_type": "markdown",
    "deepnote_cell_height": 52.390625
   }
  },
  {
   "cell_type": "code",
   "metadata": {
    "cell_id": "be4fdd2b4528471e92e89c03c07bd8da",
    "tags": [],
    "deepnote_to_be_reexecuted": false,
    "source_hash": "682bf01a",
    "execution_start": 1663364826792,
    "execution_millis": 0,
    "deepnote_cell_type": "code",
    "deepnote_cell_height": 238
   },
   "source": "list_goals = np.array([df_mun_1['Goals Scored'].sum(), df_city['Goals Scored'].sum()])\ngoals_max = [df_mun_1['Goals Scored'].max(), df_city['Goals Scored'].max()]\ngoals_min = [df_mun_1['Goals Scored'].min(), df_city['Goals Scored'].min()]\ndf_goals = pd.DataFrame({\n    'Total goals': list_goals,\n    'Goal/Match': (list_goals / 418).round(2),\n    'Max. #goals/season': goals_max, \n    'Min. #goals/season': goals_min\n}, index=['Manchester United', 'Manchester City'])\ndf_goals.sort_values('Total goals', ascending=False, inplace=True)",
   "execution_count": 26,
   "outputs": []
  },
  {
   "cell_type": "code",
   "metadata": {
    "cell_id": "e019542919a7412b84d1567eb210851d",
    "tags": [],
    "deepnote_to_be_reexecuted": false,
    "source_hash": "928638d9",
    "execution_start": 1663364826839,
    "execution_millis": 969,
    "deepnote_cell_type": "code",
    "deepnote_cell_height": 810,
    "deepnote_output_heights": [
     574
    ]
   },
   "source": "#Canvas\nfig = plt.figure()\n#Axes\nax = fig.add_axes([0, 0, 1, 1])\n#Graphic\nax = sns.barplot(data=df_goals, x=df_goals.index, y='Total goals', palette='Set2')\nax.set_title('Total goals:\\nMan. City vs Man. United', fontdict={'size': 'large'})\nax.set_ylabel('goals')\nfig.show()",
   "execution_count": 27,
   "outputs": [
    {
     "data": {
      "text/plain": "<Figure size 640x480 with 1 Axes>",
      "image/png": "[encoded data removed]"
     },
     "metadata": {
      "image/png": {
       "width": 735,
       "height": 573
      }
     },
     "output_type": "display_data"
    }
   ]
  },
  {
   "cell_type": "code",
   "metadata": {
    "cell_id": "2e745172f1674fb7b8985ff95f62a8f1",
    "tags": [],
    "deepnote_to_be_reexecuted": false,
    "source_hash": "f7548410",
    "execution_start": 1663364827055,
    "execution_millis": 756,
    "deepnote_cell_type": "code",
    "deepnote_cell_height": 267
   },
   "source": "df_goals",
   "execution_count": 28,
   "outputs": [
    {
     "output_type": "execute_result",
     "execution_count": 28,
     "data": {
      "application/vnd.deepnote.dataframe.v3+json": {
       "column_count": 4,
       "row_count": 2,
       "columns": [
        {
         "name": "Total goals",
         "dtype": "int64",
         "stats": {
          "unique_count": 2,
          "nan_count": 0,
          "min": "829",
          "max": "980",
          "histogram": [
           {
            "bin_start": 829,
            "bin_end": 844.1,
            "count": 1
           },
           {
            "bin_start": 844.1,
            "bin_end": 859.2,
            "count": 0
           },
           {
            "bin_start": 859.2,
            "bin_end": 874.3,
            "count": 0
           },
           {
            "bin_start": 874.3,
            "bin_end": 889.4,
            "count": 0
           },
           {
            "bin_start": 889.4,
            "bin_end": 904.5,
            "count": 0
           },
           {
            "bin_start": 904.5,
            "bin_end": 919.6,
            "count": 0
           },
           {
            "bin_start": 919.6,
            "bin_end": 934.7,
            "count": 0
           },
           {
            "bin_start": 934.7,
            "bin_end": 949.8,
            "count": 0
           },
           {
            "bin_start": 949.8,
            "bin_end": 964.9,
            "count": 0
           },
           {
            "bin_start": 964.9,
            "bin_end": 980,
            "count": 1
           }
          ]
         }
        },
        {
         "name": "Goal/Match",
         "dtype": "float64",
         "stats": {
          "unique_count": 2,
          "nan_count": 0,
          "min": "1.98",
          "max": "2.34",
          "histogram": [
           {
            "bin_start": 1.98,
            "bin_end": 2.016,
            "count": 1
           },
           {
            "bin_start": 2.016,
            "bin_end": 2.052,
            "count": 0
           },
           {
            "bin_start": 2.052,
            "bin_end": 2.088,
            "count": 0
           },
           {
            "bin_start": 2.088,
            "bin_end": 2.124,
            "count": 0
           },
           {
            "bin_start": 2.124,
            "bin_end": 2.16,
            "count": 0
           },
           {
            "bin_start": 2.16,
            "bin_end": 2.1959999999999997,
            "count": 0
           },
           {
            "bin_start": 2.1959999999999997,
            "bin_end": 2.2319999999999998,
            "count": 0
           },
           {
            "bin_start": 2.2319999999999998,
            "bin_end": 2.268,
            "count": 0
           },
           {
            "bin_start": 2.268,
            "bin_end": 2.304,
            "count": 0
           },
           {
            "bin_start": 2.304,
            "bin_end": 2.34,
            "count": 1
           }
          ]
         }
        },
        {
         "name": "Max. #goals/season",
         "dtype": "int64",
         "stats": {
          "unique_count": 2,
          "nan_count": 0,
          "min": "87",
          "max": "106",
          "histogram": [
           {
            "bin_start": 87,
            "bin_end": 88.9,
            "count": 1
           },
           {
            "bin_start": 88.9,
            "bin_end": 90.8,
            "count": 0
           },
           {
            "bin_start": 90.8,
            "bin_end": 92.7,
            "count": 0
           },
           {
            "bin_start": 92.7,
            "bin_end": 94.6,
            "count": 0
           },
           {
            "bin_start": 94.6,
            "bin_end": 96.5,
            "count": 0
           },
           {
            "bin_start": 96.5,
            "bin_end": 98.4,
            "count": 0
           },
           {
            "bin_start": 98.4,
            "bin_end": 100.3,
            "count": 0
           },
           {
            "bin_start": 100.3,
            "bin_end": 102.2,
            "count": 0
           },
           {
            "bin_start": 102.2,
            "bin_end": 104.1,
            "count": 0
           },
           {
            "bin_start": 104.1,
            "bin_end": 106,
            "count": 1
           }
          ]
         }
        },
        {
         "name": "Min. #goals/season",
         "dtype": "int64",
         "stats": {
          "unique_count": 2,
          "nan_count": 0,
          "min": "58",
          "max": "66",
          "histogram": [
           {
            "bin_start": 58,
            "bin_end": 58.8,
            "count": 1
           },
           {
            "bin_start": 58.8,
            "bin_end": 59.6,
            "count": 0
           },
           {
            "bin_start": 59.6,
            "bin_end": 60.4,
            "count": 0
           },
           {
            "bin_start": 60.4,
            "bin_end": 61.2,
            "count": 0
           },
           {
            "bin_start": 61.2,
            "bin_end": 62,
            "count": 0
           },
           {
            "bin_start": 62,
            "bin_end": 62.8,
            "count": 0
           },
           {
            "bin_start": 62.8,
            "bin_end": 63.6,
            "count": 0
           },
           {
            "bin_start": 63.6,
            "bin_end": 64.4,
            "count": 0
           },
           {
            "bin_start": 64.4,
            "bin_end": 65.2,
            "count": 0
           },
           {
            "bin_start": 65.2,
            "bin_end": 66,
            "count": 1
           }
          ]
         }
        },
        {
         "name": "_deepnote_index_column",
         "dtype": "object"
        }
       ],
       "rows": [
        {
         "Total goals": "980",
         "Goal/Match": "2.34",
         "Max. #goals/season": "106",
         "Min. #goals/season": "66",
         "_deepnote_index_column": "Manchester City"
        },
        {
         "Total goals": "829",
         "Goal/Match": "1.98",
         "Max. #goals/season": "87",
         "Min. #goals/season": "58",
         "_deepnote_index_column": "Manchester United"
        }
       ]
      },
      "text/plain": "                   Total goals  Goal/Match  Max. #goals/season  \\\nManchester City            980        2.34                 106   \nManchester United          829        1.98                  87   \n\n                   Min. #goals/season  \nManchester City                    66  \nManchester United                  58  ",
      "text/html": "<div>\n<style scoped>\n    .dataframe tbody tr th:only-of-type {\n        vertical-align: middle;\n    }\n\n    .dataframe tbody tr th {\n        vertical-align: top;\n    }\n\n    .dataframe thead th {\n        text-align: right;\n    }\n</style>\n<table border=\"1\" class=\"dataframe\">\n  <thead>\n    <tr style=\"text-align: right;\">\n      <th></th>\n      <th>Total goals</th>\n      <th>Goal/Match</th>\n      <th>Max. #goals/season</th>\n      <th>Min. #goals/season</th>\n    </tr>\n  </thead>\n  <tbody>\n    <tr>\n      <th>Manchester City</th>\n      <td>980</td>\n      <td>2.34</td>\n      <td>106</td>\n      <td>66</td>\n    </tr>\n    <tr>\n      <th>Manchester United</th>\n      <td>829</td>\n      <td>1.98</td>\n      <td>87</td>\n      <td>58</td>\n    </tr>\n  </tbody>\n</table>\n</div>"
     },
     "metadata": {}
    }
   ]
  },
  {
   "cell_type": "markdown",
   "source": "Manchester City have scored 151 more goals than Manchester United, thus achieving an average of 2.34 goals/match. In adittion, the Cityzens's most scoring and the least scoreing was much better than those of the Red Devils ",
   "metadata": {
    "cell_id": "869cc2e4ea75409c81636fff68acde68",
    "tags": [],
    "deepnote_cell_type": "markdown",
    "deepnote_cell_height": 74.796875
   }
  },
  {
   "cell_type": "markdown",
   "source": "---",
   "metadata": {
    "cell_id": "5339e87df13d4dbfb77c06b7d56fa214",
    "tags": [],
    "deepnote_cell_type": "markdown",
    "deepnote_cell_height": 46
   }
  },
  {
   "cell_type": "markdown",
   "source": "#### **FIRST DECADE 🆚 SECOND DECADE**",
   "metadata": {
    "cell_id": "358575e0b41c4ba9b75ba4ffc7c49d7e",
    "tags": [],
    "deepnote_cell_type": "markdown",
    "deepnote_cell_height": 54
   }
  },
  {
   "cell_type": "markdown",
   "source": "**Goals per team in a season ⚽**",
   "metadata": {
    "cell_id": "dc3c014d05954f16b689314a11fcf321",
    "tags": [],
    "deepnote_cell_type": "markdown",
    "deepnote_cell_height": 52.390625
   }
  },
  {
   "cell_type": "code",
   "metadata": {
    "cell_id": "0033e393097b4bf8af11e69322154fd1",
    "tags": [],
    "deepnote_to_be_reexecuted": false,
    "source_hash": "b402ed3f",
    "execution_start": 1663364827063,
    "execution_millis": 760,
    "deepnote_cell_type": "code",
    "deepnote_cell_height": 637.625,
    "deepnote_output_heights": [
     347.640625
    ]
   },
   "source": "#Canvas\nfig = plt.figure(figsize=(16, 6))\n#Graphics\n#1) Distribution of goals in the first decade\nax1 = fig.add_subplot(121)\nax1 = sns.histplot(data=df_decade1, x='Goals Scored', bins=12)\nax1.set_title('Goals per team in a season\\nin the first decade')\n#2) Distribution of goals in the seconda decade\nax2 = fig.add_subplot(122)\nax2 = sns.histplot(data=df_decade2, x='Goals Scored')\nax2.set_title('Goals per team in a season\\nin the second decade')\nfig.show()",
   "execution_count": 29,
   "outputs": [
    {
     "data": {
      "text/plain": "<Figure size 1600x600 with 2 Axes>",
      "image/png": "[encoded data removed]"
     },
     "metadata": {
      "image/png": {
       "width": 1316,
       "height": 576
      }
     },
     "output_type": "display_data"
    }
   ]
  },
  {
   "cell_type": "markdown",
   "source": "Ambas distriibuciones son asimétricas. Por ello, la media arimética se está viendo afectada y no se debe tomar como referencia.\n\nConcentración de los datos:\n* En ambas décadas lo más común ha sido que un equipo anote entre 40 y 50 goles por temporada aproximadamente.\n* En la segunda ha habido más equipos que han anotado más de 80 goles por temporada en el primera",
   "metadata": {
    "cell_id": "802ab38c40744c55bf59e5856caef1f5",
    "tags": [],
    "deepnote_cell_type": "markdown",
    "deepnote_cell_height": 187
   }
  },
  {
   "cell_type": "code",
   "metadata": {
    "cell_id": "0d050df0979941c9860f87fd6eabac37",
    "tags": [],
    "deepnote_to_be_reexecuted": false,
    "source_hash": "bd457723",
    "execution_start": 1663364827726,
    "execution_millis": 1462,
    "deepnote_cell_type": "code",
    "deepnote_cell_height": 732.84375,
    "deepnote_output_heights": [
     406.859375
    ]
   },
   "source": "#Canvas\nfig = plt.figure(figsize=(16, 8))\n#Graphics\n#1\nax1 = fig.add_subplot(121)\nax1 = sns.boxplot(data=df_decade1, y='Goals Scored', palette='Set3')\nax1 = sns.swarmplot(data=df_decade1, y='Goals Scored', color='k')\nax1.set_title('Goals by team in a season\\nin the 1st decade')\n#2\nax2 = fig.add_subplot(122)\nax2 = sns.boxplot(data=df_decade2, y='Goals Scored', palette='Set3')\nax2 = sns.swarmplot(data=df_decade2, y='Goals Scored', color='k')\nax2.set_title('Goals by team in a season\\nin the 2nd decade')\nfig.show()",
   "execution_count": 30,
   "outputs": [
    {
     "data": {
      "text/plain": "<Figure size 1600x800 with 2 Axes>",
      "image/png": "[encoded data removed]"
     },
     "metadata": {
      "image/png": {
       "width": 1325,
       "height": 679
      }
     },
     "output_type": "display_data"
    }
   ]
  },
  {
   "cell_type": "code",
   "metadata": {
    "cell_id": "a6325cbdc60f432cb79065d90a3f09d5",
    "tags": [],
    "deepnote_to_be_reexecuted": false,
    "source_hash": "dcd12b63",
    "execution_start": 1663364829200,
    "execution_millis": 19,
    "deepnote_cell_type": "code",
    "deepnote_cell_height": 580
   },
   "source": "stats_1 = df_decade1['Goals Scored'].describe()[1:]\nstats_2 = df_decade2['Goals Scored'].describe()[1:]\ndf_stats = pd.DataFrame({\n    'First decade': stats_1,\n    'Second decade': stats_2\n}, index=stats_1.index)\ndf_stats",
   "execution_count": 31,
   "outputs": [
    {
     "output_type": "execute_result",
     "execution_count": 31,
     "data": {
      "application/vnd.deepnote.dataframe.v3+json": {
       "column_count": 2,
       "row_count": 7,
       "columns": [
        {
         "name": "First decade",
         "dtype": "float64",
         "stats": {
          "unique_count": 7,
          "nan_count": 0,
          "min": "14.051789253935878",
          "max": "103.0",
          "histogram": [
           {
            "bin_start": 14.051789253935878,
            "bin_end": 22.94661032854229,
            "count": 2
           },
           {
            "bin_start": 22.94661032854229,
            "bin_end": 31.841431403148704,
            "count": 0
           },
           {
            "bin_start": 31.841431403148704,
            "bin_end": 40.736252477755116,
            "count": 0
           },
           {
            "bin_start": 40.736252477755116,
            "bin_end": 49.63107355236153,
            "count": 3
           },
           {
            "bin_start": 49.63107355236153,
            "bin_end": 58.52589462696794,
            "count": 1
           },
           {
            "bin_start": 58.52589462696794,
            "bin_end": 67.42071570157435,
            "count": 0
           },
           {
            "bin_start": 67.42071570157435,
            "bin_end": 76.31553677618076,
            "count": 0
           },
           {
            "bin_start": 76.31553677618076,
            "bin_end": 85.21035785078718,
            "count": 0
           },
           {
            "bin_start": 85.21035785078718,
            "bin_end": 94.10517892539359,
            "count": 0
           },
           {
            "bin_start": 94.10517892539359,
            "bin_end": 103,
            "count": 1
           }
          ]
         }
        },
        {
         "name": "Second decade",
         "dtype": "float64",
         "stats": {
          "unique_count": 7,
          "nan_count": 0,
          "min": "17.275653823429728",
          "max": "106.0",
          "histogram": [
           {
            "bin_start": 17.275653823429728,
            "bin_end": 26.148088441086756,
            "count": 2
           },
           {
            "bin_start": 26.148088441086756,
            "bin_end": 35.02052305874378,
            "count": 0
           },
           {
            "bin_start": 35.02052305874378,
            "bin_end": 43.892957676400805,
            "count": 1
           },
           {
            "bin_start": 43.892957676400805,
            "bin_end": 52.76539229405783,
            "count": 2
           },
           {
            "bin_start": 52.76539229405783,
            "bin_end": 61.63782691171486,
            "count": 0
           },
           {
            "bin_start": 61.63782691171486,
            "bin_end": 70.51026152937189,
            "count": 1
           },
           {
            "bin_start": 70.51026152937189,
            "bin_end": 79.38269614702891,
            "count": 0
           },
           {
            "bin_start": 79.38269614702891,
            "bin_end": 88.25513076468593,
            "count": 0
           },
           {
            "bin_start": 88.25513076468593,
            "bin_end": 97.12756538234296,
            "count": 0
           },
           {
            "bin_start": 97.12756538234296,
            "bin_end": 106,
            "count": 1
           }
          ]
         }
        },
        {
         "name": "_deepnote_index_column",
         "dtype": "object"
        }
       ],
       "rows": [
        {
         "First decade": "49.61363636363637",
         "Second decade": "52.11363636363637",
         "_deepnote_index_column": "mean"
        },
        {
         "First decade": "14.051789253935878",
         "Second decade": "17.275653823429728",
         "_deepnote_index_column": "std"
        },
        {
         "First decade": "20.0",
         "Second decade": "20.0",
         "_deepnote_index_column": "min"
        },
        {
         "First decade": "40.75",
         "Second decade": "40.0",
         "_deepnote_index_column": "25%"
        },
        {
         "First decade": "47.0",
         "Second decade": "47.5",
         "_deepnote_index_column": "50%"
        },
        {
         "First decade": "56.25",
         "Second decade": "62.25",
         "_deepnote_index_column": "75%"
        },
        {
         "First decade": "103.0",
         "Second decade": "106.0",
         "_deepnote_index_column": "max"
        }
       ]
      },
      "text/plain": "      First decade  Second decade\nmean     49.613636      52.113636\nstd      14.051789      17.275654\nmin      20.000000      20.000000\n25%      40.750000      40.000000\n50%      47.000000      47.500000\n75%      56.250000      62.250000\nmax     103.000000     106.000000",
      "text/html": "<div>\n<style scoped>\n    .dataframe tbody tr th:only-of-type {\n        vertical-align: middle;\n    }\n\n    .dataframe tbody tr th {\n        vertical-align: top;\n    }\n\n    .dataframe thead th {\n        text-align: right;\n    }\n</style>\n<table border=\"1\" class=\"dataframe\">\n  <thead>\n    <tr style=\"text-align: right;\">\n      <th></th>\n      <th>First decade</th>\n      <th>Second decade</th>\n    </tr>\n  </thead>\n  <tbody>\n    <tr>\n      <th>mean</th>\n      <td>49.613636</td>\n      <td>52.113636</td>\n    </tr>\n    <tr>\n      <th>std</th>\n      <td>14.051789</td>\n      <td>17.275654</td>\n    </tr>\n    <tr>\n      <th>min</th>\n      <td>20.000000</td>\n      <td>20.000000</td>\n    </tr>\n    <tr>\n      <th>25%</th>\n      <td>40.750000</td>\n      <td>40.000000</td>\n    </tr>\n    <tr>\n      <th>50%</th>\n      <td>47.000000</td>\n      <td>47.500000</td>\n    </tr>\n    <tr>\n      <th>75%</th>\n      <td>56.250000</td>\n      <td>62.250000</td>\n    </tr>\n    <tr>\n      <th>max</th>\n      <td>103.000000</td>\n      <td>106.000000</td>\n    </tr>\n  </tbody>\n</table>\n</div>"
     },
     "metadata": {}
    }
   ]
  },
  {
   "cell_type": "markdown",
   "source": "What they have in common:\n* The Premier League's teams scored between 40 and 50 goals per season around.\n* The minimum number of goals a team scored per season was 20 goals\n\nIn what they differ:\n* In the second decade, the maximum number of goals a team scored per season was 106 goals, that is, 3 more than in the last season.\n* In the first decade, 25% of teams scored 56 goals to more per season; instead, in the seond decade the same percentage of teams scored 62 goals to more.\n* There were more teams scored more than 80 goals per season in the second decade than in the first.",
   "metadata": {
    "cell_id": "5f76c167abdd47a09c61063d337fc810",
    "tags": [],
    "deepnote_cell_type": "markdown",
    "deepnote_cell_height": 296.59375
   }
  },
  {
   "cell_type": "markdown",
   "source": "---",
   "metadata": {
    "cell_id": "9cc9e11d7ff34c8e80726180ebe8be51",
    "tags": [],
    "deepnote_cell_type": "markdown",
    "deepnote_cell_height": 46
   }
  },
  {
   "cell_type": "markdown",
   "source": "#### **Seasons that were defined until the last date**",
   "metadata": {
    "cell_id": "f49eddf2ee0e41b3b04cc1f59377e974",
    "tags": [],
    "deepnote_cell_type": "markdown",
    "deepnote_cell_height": 54
   }
  },
  {
   "cell_type": "code",
   "source": "my_pltt2 = {x: 'r' for x in df_decade1.Year.unique()}\ns_2011, s_2012 = sns.color_palette('Paired')[-1], sns.color_palette('bone')[2]\ns_2013, s_2014 = sns.color_palette('Paired')[-3], sns.color_palette('Paired')[-5]\ns_2015, s_2016 = sns.color_palette('Paired')[-6], sns.color_palette('Paired')[-7]\ns_2017, s_2018 = sns.color_palette('Paired')[-9], sns.color_palette('Paired')[-10]\ns_2019, s_2020 = sns.color_palette('Paired')[1], sns.color_palette('Paired')[-4]\ns_2021 = sns.color_palette('bone')[0]\nmy_pltt2['2011-12'], my_pltt2['2012-13'], my_pltt2['2013-14'], my_pltt2['2014-15'] = s_2011, s_2012, s_2013, s_2014\nmy_pltt2['2015-16'], my_pltt2['2016-17'], my_pltt2['2017-18'], my_pltt2['2018-19'] = s_2015, s_2016, s_2017, s_2018\nmy_pltt2['2019-20'], my_pltt2['2020-21'], my_pltt2['2021-22'] = s_2019, s_2020, s_2021",
   "metadata": {
    "cell_id": "c9596968848249a2a082608e7938ac70",
    "tags": [],
    "deepnote_to_be_reexecuted": false,
    "source_hash": "9878f52c",
    "execution_start": 1663364829226,
    "execution_millis": 9,
    "deepnote_cell_type": "code",
    "deepnote_cell_height": 243
   },
   "outputs": [],
   "execution_count": 32
  },
  {
   "cell_type": "code",
   "source": "#Canvas\nfig = plt.figure()\n#Axes\nax = fig.add_axes([0, 0, 2, 1.5])\n#Graphic\nax = sns.swarmplot(data=df_decade2, x='Season', y='Pts', palette=my_pltt2)\nax.set_title('Positions according to the season\\n', fontdict={'size': 'x-large'})\nfig.set_facecolor('#FFFFCB')\nfig.show()",
   "metadata": {
    "cell_id": "4b683f8a6191440887a4c94049a62afd",
    "tags": [],
    "deepnote_to_be_reexecuted": false,
    "source_hash": "2ba0c7ae",
    "execution_start": 1663364829248,
    "execution_millis": 1640,
    "deepnote_cell_type": "code",
    "deepnote_cell_height": 793.84375,
    "deepnote_output_heights": [
     459.9375,
     491.859375
    ]
   },
   "execution_count": 33,
   "outputs": [
    {
     "name": "stderr",
     "text": "/tmp/ipykernel_417/5298626.py:6: FutureWarning: Passing `palette` without assigning `hue` is deprecated.\n  ax = sns.swarmplot(data=df_decade2, x='Season', y='Pts', palette=my_pltt2)\n",
     "output_type": "stream"
    },
    {
     "data": {
      "text/plain": "<Figure size 640x480 with 1 Axes>",
      "image/png": "[encoded data removed]"
     },
     "metadata": {
      "image/png": {
       "width": 1365,
       "height": 846
      }
     },
     "output_type": "display_data"
    }
   ]
  },
  {
   "cell_type": "markdown",
   "source": "During the second decade there were 4 sesons where the dispute for the first place was very even, that is, two more than in the previous one. ",
   "metadata": {
    "cell_id": "5d3eb50989c24c4fa12d997be34fadcb",
    "tags": [],
    "deepnote_cell_type": "markdown",
    "deepnote_cell_height": 74.796875
   }
  },
  {
   "cell_type": "code",
   "source": "def table(season):\n    p_1, p_2 = df_decade2.Position == 1, df_decade2.Position == 2\n    df_2011 = df_decade2.loc[(df_decade2.Season == season) & (p_1 | p_2), \n    ['Season', 'Position', 'Team', 'Goals difference','Pts']]\n    return df_2011.set_index('Season')",
   "metadata": {
    "cell_id": "b613a7abe058486da6a90263de90a61f",
    "tags": [],
    "deepnote_to_be_reexecuted": false,
    "source_hash": "8fb090a6",
    "execution_start": 1663364829943,
    "execution_millis": 1,
    "deepnote_cell_type": "code",
    "deepnote_cell_height": 148
   },
   "execution_count": 34,
   "outputs": []
  },
  {
   "cell_type": "markdown",
   "source": "Season 2011/12: AGÜEROOOOOO 9️⃣3️⃣:2️⃣0️⃣",
   "metadata": {
    "cell_id": "0cdace9405564be6a392b847ebedf146",
    "tags": [],
    "deepnote_cell_type": "markdown",
    "deepnote_cell_height": 52.390625
   }
  },
  {
   "cell_type": "code",
   "metadata": {
    "cell_id": "1daf6c694d31494386a9f96ebad24be4",
    "tags": [],
    "deepnote_to_be_reexecuted": false,
    "source_hash": "92a12e86",
    "execution_start": 1663364829946,
    "execution_millis": 945,
    "deepnote_cell_type": "code",
    "deepnote_cell_height": 285
   },
   "source": "df_2011 = table('2011-12')\ndf_2011",
   "execution_count": 35,
   "outputs": [
    {
     "output_type": "execute_result",
     "execution_count": 35,
     "data": {
      "application/vnd.deepnote.dataframe.v3+json": {
       "column_count": 4,
       "row_count": 2,
       "columns": [
        {
         "name": "Position",
         "dtype": "int64",
         "stats": {
          "unique_count": 2,
          "nan_count": 0,
          "min": "1",
          "max": "2",
          "histogram": [
           {
            "bin_start": 1,
            "bin_end": 1.1,
            "count": 1
           },
           {
            "bin_start": 1.1,
            "bin_end": 1.2,
            "count": 0
           },
           {
            "bin_start": 1.2,
            "bin_end": 1.3,
            "count": 0
           },
           {
            "bin_start": 1.3,
            "bin_end": 1.4,
            "count": 0
           },
           {
            "bin_start": 1.4,
            "bin_end": 1.5,
            "count": 0
           },
           {
            "bin_start": 1.5,
            "bin_end": 1.6,
            "count": 0
           },
           {
            "bin_start": 1.6,
            "bin_end": 1.7000000000000002,
            "count": 0
           },
           {
            "bin_start": 1.7000000000000002,
            "bin_end": 1.8,
            "count": 0
           },
           {
            "bin_start": 1.8,
            "bin_end": 1.9,
            "count": 0
           },
           {
            "bin_start": 1.9,
            "bin_end": 2,
            "count": 1
           }
          ]
         }
        },
        {
         "name": "Team",
         "dtype": "object",
         "stats": {
          "unique_count": 2,
          "nan_count": 0,
          "categories": [
           {
            "name": "Manchester City",
            "count": 1
           },
           {
            "name": "Manchester United",
            "count": 1
           }
          ]
         }
        },
        {
         "name": "Goals difference",
         "dtype": "int64",
         "stats": {
          "unique_count": 2,
          "nan_count": 0,
          "min": "56",
          "max": "64",
          "histogram": [
           {
            "bin_start": 56,
            "bin_end": 56.8,
            "count": 1
           },
           {
            "bin_start": 56.8,
            "bin_end": 57.6,
            "count": 0
           },
           {
            "bin_start": 57.6,
            "bin_end": 58.4,
            "count": 0
           },
           {
            "bin_start": 58.4,
            "bin_end": 59.2,
            "count": 0
           },
           {
            "bin_start": 59.2,
            "bin_end": 60,
            "count": 0
           },
           {
            "bin_start": 60,
            "bin_end": 60.8,
            "count": 0
           },
           {
            "bin_start": 60.8,
            "bin_end": 61.6,
            "count": 0
           },
           {
            "bin_start": 61.6,
            "bin_end": 62.4,
            "count": 0
           },
           {
            "bin_start": 62.4,
            "bin_end": 63.2,
            "count": 0
           },
           {
            "bin_start": 63.2,
            "bin_end": 64,
            "count": 1
           }
          ]
         }
        },
        {
         "name": "Pts",
         "dtype": "int64",
         "stats": {
          "unique_count": 1,
          "nan_count": 0,
          "min": "89",
          "max": "89",
          "histogram": [
           {
            "bin_start": 88.5,
            "bin_end": 88.6,
            "count": 0
           },
           {
            "bin_start": 88.6,
            "bin_end": 88.7,
            "count": 0
           },
           {
            "bin_start": 88.7,
            "bin_end": 88.8,
            "count": 0
           },
           {
            "bin_start": 88.8,
            "bin_end": 88.9,
            "count": 0
           },
           {
            "bin_start": 88.9,
            "bin_end": 89,
            "count": 0
           },
           {
            "bin_start": 89,
            "bin_end": 89.1,
            "count": 2
           },
           {
            "bin_start": 89.1,
            "bin_end": 89.2,
            "count": 0
           },
           {
            "bin_start": 89.2,
            "bin_end": 89.3,
            "count": 0
           },
           {
            "bin_start": 89.3,
            "bin_end": 89.4,
            "count": 0
           },
           {
            "bin_start": 89.4,
            "bin_end": 89.5,
            "count": 0
           }
          ]
         }
        },
        {
         "name": "_deepnote_index_column",
         "dtype": "object"
        }
       ],
       "rows": [
        {
         "Position": "1",
         "Team": "Manchester City",
         "Goals difference": "64",
         "Pts": "89",
         "_deepnote_index_column": "2011-12"
        },
        {
         "Position": "2",
         "Team": "Manchester United",
         "Goals difference": "56",
         "Pts": "89",
         "_deepnote_index_column": "2011-12"
        }
       ]
      },
      "text/plain": "         Position               Team  Goals difference  Pts\nSeason                                                     \n2011-12         1    Manchester City                64   89\n2011-12         2  Manchester United                56   89",
      "text/html": "<div>\n<style scoped>\n    .dataframe tbody tr th:only-of-type {\n        vertical-align: middle;\n    }\n\n    .dataframe tbody tr th {\n        vertical-align: top;\n    }\n\n    .dataframe thead th {\n        text-align: right;\n    }\n</style>\n<table border=\"1\" class=\"dataframe\">\n  <thead>\n    <tr style=\"text-align: right;\">\n      <th></th>\n      <th>Position</th>\n      <th>Team</th>\n      <th>Goals difference</th>\n      <th>Pts</th>\n    </tr>\n    <tr>\n      <th>Season</th>\n      <th></th>\n      <th></th>\n      <th></th>\n      <th></th>\n    </tr>\n  </thead>\n  <tbody>\n    <tr>\n      <th>2011-12</th>\n      <td>1</td>\n      <td>Manchester City</td>\n      <td>64</td>\n      <td>89</td>\n    </tr>\n    <tr>\n      <th>2011-12</th>\n      <td>2</td>\n      <td>Manchester United</td>\n      <td>56</td>\n      <td>89</td>\n    </tr>\n  </tbody>\n</table>\n</div>"
     },
     "metadata": {}
    }
   ]
  },
  {
   "cell_type": "markdown",
   "source": "For the last data of the 2011/12 season, Manchester United and Manchester City arrived with the same number of points, but with a goals difference that favored the Cityzens. Therefore, all they cared about was winning to avoid any kind of risk. And the way they won was very surreal, as they turned the score of the game, which was 1-2 in favor of the QPR, in just 2 minutes with goals from Dzeko and 'Kun' Agüero. And in this way they left the Red Devils wanting, who had defeated Sunderland by a goal to zero",
   "metadata": {
    "cell_id": "8e4655aaa3ad4e019ba7a5d238eec2c5",
    "tags": [],
    "deepnote_cell_type": "markdown",
    "deepnote_cell_height": 142
   }
  },
  {
   "cell_type": "markdown",
   "source": "Season 2013/14",
   "metadata": {
    "cell_id": "165e98767f954665b210c69ff6e8dd8d",
    "tags": [],
    "deepnote_cell_type": "markdown",
    "deepnote_cell_height": 52.390625
   }
  },
  {
   "cell_type": "code",
   "metadata": {
    "cell_id": "f935bb5cb16e458a92662df3b111731e",
    "tags": [],
    "deepnote_to_be_reexecuted": false,
    "source_hash": "d06c20e8",
    "execution_start": 1663364829966,
    "execution_millis": 926,
    "deepnote_cell_type": "code",
    "deepnote_cell_height": 285
   },
   "source": "df_2013 = table('2013-14')\ndf_2013",
   "execution_count": 36,
   "outputs": [
    {
     "output_type": "execute_result",
     "execution_count": 36,
     "data": {
      "application/vnd.deepnote.dataframe.v3+json": {
       "column_count": 4,
       "row_count": 2,
       "columns": [
        {
         "name": "Position",
         "dtype": "int64",
         "stats": {
          "unique_count": 2,
          "nan_count": 0,
          "min": "1",
          "max": "2",
          "histogram": [
           {
            "bin_start": 1,
            "bin_end": 1.1,
            "count": 1
           },
           {
            "bin_start": 1.1,
            "bin_end": 1.2,
            "count": 0
           },
           {
            "bin_start": 1.2,
            "bin_end": 1.3,
            "count": 0
           },
           {
            "bin_start": 1.3,
            "bin_end": 1.4,
            "count": 0
           },
           {
            "bin_start": 1.4,
            "bin_end": 1.5,
            "count": 0
           },
           {
            "bin_start": 1.5,
            "bin_end": 1.6,
            "count": 0
           },
           {
            "bin_start": 1.6,
            "bin_end": 1.7000000000000002,
            "count": 0
           },
           {
            "bin_start": 1.7000000000000002,
            "bin_end": 1.8,
            "count": 0
           },
           {
            "bin_start": 1.8,
            "bin_end": 1.9,
            "count": 0
           },
           {
            "bin_start": 1.9,
            "bin_end": 2,
            "count": 1
           }
          ]
         }
        },
        {
         "name": "Team",
         "dtype": "object",
         "stats": {
          "unique_count": 2,
          "nan_count": 0,
          "categories": [
           {
            "name": "Manchester City",
            "count": 1
           },
           {
            "name": "Liverpool",
            "count": 1
           }
          ]
         }
        },
        {
         "name": "Goals difference",
         "dtype": "int64",
         "stats": {
          "unique_count": 2,
          "nan_count": 0,
          "min": "51",
          "max": "65",
          "histogram": [
           {
            "bin_start": 51,
            "bin_end": 52.4,
            "count": 1
           },
           {
            "bin_start": 52.4,
            "bin_end": 53.8,
            "count": 0
           },
           {
            "bin_start": 53.8,
            "bin_end": 55.2,
            "count": 0
           },
           {
            "bin_start": 55.2,
            "bin_end": 56.6,
            "count": 0
           },
           {
            "bin_start": 56.6,
            "bin_end": 58,
            "count": 0
           },
           {
            "bin_start": 58,
            "bin_end": 59.4,
            "count": 0
           },
           {
            "bin_start": 59.4,
            "bin_end": 60.8,
            "count": 0
           },
           {
            "bin_start": 60.8,
            "bin_end": 62.2,
            "count": 0
           },
           {
            "bin_start": 62.2,
            "bin_end": 63.6,
            "count": 0
           },
           {
            "bin_start": 63.6,
            "bin_end": 65,
            "count": 1
           }
          ]
         }
        },
        {
         "name": "Pts",
         "dtype": "int64",
         "stats": {
          "unique_count": 2,
          "nan_count": 0,
          "min": "84",
          "max": "86",
          "histogram": [
           {
            "bin_start": 84,
            "bin_end": 84.2,
            "count": 1
           },
           {
            "bin_start": 84.2,
            "bin_end": 84.4,
            "count": 0
           },
           {
            "bin_start": 84.4,
            "bin_end": 84.6,
            "count": 0
           },
           {
            "bin_start": 84.6,
            "bin_end": 84.8,
            "count": 0
           },
           {
            "bin_start": 84.8,
            "bin_end": 85,
            "count": 0
           },
           {
            "bin_start": 85,
            "bin_end": 85.2,
            "count": 0
           },
           {
            "bin_start": 85.2,
            "bin_end": 85.4,
            "count": 0
           },
           {
            "bin_start": 85.4,
            "bin_end": 85.6,
            "count": 0
           },
           {
            "bin_start": 85.6,
            "bin_end": 85.8,
            "count": 0
           },
           {
            "bin_start": 85.8,
            "bin_end": 86,
            "count": 1
           }
          ]
         }
        },
        {
         "name": "_deepnote_index_column",
         "dtype": "object"
        }
       ],
       "rows": [
        {
         "Position": "1",
         "Team": "Manchester City",
         "Goals difference": "65",
         "Pts": "86",
         "_deepnote_index_column": "2013-14"
        },
        {
         "Position": "2",
         "Team": "Liverpool",
         "Goals difference": "51",
         "Pts": "84",
         "_deepnote_index_column": "2013-14"
        }
       ]
      },
      "text/plain": "         Position             Team  Goals difference  Pts\nSeason                                                   \n2013-14         1  Manchester City                65   86\n2013-14         2        Liverpool                51   84",
      "text/html": "<div>\n<style scoped>\n    .dataframe tbody tr th:only-of-type {\n        vertical-align: middle;\n    }\n\n    .dataframe tbody tr th {\n        vertical-align: top;\n    }\n\n    .dataframe thead th {\n        text-align: right;\n    }\n</style>\n<table border=\"1\" class=\"dataframe\">\n  <thead>\n    <tr style=\"text-align: right;\">\n      <th></th>\n      <th>Position</th>\n      <th>Team</th>\n      <th>Goals difference</th>\n      <th>Pts</th>\n    </tr>\n    <tr>\n      <th>Season</th>\n      <th></th>\n      <th></th>\n      <th></th>\n      <th></th>\n    </tr>\n  </thead>\n  <tbody>\n    <tr>\n      <th>2013-14</th>\n      <td>1</td>\n      <td>Manchester City</td>\n      <td>65</td>\n      <td>86</td>\n    </tr>\n    <tr>\n      <th>2013-14</th>\n      <td>2</td>\n      <td>Liverpool</td>\n      <td>51</td>\n      <td>84</td>\n    </tr>\n  </tbody>\n</table>\n</div>"
     },
     "metadata": {}
    }
   ]
  },
  {
   "cell_type": "markdown",
   "source": "Manchester City was crowned champion of the 2013/14 season thanks to Liverpool losing to Chelseas and drew against Crystal Palace on the antepenultimate and penultimate date respectively. Well, before that Liverpool had 3-point lead, but as mentioned above City took the lead after winning both dates. And for the last game, the only hope the Reds had is that the Cityzens lose to be able to come out champion, but this didn't happen.",
   "metadata": {
    "cell_id": "e466e9b230d34b83888405323afb2db1",
    "tags": [],
    "deepnote_cell_type": "markdown",
    "deepnote_cell_height": 119.59375
   }
  },
  {
   "cell_type": "markdown",
   "source": "Season 2018/19",
   "metadata": {
    "cell_id": "bf0d1626b1c945e591a33b1af644684b",
    "tags": [],
    "deepnote_cell_type": "markdown",
    "deepnote_cell_height": 52.390625
   }
  },
  {
   "cell_type": "code",
   "metadata": {
    "cell_id": "f1815777b5c04f58978ea82bbc0e6388",
    "tags": [],
    "deepnote_to_be_reexecuted": false,
    "source_hash": "c3624583",
    "execution_start": 1663364830008,
    "execution_millis": 884,
    "deepnote_cell_type": "code",
    "deepnote_cell_height": 285
   },
   "source": "df_2018 = table('2018-19')\ndf_2018",
   "execution_count": 37,
   "outputs": [
    {
     "output_type": "execute_result",
     "execution_count": 37,
     "data": {
      "application/vnd.deepnote.dataframe.v3+json": {
       "column_count": 4,
       "row_count": 2,
       "columns": [
        {
         "name": "Position",
         "dtype": "int64",
         "stats": {
          "unique_count": 2,
          "nan_count": 0,
          "min": "1",
          "max": "2",
          "histogram": [
           {
            "bin_start": 1,
            "bin_end": 1.1,
            "count": 1
           },
           {
            "bin_start": 1.1,
            "bin_end": 1.2,
            "count": 0
           },
           {
            "bin_start": 1.2,
            "bin_end": 1.3,
            "count": 0
           },
           {
            "bin_start": 1.3,
            "bin_end": 1.4,
            "count": 0
           },
           {
            "bin_start": 1.4,
            "bin_end": 1.5,
            "count": 0
           },
           {
            "bin_start": 1.5,
            "bin_end": 1.6,
            "count": 0
           },
           {
            "bin_start": 1.6,
            "bin_end": 1.7000000000000002,
            "count": 0
           },
           {
            "bin_start": 1.7000000000000002,
            "bin_end": 1.8,
            "count": 0
           },
           {
            "bin_start": 1.8,
            "bin_end": 1.9,
            "count": 0
           },
           {
            "bin_start": 1.9,
            "bin_end": 2,
            "count": 1
           }
          ]
         }
        },
        {
         "name": "Team",
         "dtype": "object",
         "stats": {
          "unique_count": 2,
          "nan_count": 0,
          "categories": [
           {
            "name": "Manchester City",
            "count": 1
           },
           {
            "name": "Liverpool",
            "count": 1
           }
          ]
         }
        },
        {
         "name": "Goals difference",
         "dtype": "int64",
         "stats": {
          "unique_count": 2,
          "nan_count": 0,
          "min": "67",
          "max": "72",
          "histogram": [
           {
            "bin_start": 67,
            "bin_end": 67.5,
            "count": 1
           },
           {
            "bin_start": 67.5,
            "bin_end": 68,
            "count": 0
           },
           {
            "bin_start": 68,
            "bin_end": 68.5,
            "count": 0
           },
           {
            "bin_start": 68.5,
            "bin_end": 69,
            "count": 0
           },
           {
            "bin_start": 69,
            "bin_end": 69.5,
            "count": 0
           },
           {
            "bin_start": 69.5,
            "bin_end": 70,
            "count": 0
           },
           {
            "bin_start": 70,
            "bin_end": 70.5,
            "count": 0
           },
           {
            "bin_start": 70.5,
            "bin_end": 71,
            "count": 0
           },
           {
            "bin_start": 71,
            "bin_end": 71.5,
            "count": 0
           },
           {
            "bin_start": 71.5,
            "bin_end": 72,
            "count": 1
           }
          ]
         }
        },
        {
         "name": "Pts",
         "dtype": "int64",
         "stats": {
          "unique_count": 2,
          "nan_count": 0,
          "min": "97",
          "max": "98",
          "histogram": [
           {
            "bin_start": 97,
            "bin_end": 97.1,
            "count": 1
           },
           {
            "bin_start": 97.1,
            "bin_end": 97.2,
            "count": 0
           },
           {
            "bin_start": 97.2,
            "bin_end": 97.3,
            "count": 0
           },
           {
            "bin_start": 97.3,
            "bin_end": 97.4,
            "count": 0
           },
           {
            "bin_start": 97.4,
            "bin_end": 97.5,
            "count": 0
           },
           {
            "bin_start": 97.5,
            "bin_end": 97.6,
            "count": 0
           },
           {
            "bin_start": 97.6,
            "bin_end": 97.7,
            "count": 0
           },
           {
            "bin_start": 97.7,
            "bin_end": 97.8,
            "count": 0
           },
           {
            "bin_start": 97.8,
            "bin_end": 97.9,
            "count": 0
           },
           {
            "bin_start": 97.9,
            "bin_end": 98,
            "count": 1
           }
          ]
         }
        },
        {
         "name": "_deepnote_index_column",
         "dtype": "object"
        }
       ],
       "rows": [
        {
         "Position": "1",
         "Team": "Manchester City",
         "Goals difference": "72",
         "Pts": "98",
         "_deepnote_index_column": "2018-19"
        },
        {
         "Position": "2",
         "Team": "Liverpool",
         "Goals difference": "67",
         "Pts": "97",
         "_deepnote_index_column": "2018-19"
        }
       ]
      },
      "text/plain": "         Position             Team  Goals difference  Pts\nSeason                                                   \n2018-19         1  Manchester City                72   98\n2018-19         2        Liverpool                67   97",
      "text/html": "<div>\n<style scoped>\n    .dataframe tbody tr th:only-of-type {\n        vertical-align: middle;\n    }\n\n    .dataframe tbody tr th {\n        vertical-align: top;\n    }\n\n    .dataframe thead th {\n        text-align: right;\n    }\n</style>\n<table border=\"1\" class=\"dataframe\">\n  <thead>\n    <tr style=\"text-align: right;\">\n      <th></th>\n      <th>Position</th>\n      <th>Team</th>\n      <th>Goals difference</th>\n      <th>Pts</th>\n    </tr>\n    <tr>\n      <th>Season</th>\n      <th></th>\n      <th></th>\n      <th></th>\n      <th></th>\n    </tr>\n  </thead>\n  <tbody>\n    <tr>\n      <th>2018-19</th>\n      <td>1</td>\n      <td>Manchester City</td>\n      <td>72</td>\n      <td>98</td>\n    </tr>\n    <tr>\n      <th>2018-19</th>\n      <td>2</td>\n      <td>Liverpool</td>\n      <td>67</td>\n      <td>97</td>\n    </tr>\n  </tbody>\n</table>\n</div>"
     },
     "metadata": {}
    }
   ]
  },
  {
   "cell_type": "markdown",
   "source": "Liverpool during the 2018/19 season again missed the opportunity to be champion against the same rival of that 2013/14 season. But, what was different was the amount of points difference, where both teams were separated by just one point and this remained during the last 10 games. So, both teams knew that the only option was win and wait for the other to fall. However, the Cityzens once took the lead after that fall of Liverpool on Matchday 29,didn't stop winning.",
   "metadata": {
    "cell_id": "f929e930359a4f64a9b34b9c6dc34569",
    "tags": [],
    "deepnote_cell_type": "markdown",
    "deepnote_cell_height": 142
   }
  },
  {
   "cell_type": "markdown",
   "source": "Season 2021/2022",
   "metadata": {
    "cell_id": "bdcfcbc843a9487a91d185ad98290d09",
    "tags": [],
    "deepnote_cell_type": "markdown",
    "deepnote_cell_height": 52.390625
   }
  },
  {
   "cell_type": "code",
   "metadata": {
    "cell_id": "a7494cb09f5346c091acbc71c3b03fc0",
    "tags": [],
    "deepnote_to_be_reexecuted": false,
    "source_hash": "70c56bf3",
    "execution_start": 1663364830033,
    "execution_millis": 866,
    "deepnote_cell_type": "code",
    "deepnote_cell_height": 285
   },
   "source": "df_2021 = table('2021-22')\ndf_2021",
   "execution_count": 38,
   "outputs": [
    {
     "output_type": "execute_result",
     "execution_count": 38,
     "data": {
      "application/vnd.deepnote.dataframe.v3+json": {
       "column_count": 4,
       "row_count": 2,
       "columns": [
        {
         "name": "Position",
         "dtype": "int64",
         "stats": {
          "unique_count": 2,
          "nan_count": 0,
          "min": "1",
          "max": "2",
          "histogram": [
           {
            "bin_start": 1,
            "bin_end": 1.1,
            "count": 1
           },
           {
            "bin_start": 1.1,
            "bin_end": 1.2,
            "count": 0
           },
           {
            "bin_start": 1.2,
            "bin_end": 1.3,
            "count": 0
           },
           {
            "bin_start": 1.3,
            "bin_end": 1.4,
            "count": 0
           },
           {
            "bin_start": 1.4,
            "bin_end": 1.5,
            "count": 0
           },
           {
            "bin_start": 1.5,
            "bin_end": 1.6,
            "count": 0
           },
           {
            "bin_start": 1.6,
            "bin_end": 1.7000000000000002,
            "count": 0
           },
           {
            "bin_start": 1.7000000000000002,
            "bin_end": 1.8,
            "count": 0
           },
           {
            "bin_start": 1.8,
            "bin_end": 1.9,
            "count": 0
           },
           {
            "bin_start": 1.9,
            "bin_end": 2,
            "count": 1
           }
          ]
         }
        },
        {
         "name": "Team",
         "dtype": "object",
         "stats": {
          "unique_count": 2,
          "nan_count": 0,
          "categories": [
           {
            "name": "Manchester City",
            "count": 1
           },
           {
            "name": "Liverpool",
            "count": 1
           }
          ]
         }
        },
        {
         "name": "Goals difference",
         "dtype": "int64",
         "stats": {
          "unique_count": 2,
          "nan_count": 0,
          "min": "68",
          "max": "73",
          "histogram": [
           {
            "bin_start": 68,
            "bin_end": 68.5,
            "count": 1
           },
           {
            "bin_start": 68.5,
            "bin_end": 69,
            "count": 0
           },
           {
            "bin_start": 69,
            "bin_end": 69.5,
            "count": 0
           },
           {
            "bin_start": 69.5,
            "bin_end": 70,
            "count": 0
           },
           {
            "bin_start": 70,
            "bin_end": 70.5,
            "count": 0
           },
           {
            "bin_start": 70.5,
            "bin_end": 71,
            "count": 0
           },
           {
            "bin_start": 71,
            "bin_end": 71.5,
            "count": 0
           },
           {
            "bin_start": 71.5,
            "bin_end": 72,
            "count": 0
           },
           {
            "bin_start": 72,
            "bin_end": 72.5,
            "count": 0
           },
           {
            "bin_start": 72.5,
            "bin_end": 73,
            "count": 1
           }
          ]
         }
        },
        {
         "name": "Pts",
         "dtype": "int64",
         "stats": {
          "unique_count": 2,
          "nan_count": 0,
          "min": "92",
          "max": "93",
          "histogram": [
           {
            "bin_start": 92,
            "bin_end": 92.1,
            "count": 1
           },
           {
            "bin_start": 92.1,
            "bin_end": 92.2,
            "count": 0
           },
           {
            "bin_start": 92.2,
            "bin_end": 92.3,
            "count": 0
           },
           {
            "bin_start": 92.3,
            "bin_end": 92.4,
            "count": 0
           },
           {
            "bin_start": 92.4,
            "bin_end": 92.5,
            "count": 0
           },
           {
            "bin_start": 92.5,
            "bin_end": 92.6,
            "count": 0
           },
           {
            "bin_start": 92.6,
            "bin_end": 92.7,
            "count": 0
           },
           {
            "bin_start": 92.7,
            "bin_end": 92.8,
            "count": 0
           },
           {
            "bin_start": 92.8,
            "bin_end": 92.9,
            "count": 0
           },
           {
            "bin_start": 92.9,
            "bin_end": 93,
            "count": 1
           }
          ]
         }
        },
        {
         "name": "_deepnote_index_column",
         "dtype": "object"
        }
       ],
       "rows": [
        {
         "Position": "1",
         "Team": "Manchester City",
         "Goals difference": "73",
         "Pts": "93",
         "_deepnote_index_column": "2021-22"
        },
        {
         "Position": "2",
         "Team": "Liverpool",
         "Goals difference": "68",
         "Pts": "92",
         "_deepnote_index_column": "2021-22"
        }
       ]
      },
      "text/plain": "         Position             Team  Goals difference  Pts\nSeason                                                   \n2021-22         1  Manchester City                73   93\n2021-22         2        Liverpool                68   92",
      "text/html": "<div>\n<style scoped>\n    .dataframe tbody tr th:only-of-type {\n        vertical-align: middle;\n    }\n\n    .dataframe tbody tr th {\n        vertical-align: top;\n    }\n\n    .dataframe thead th {\n        text-align: right;\n    }\n</style>\n<table border=\"1\" class=\"dataframe\">\n  <thead>\n    <tr style=\"text-align: right;\">\n      <th></th>\n      <th>Position</th>\n      <th>Team</th>\n      <th>Goals difference</th>\n      <th>Pts</th>\n    </tr>\n    <tr>\n      <th>Season</th>\n      <th></th>\n      <th></th>\n      <th></th>\n      <th></th>\n    </tr>\n  </thead>\n  <tbody>\n    <tr>\n      <th>2021-22</th>\n      <td>1</td>\n      <td>Manchester City</td>\n      <td>73</td>\n      <td>93</td>\n    </tr>\n    <tr>\n      <th>2021-22</th>\n      <td>2</td>\n      <td>Liverpool</td>\n      <td>68</td>\n      <td>92</td>\n    </tr>\n  </tbody>\n</table>\n</div>"
     },
     "metadata": {}
    }
   ]
  },
  {
   "cell_type": "markdown",
   "source": "As you can see, Manchester City and Liverppol have been protagonists of the most incredible seasons of this second decade. And its last dispute for the Premier League took place in the 2021/22 season, where Manchester City ran the risk of losing the championship after having tied against Crystal Palace by the 29th date, which allowed the distance to be reduced to just one point. And as in that 2018/19 season, this points difference remained during the las 10 dates, but for the third consecutive time City again left with the desire to Liverpool.",
   "metadata": {
    "cell_id": "b33c33e11ffc4aa69bbf42a4906bb033",
    "tags": [],
    "deepnote_cell_type": "markdown",
    "deepnote_cell_height": 279
   }
  },
  {
   "cell_type": "markdown",
   "source": "<a style='text-decoration:none;line-height:16px;display:flex;color:#5B5B62;padding:10px;justify-content:end;' href='https://deepnote.com?utm_source=created-in-deepnote-cell&projectId=25a02e7e-55cf-475b-8f35-4cb85c25603c' target=\"_blank\">\n<img alt='Created in deepnote.com' style='display:inline;max-height:16px;margin:0px;margin-right:7.5px;' src='data:image/svg+xml;base64,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' > </img>\nCreated in <span style='font-weight:600;margin-left:4px;'>Deepnote</span></a>",
   "metadata": {
    "tags": [],
    "created_in_deepnote_cell": true,
    "deepnote_cell_type": "markdown"
   }
  }
 ],
 "nbformat": 4,
 "nbformat_minor": 2,
 "metadata": {
  "orig_nbformat": 2,
  "deepnote": {},
  "deepnote_notebook_id": "79571019-991d-4007-9ff2-bb07407e3dd7",
  "deepnote_execution_queue": []
 }
}